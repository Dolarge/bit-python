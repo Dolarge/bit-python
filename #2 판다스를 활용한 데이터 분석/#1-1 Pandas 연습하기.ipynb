{
 "cells": [
  {
   "cell_type": "markdown",
   "metadata": {},
   "source": [
    "# 파이썬을 이용한 데이터 분석은 pandas 사용빈도가 굉장히 높습니다.\n",
    "pandas에서 데이터를 다루기 위한 테이블을 **DataFrame**이라고 합니다. DataFrame이란, 데이터의 모음"
   ]
  },
  {
   "cell_type": "code",
   "execution_count": 3,
   "metadata": {},
   "outputs": [],
   "source": [
    "import pandas as pd # pandas 모듈 불러오기\n",
    "import numpy as np # numpy 모듈 불러오기. 통계, 수식 등등 수학적인 계산이 필요할 때 사용할 수 있다."
   ]
  },
  {
   "cell_type": "markdown",
   "metadata": {},
   "source": [
    "# Series는 DataFrame의 최소단위입니다.\n",
    "파이썬의 list를 Series로 만들어 볼 수 있다."
   ]
  },
  {
   "cell_type": "code",
   "execution_count": 4,
   "metadata": {},
   "outputs": [
    {
     "data": {
      "text/plain": [
       "pandas.core.series.Series"
      ]
     },
     "execution_count": 4,
     "metadata": {},
     "output_type": "execute_result"
    }
   ],
   "source": [
    "s = pd.Series([1, 2, 3, np.nan, 6, 7]) # NaN, nan -> not a number ( 숫자가 아닌 자료형 -> 숫자계의 null )\n",
    "type(s)"
   ]
  },
  {
   "cell_type": "code",
   "execution_count": 5,
   "metadata": {},
   "outputs": [
    {
     "data": {
      "text/plain": [
       "0    1.0\n",
       "1    2.0\n",
       "2    3.0\n",
       "3    NaN\n",
       "4    6.0\n",
       "5    7.0\n",
       "dtype: float64"
      ]
     },
     "execution_count": 5,
     "metadata": {},
     "output_type": "execute_result"
    }
   ],
   "source": [
    "s"
   ]
  },
  {
   "cell_type": "markdown",
   "metadata": {},
   "source": [
    "기본적으로 numpy 배열은 실수만을 다룹니다. 정수 형태의 데이터를 다루려면 특별한 처리가 필요해요"
   ]
  },
  {
   "cell_type": "markdown",
   "metadata": {},
   "source": [
    "# 날짜 데이터 다루기\n",
    "**date_range**를 사용해서 손쉽게 날짜 데이터를 생성할 수 있습니다. 보통 시계열 분석을 위해 날짜 데이터를 많이 사용한다.\n",
    "\n",
    "* 시계열 분석 : 시간의 흐름에 따라서 데이터가 어떻게 변화될지 예측 및 분석 하는 것"
   ]
  },
  {
   "cell_type": "code",
   "execution_count": 6,
   "metadata": {},
   "outputs": [
    {
     "data": {
      "text/plain": [
       "DatetimeIndex(['2020-07-09', '2020-07-10', '2020-07-11', '2020-07-12',\n",
       "               '2020-07-13'],\n",
       "              dtype='datetime64[ns]', freq='D')"
      ]
     },
     "execution_count": 6,
     "metadata": {},
     "output_type": "execute_result"
    }
   ],
   "source": [
    "dates = pd.date_range('20200709', periods=5) # 2020-07-09일 부터 5일간의 날짜를 생성\n",
    "dates"
   ]
  },
  {
   "cell_type": "markdown",
   "metadata": {},
   "source": [
    "# 데이터 프레임 만들어 보기\n",
    "\n",
    "* 첫 번째 인자에는 데이터 프레임을 채울 데이터를 입력한다. ( 2차원 배열로 )\n",
    "* index 인자 : 데이터 프레임의 인덱스로 지정할 값을 지정 ( 1 차원 배열 )\n",
    "* columns 인자 : 데이터 프레임에서 사용할 컬럼들을 지정 ( 1차원 배열 )"
   ]
  },
  {
   "cell_type": "code",
   "execution_count": 7,
   "metadata": {},
   "outputs": [
    {
     "data": {
      "text/html": [
       "<div>\n",
       "<style scoped>\n",
       "    .dataframe tbody tr th:only-of-type {\n",
       "        vertical-align: middle;\n",
       "    }\n",
       "\n",
       "    .dataframe tbody tr th {\n",
       "        vertical-align: top;\n",
       "    }\n",
       "\n",
       "    .dataframe thead th {\n",
       "        text-align: right;\n",
       "    }\n",
       "</style>\n",
       "<table border=\"1\" class=\"dataframe\">\n",
       "  <thead>\n",
       "    <tr style=\"text-align: right;\">\n",
       "      <th></th>\n",
       "      <th>A</th>\n",
       "      <th>B</th>\n",
       "      <th>C</th>\n",
       "      <th>D</th>\n",
       "    </tr>\n",
       "  </thead>\n",
       "  <tbody>\n",
       "    <tr>\n",
       "      <th>2020-07-09</th>\n",
       "      <td>1.131003</td>\n",
       "      <td>-1.428743</td>\n",
       "      <td>-1.562136</td>\n",
       "      <td>1.292173</td>\n",
       "    </tr>\n",
       "    <tr>\n",
       "      <th>2020-07-10</th>\n",
       "      <td>1.942113</td>\n",
       "      <td>-0.484246</td>\n",
       "      <td>-0.638399</td>\n",
       "      <td>0.217717</td>\n",
       "    </tr>\n",
       "    <tr>\n",
       "      <th>2020-07-11</th>\n",
       "      <td>0.480477</td>\n",
       "      <td>1.191977</td>\n",
       "      <td>0.160117</td>\n",
       "      <td>-1.588990</td>\n",
       "    </tr>\n",
       "    <tr>\n",
       "      <th>2020-07-12</th>\n",
       "      <td>-0.785944</td>\n",
       "      <td>-0.278663</td>\n",
       "      <td>-1.048295</td>\n",
       "      <td>-0.210394</td>\n",
       "    </tr>\n",
       "    <tr>\n",
       "      <th>2020-07-13</th>\n",
       "      <td>1.206647</td>\n",
       "      <td>-0.567838</td>\n",
       "      <td>-1.036765</td>\n",
       "      <td>-1.651573</td>\n",
       "    </tr>\n",
       "  </tbody>\n",
       "</table>\n",
       "</div>"
      ],
      "text/plain": [
       "                   A         B         C         D\n",
       "2020-07-09  1.131003 -1.428743 -1.562136  1.292173\n",
       "2020-07-10  1.942113 -0.484246 -0.638399  0.217717\n",
       "2020-07-11  0.480477  1.191977  0.160117 -1.588990\n",
       "2020-07-12 -0.785944 -0.278663 -1.048295 -0.210394\n",
       "2020-07-13  1.206647 -0.567838 -1.036765 -1.651573"
      ]
     },
     "execution_count": 7,
     "metadata": {},
     "output_type": "execute_result"
    }
   ],
   "source": [
    "df = pd.DataFrame( np.random.randn(5, 4), # 첫 번째 인자에는 데이터프레임에 채울 데이터 ( 2차월 배열 ) -> 랜덤한 숫자를 5행 4열로 채우기\n",
    "                   index = dates, # 인덱스 지정하기, 행의 개수와 인덱스의 개수는 언제나 일치해야 한다.\n",
    "                   columns = ['A', 'B', 'C', 'D'] # 데이터의 열의 개수와 일치해야 한다.\n",
    ")\n",
    "df.head()"
   ]
  },
  {
   "cell_type": "markdown",
   "metadata": {},
   "source": [
    "* head 메소드는 데이터프레임의 0번째 행부터 몇개를 볼지를 지정한다. ( 일부만 확인 )\n",
    "* tail 메소드는 데이터프레임의 마지막 행부터 몇개를 볼지를 지정한다. ( head와 반대 )"
   ]
  },
  {
   "cell_type": "code",
   "execution_count": 8,
   "metadata": {},
   "outputs": [
    {
     "data": {
      "text/html": [
       "<div>\n",
       "<style scoped>\n",
       "    .dataframe tbody tr th:only-of-type {\n",
       "        vertical-align: middle;\n",
       "    }\n",
       "\n",
       "    .dataframe tbody tr th {\n",
       "        vertical-align: top;\n",
       "    }\n",
       "\n",
       "    .dataframe thead th {\n",
       "        text-align: right;\n",
       "    }\n",
       "</style>\n",
       "<table border=\"1\" class=\"dataframe\">\n",
       "  <thead>\n",
       "    <tr style=\"text-align: right;\">\n",
       "      <th></th>\n",
       "      <th>A</th>\n",
       "      <th>B</th>\n",
       "      <th>C</th>\n",
       "      <th>D</th>\n",
       "    </tr>\n",
       "  </thead>\n",
       "  <tbody>\n",
       "    <tr>\n",
       "      <th>2020-07-09</th>\n",
       "      <td>1.131003</td>\n",
       "      <td>-1.428743</td>\n",
       "      <td>-1.562136</td>\n",
       "      <td>1.292173</td>\n",
       "    </tr>\n",
       "    <tr>\n",
       "      <th>2020-07-10</th>\n",
       "      <td>1.942113</td>\n",
       "      <td>-0.484246</td>\n",
       "      <td>-0.638399</td>\n",
       "      <td>0.217717</td>\n",
       "    </tr>\n",
       "    <tr>\n",
       "      <th>2020-07-11</th>\n",
       "      <td>0.480477</td>\n",
       "      <td>1.191977</td>\n",
       "      <td>0.160117</td>\n",
       "      <td>-1.588990</td>\n",
       "    </tr>\n",
       "  </tbody>\n",
       "</table>\n",
       "</div>"
      ],
      "text/plain": [
       "                   A         B         C         D\n",
       "2020-07-09  1.131003 -1.428743 -1.562136  1.292173\n",
       "2020-07-10  1.942113 -0.484246 -0.638399  0.217717\n",
       "2020-07-11  0.480477  1.191977  0.160117 -1.588990"
      ]
     },
     "execution_count": 8,
     "metadata": {},
     "output_type": "execute_result"
    }
   ],
   "source": [
    "df.head(3)"
   ]
  },
  {
   "cell_type": "markdown",
   "metadata": {},
   "source": [
    "index란 -> 행을 대표하는 데이터. 즉 중복이 되면 안되는 데이터 rdbms의 primary key의 역할을 한다."
   ]
  },
  {
   "cell_type": "markdown",
   "metadata": {},
   "source": [
    "# 데이터 프레임의 각종 정보 확인하기\n",
    "* index : 데이터 프레임의 인덱스 확인하기\n",
    "* columns : 데이터 프레임의 컬럼 이름 확인하기\n",
    "* values : 데이터 프레임의 모든 값을 확인\n",
    "* info() : 데이터 프레임에 대한 간단한 개요 확인하기"
   ]
  },
  {
   "cell_type": "code",
   "execution_count": 9,
   "metadata": {},
   "outputs": [
    {
     "data": {
      "text/plain": [
       "DatetimeIndex(['2020-07-09', '2020-07-10', '2020-07-11', '2020-07-12',\n",
       "               '2020-07-13'],\n",
       "              dtype='datetime64[ns]', freq='D')"
      ]
     },
     "execution_count": 9,
     "metadata": {},
     "output_type": "execute_result"
    }
   ],
   "source": [
    "df.index"
   ]
  },
  {
   "cell_type": "code",
   "execution_count": 10,
   "metadata": {},
   "outputs": [
    {
     "data": {
      "text/plain": [
       "Index(['A', 'B', 'C', 'D'], dtype='object')"
      ]
     },
     "execution_count": 10,
     "metadata": {},
     "output_type": "execute_result"
    }
   ],
   "source": [
    "df.columns"
   ]
  },
  {
   "cell_type": "code",
   "execution_count": 11,
   "metadata": {},
   "outputs": [
    {
     "data": {
      "text/plain": [
       "array([[ 1.13100258, -1.42874285, -1.56213553,  1.29217295],\n",
       "       [ 1.94211329, -0.48424579, -0.63839929,  0.21771743],\n",
       "       [ 0.48047737,  1.19197729,  0.1601174 , -1.58899023],\n",
       "       [-0.78594429, -0.27866295, -1.04829521, -0.21039374],\n",
       "       [ 1.20664663, -0.56783845, -1.03676503, -1.65157292]])"
      ]
     },
     "execution_count": 11,
     "metadata": {},
     "output_type": "execute_result"
    }
   ],
   "source": [
    "df.values"
   ]
  },
  {
   "cell_type": "code",
   "execution_count": 15,
   "metadata": {},
   "outputs": [
    {
     "data": {
      "text/plain": [
       "(5, 4)"
      ]
     },
     "execution_count": 15,
     "metadata": {},
     "output_type": "execute_result"
    }
   ],
   "source": [
    "df.values.shape # 배열의 모양 확인하기"
   ]
  },
  {
   "cell_type": "code",
   "execution_count": 16,
   "metadata": {},
   "outputs": [
    {
     "name": "stdout",
     "output_type": "stream",
     "text": [
      "<class 'pandas.core.frame.DataFrame'>\n",
      "DatetimeIndex: 5 entries, 2020-07-09 to 2020-07-13\n",
      "Freq: D\n",
      "Data columns (total 4 columns):\n",
      " #   Column  Non-Null Count  Dtype  \n",
      "---  ------  --------------  -----  \n",
      " 0   A       5 non-null      float64\n",
      " 1   B       5 non-null      float64\n",
      " 2   C       5 non-null      float64\n",
      " 3   D       5 non-null      float64\n",
      "dtypes: float64(4)\n",
      "memory usage: 200.0 bytes\n"
     ]
    }
   ],
   "source": [
    "df.info()"
   ]
  },
  {
   "cell_type": "markdown",
   "metadata": {},
   "source": [
    "info() 사용하는 시점\n",
    "* RDBMS나 excel, csv 등에서 가지고온 데이터는 내가 원하는 타입이 아닐 수도 있어요.\n",
    "* 나는 숫자 데이터를 가지고온거 같은데 가지고 와서 보니까 문자열인 경우도 종종 있다.\n"
   ]
  },
  {
   "cell_type": "code",
   "execution_count": 17,
   "metadata": {
    "scrolled": true
   },
   "outputs": [
    {
     "data": {
      "text/html": [
       "<div>\n",
       "<style scoped>\n",
       "    .dataframe tbody tr th:only-of-type {\n",
       "        vertical-align: middle;\n",
       "    }\n",
       "\n",
       "    .dataframe tbody tr th {\n",
       "        vertical-align: top;\n",
       "    }\n",
       "\n",
       "    .dataframe thead th {\n",
       "        text-align: right;\n",
       "    }\n",
       "</style>\n",
       "<table border=\"1\" class=\"dataframe\">\n",
       "  <thead>\n",
       "    <tr style=\"text-align: right;\">\n",
       "      <th></th>\n",
       "      <th>A</th>\n",
       "      <th>B</th>\n",
       "      <th>C</th>\n",
       "      <th>D</th>\n",
       "    </tr>\n",
       "  </thead>\n",
       "  <tbody>\n",
       "    <tr>\n",
       "      <th>count</th>\n",
       "      <td>5.000000</td>\n",
       "      <td>5.000000</td>\n",
       "      <td>5.000000</td>\n",
       "      <td>5.000000</td>\n",
       "    </tr>\n",
       "    <tr>\n",
       "      <th>mean</th>\n",
       "      <td>0.794859</td>\n",
       "      <td>-0.313503</td>\n",
       "      <td>-0.825096</td>\n",
       "      <td>-0.388213</td>\n",
       "    </tr>\n",
       "    <tr>\n",
       "      <th>std</th>\n",
       "      <td>1.024272</td>\n",
       "      <td>0.949379</td>\n",
       "      <td>0.640966</td>\n",
       "      <td>1.251041</td>\n",
       "    </tr>\n",
       "    <tr>\n",
       "      <th>min</th>\n",
       "      <td>-0.785944</td>\n",
       "      <td>-1.428743</td>\n",
       "      <td>-1.562136</td>\n",
       "      <td>-1.651573</td>\n",
       "    </tr>\n",
       "    <tr>\n",
       "      <th>25%</th>\n",
       "      <td>0.480477</td>\n",
       "      <td>-0.567838</td>\n",
       "      <td>-1.048295</td>\n",
       "      <td>-1.588990</td>\n",
       "    </tr>\n",
       "    <tr>\n",
       "      <th>50%</th>\n",
       "      <td>1.131003</td>\n",
       "      <td>-0.484246</td>\n",
       "      <td>-1.036765</td>\n",
       "      <td>-0.210394</td>\n",
       "    </tr>\n",
       "    <tr>\n",
       "      <th>75%</th>\n",
       "      <td>1.206647</td>\n",
       "      <td>-0.278663</td>\n",
       "      <td>-0.638399</td>\n",
       "      <td>0.217717</td>\n",
       "    </tr>\n",
       "    <tr>\n",
       "      <th>max</th>\n",
       "      <td>1.942113</td>\n",
       "      <td>1.191977</td>\n",
       "      <td>0.160117</td>\n",
       "      <td>1.292173</td>\n",
       "    </tr>\n",
       "  </tbody>\n",
       "</table>\n",
       "</div>"
      ],
      "text/plain": [
       "              A         B         C         D\n",
       "count  5.000000  5.000000  5.000000  5.000000\n",
       "mean   0.794859 -0.313503 -0.825096 -0.388213\n",
       "std    1.024272  0.949379  0.640966  1.251041\n",
       "min   -0.785944 -1.428743 -1.562136 -1.651573\n",
       "25%    0.480477 -0.567838 -1.048295 -1.588990\n",
       "50%    1.131003 -0.484246 -1.036765 -0.210394\n",
       "75%    1.206647 -0.278663 -0.638399  0.217717\n",
       "max    1.942113  1.191977  0.160117  1.292173"
      ]
     },
     "execution_count": 17,
     "metadata": {},
     "output_type": "execute_result"
    }
   ],
   "source": [
    "df.describe() # 통계적 개요 확인하기 -> 개수(count) 평균(mean) 최솟값(min) 최댓값(max) 표준편차(std), 사분위"
   ]
  },
  {
   "cell_type": "markdown",
   "metadata": {},
   "source": [
    "# 데이터 정렬\n",
    "sort_values 함수를 사용한다.\n",
    "\n",
    "* by : 정렬의 기준이 되는 컬럼의 이름\n",
    "* ascending : 내림차순(False), 오름차순(True)"
   ]
  },
  {
   "cell_type": "code",
   "execution_count": 19,
   "metadata": {},
   "outputs": [
    {
     "data": {
      "text/html": [
       "<div>\n",
       "<style scoped>\n",
       "    .dataframe tbody tr th:only-of-type {\n",
       "        vertical-align: middle;\n",
       "    }\n",
       "\n",
       "    .dataframe tbody tr th {\n",
       "        vertical-align: top;\n",
       "    }\n",
       "\n",
       "    .dataframe thead th {\n",
       "        text-align: right;\n",
       "    }\n",
       "</style>\n",
       "<table border=\"1\" class=\"dataframe\">\n",
       "  <thead>\n",
       "    <tr style=\"text-align: right;\">\n",
       "      <th></th>\n",
       "      <th>A</th>\n",
       "      <th>B</th>\n",
       "      <th>C</th>\n",
       "      <th>D</th>\n",
       "    </tr>\n",
       "  </thead>\n",
       "  <tbody>\n",
       "    <tr>\n",
       "      <th>2020-07-09</th>\n",
       "      <td>1.131003</td>\n",
       "      <td>-1.428743</td>\n",
       "      <td>-1.562136</td>\n",
       "      <td>1.292173</td>\n",
       "    </tr>\n",
       "    <tr>\n",
       "      <th>2020-07-13</th>\n",
       "      <td>1.206647</td>\n",
       "      <td>-0.567838</td>\n",
       "      <td>-1.036765</td>\n",
       "      <td>-1.651573</td>\n",
       "    </tr>\n",
       "    <tr>\n",
       "      <th>2020-07-10</th>\n",
       "      <td>1.942113</td>\n",
       "      <td>-0.484246</td>\n",
       "      <td>-0.638399</td>\n",
       "      <td>0.217717</td>\n",
       "    </tr>\n",
       "    <tr>\n",
       "      <th>2020-07-12</th>\n",
       "      <td>-0.785944</td>\n",
       "      <td>-0.278663</td>\n",
       "      <td>-1.048295</td>\n",
       "      <td>-0.210394</td>\n",
       "    </tr>\n",
       "    <tr>\n",
       "      <th>2020-07-11</th>\n",
       "      <td>0.480477</td>\n",
       "      <td>1.191977</td>\n",
       "      <td>0.160117</td>\n",
       "      <td>-1.588990</td>\n",
       "    </tr>\n",
       "  </tbody>\n",
       "</table>\n",
       "</div>"
      ],
      "text/plain": [
       "                   A         B         C         D\n",
       "2020-07-09  1.131003 -1.428743 -1.562136  1.292173\n",
       "2020-07-13  1.206647 -0.567838 -1.036765 -1.651573\n",
       "2020-07-10  1.942113 -0.484246 -0.638399  0.217717\n",
       "2020-07-12 -0.785944 -0.278663 -1.048295 -0.210394\n",
       "2020-07-11  0.480477  1.191977  0.160117 -1.588990"
      ]
     },
     "execution_count": 19,
     "metadata": {},
     "output_type": "execute_result"
    }
   ],
   "source": [
    "df.sort_values(by='B', ascending=True)"
   ]
  },
  {
   "cell_type": "markdown",
   "metadata": {},
   "source": [
    "# 데이터 선택\n",
    "일반 딕셔너리 사용하듯이 컬럼의 이름을 집어 넣으면 해당 컬럼의 시리즈(또는 데이터 프레임 형식으로)가 한꺼번에 선택이 된다."
   ]
  },
  {
   "cell_type": "code",
   "execution_count": 20,
   "metadata": {},
   "outputs": [
    {
     "data": {
      "text/plain": [
       "2020-07-09    1.131003\n",
       "2020-07-10    1.942113\n",
       "2020-07-11    0.480477\n",
       "2020-07-12   -0.785944\n",
       "2020-07-13    1.206647\n",
       "Freq: D, Name: A, dtype: float64"
      ]
     },
     "execution_count": 20,
     "metadata": {},
     "output_type": "execute_result"
    }
   ],
   "source": [
    "# 컬럼 하나만 선택해서 보는 경우\n",
    "df['A']"
   ]
  },
  {
   "cell_type": "code",
   "execution_count": 21,
   "metadata": {},
   "outputs": [
    {
     "data": {
      "text/html": [
       "<div>\n",
       "<style scoped>\n",
       "    .dataframe tbody tr th:only-of-type {\n",
       "        vertical-align: middle;\n",
       "    }\n",
       "\n",
       "    .dataframe tbody tr th {\n",
       "        vertical-align: top;\n",
       "    }\n",
       "\n",
       "    .dataframe thead th {\n",
       "        text-align: right;\n",
       "    }\n",
       "</style>\n",
       "<table border=\"1\" class=\"dataframe\">\n",
       "  <thead>\n",
       "    <tr style=\"text-align: right;\">\n",
       "      <th></th>\n",
       "      <th>A</th>\n",
       "      <th>C</th>\n",
       "    </tr>\n",
       "  </thead>\n",
       "  <tbody>\n",
       "    <tr>\n",
       "      <th>2020-07-09</th>\n",
       "      <td>1.131003</td>\n",
       "      <td>-1.562136</td>\n",
       "    </tr>\n",
       "    <tr>\n",
       "      <th>2020-07-10</th>\n",
       "      <td>1.942113</td>\n",
       "      <td>-0.638399</td>\n",
       "    </tr>\n",
       "    <tr>\n",
       "      <th>2020-07-11</th>\n",
       "      <td>0.480477</td>\n",
       "      <td>0.160117</td>\n",
       "    </tr>\n",
       "    <tr>\n",
       "      <th>2020-07-12</th>\n",
       "      <td>-0.785944</td>\n",
       "      <td>-1.048295</td>\n",
       "    </tr>\n",
       "    <tr>\n",
       "      <th>2020-07-13</th>\n",
       "      <td>1.206647</td>\n",
       "      <td>-1.036765</td>\n",
       "    </tr>\n",
       "  </tbody>\n",
       "</table>\n",
       "</div>"
      ],
      "text/plain": [
       "                   A         C\n",
       "2020-07-09  1.131003 -1.562136\n",
       "2020-07-10  1.942113 -0.638399\n",
       "2020-07-11  0.480477  0.160117\n",
       "2020-07-12 -0.785944 -1.048295\n",
       "2020-07-13  1.206647 -1.036765"
      ]
     },
     "execution_count": 21,
     "metadata": {},
     "output_type": "execute_result"
    }
   ],
   "source": [
    "# 여러개의 컬럼을 동시 선택\n",
    "cols = ['A','C'] # 리스트 형식으로 선택할 컬럼을 만든다.\n",
    "df[cols]\n",
    "\n",
    "#df[['A','C']]"
   ]
  },
  {
   "cell_type": "markdown",
   "metadata": {},
   "source": [
    "# 슬라이스 기법을 활용해서 범위 데이터 추출\n",
    "slice( [ start : end : step ] ) "
   ]
  },
  {
   "cell_type": "code",
   "execution_count": 22,
   "metadata": {
    "scrolled": true
   },
   "outputs": [
    {
     "data": {
      "text/html": [
       "<div>\n",
       "<style scoped>\n",
       "    .dataframe tbody tr th:only-of-type {\n",
       "        vertical-align: middle;\n",
       "    }\n",
       "\n",
       "    .dataframe tbody tr th {\n",
       "        vertical-align: top;\n",
       "    }\n",
       "\n",
       "    .dataframe thead th {\n",
       "        text-align: right;\n",
       "    }\n",
       "</style>\n",
       "<table border=\"1\" class=\"dataframe\">\n",
       "  <thead>\n",
       "    <tr style=\"text-align: right;\">\n",
       "      <th></th>\n",
       "      <th>A</th>\n",
       "      <th>B</th>\n",
       "      <th>C</th>\n",
       "      <th>D</th>\n",
       "    </tr>\n",
       "  </thead>\n",
       "  <tbody>\n",
       "    <tr>\n",
       "      <th>2020-07-09</th>\n",
       "      <td>1.131003</td>\n",
       "      <td>-1.428743</td>\n",
       "      <td>-1.562136</td>\n",
       "      <td>1.292173</td>\n",
       "    </tr>\n",
       "    <tr>\n",
       "      <th>2020-07-10</th>\n",
       "      <td>1.942113</td>\n",
       "      <td>-0.484246</td>\n",
       "      <td>-0.638399</td>\n",
       "      <td>0.217717</td>\n",
       "    </tr>\n",
       "    <tr>\n",
       "      <th>2020-07-11</th>\n",
       "      <td>0.480477</td>\n",
       "      <td>1.191977</td>\n",
       "      <td>0.160117</td>\n",
       "      <td>-1.588990</td>\n",
       "    </tr>\n",
       "  </tbody>\n",
       "</table>\n",
       "</div>"
      ],
      "text/plain": [
       "                   A         B         C         D\n",
       "2020-07-09  1.131003 -1.428743 -1.562136  1.292173\n",
       "2020-07-10  1.942113 -0.484246 -0.638399  0.217717\n",
       "2020-07-11  0.480477  1.191977  0.160117 -1.588990"
      ]
     },
     "execution_count": 22,
     "metadata": {},
     "output_type": "execute_result"
    }
   ],
   "source": [
    "# offset을 사용하면 행 범위를 지정 하는 것\n",
    "df[0 : 3] # 0 ~ 2 까지 출력"
   ]
  },
  {
   "cell_type": "code",
   "execution_count": 23,
   "metadata": {},
   "outputs": [
    {
     "data": {
      "text/html": [
       "<div>\n",
       "<style scoped>\n",
       "    .dataframe tbody tr th:only-of-type {\n",
       "        vertical-align: middle;\n",
       "    }\n",
       "\n",
       "    .dataframe tbody tr th {\n",
       "        vertical-align: top;\n",
       "    }\n",
       "\n",
       "    .dataframe thead th {\n",
       "        text-align: right;\n",
       "    }\n",
       "</style>\n",
       "<table border=\"1\" class=\"dataframe\">\n",
       "  <thead>\n",
       "    <tr style=\"text-align: right;\">\n",
       "      <th></th>\n",
       "      <th>A</th>\n",
       "      <th>B</th>\n",
       "      <th>C</th>\n",
       "      <th>D</th>\n",
       "    </tr>\n",
       "  </thead>\n",
       "  <tbody>\n",
       "    <tr>\n",
       "      <th>2020-07-11</th>\n",
       "      <td>0.480477</td>\n",
       "      <td>1.191977</td>\n",
       "      <td>0.160117</td>\n",
       "      <td>-1.588990</td>\n",
       "    </tr>\n",
       "    <tr>\n",
       "      <th>2020-07-12</th>\n",
       "      <td>-0.785944</td>\n",
       "      <td>-0.278663</td>\n",
       "      <td>-1.048295</td>\n",
       "      <td>-0.210394</td>\n",
       "    </tr>\n",
       "    <tr>\n",
       "      <th>2020-07-13</th>\n",
       "      <td>1.206647</td>\n",
       "      <td>-0.567838</td>\n",
       "      <td>-1.036765</td>\n",
       "      <td>-1.651573</td>\n",
       "    </tr>\n",
       "  </tbody>\n",
       "</table>\n",
       "</div>"
      ],
      "text/plain": [
       "                   A         B         C         D\n",
       "2020-07-11  0.480477  1.191977  0.160117 -1.588990\n",
       "2020-07-12 -0.785944 -0.278663 -1.048295 -0.210394\n",
       "2020-07-13  1.206647 -0.567838 -1.036765 -1.651573"
      ]
     },
     "execution_count": 23,
     "metadata": {},
     "output_type": "execute_result"
    }
   ],
   "source": [
    "# index를 사용해서 행 범위를 지정 하기\n",
    "df['20200711':'20200713']"
   ]
  },
  {
   "cell_type": "markdown",
   "metadata": {},
   "source": [
    "# 특정 위치에 있는 데이터를 확인하기 ★★★★★ 중요하다!\n",
    "* loc를 활용\n",
    "* 행과 열을 동시에 선택할 수 있다.\n",
    "* loc[ 행 선택(조건), 열 선택 ] )\n"
   ]
  },
  {
   "cell_type": "code",
   "execution_count": 24,
   "metadata": {},
   "outputs": [
    {
     "data": {
      "text/plain": [
       "A    1.131003\n",
       "B   -1.428743\n",
       "C   -1.562136\n",
       "D    1.292173\n",
       "Name: 2020-07-09 00:00:00, dtype: float64"
      ]
     },
     "execution_count": 24,
     "metadata": {},
     "output_type": "execute_result"
    }
   ],
   "source": [
    "df.loc['20200709']"
   ]
  },
  {
   "cell_type": "markdown",
   "metadata": {},
   "source": [
    "loc를 사용해서 A, C 컬럼만 확인 df[['A','C']]"
   ]
  },
  {
   "cell_type": "code",
   "execution_count": 30,
   "metadata": {},
   "outputs": [
    {
     "data": {
      "text/html": [
       "<div>\n",
       "<style scoped>\n",
       "    .dataframe tbody tr th:only-of-type {\n",
       "        vertical-align: middle;\n",
       "    }\n",
       "\n",
       "    .dataframe tbody tr th {\n",
       "        vertical-align: top;\n",
       "    }\n",
       "\n",
       "    .dataframe thead th {\n",
       "        text-align: right;\n",
       "    }\n",
       "</style>\n",
       "<table border=\"1\" class=\"dataframe\">\n",
       "  <thead>\n",
       "    <tr style=\"text-align: right;\">\n",
       "      <th></th>\n",
       "      <th>A</th>\n",
       "      <th>C</th>\n",
       "    </tr>\n",
       "  </thead>\n",
       "  <tbody>\n",
       "    <tr>\n",
       "      <th>2020-07-09</th>\n",
       "      <td>1.131003</td>\n",
       "      <td>-1.562136</td>\n",
       "    </tr>\n",
       "    <tr>\n",
       "      <th>2020-07-10</th>\n",
       "      <td>1.942113</td>\n",
       "      <td>-0.638399</td>\n",
       "    </tr>\n",
       "    <tr>\n",
       "      <th>2020-07-11</th>\n",
       "      <td>0.480477</td>\n",
       "      <td>0.160117</td>\n",
       "    </tr>\n",
       "    <tr>\n",
       "      <th>2020-07-12</th>\n",
       "      <td>-0.785944</td>\n",
       "      <td>-1.048295</td>\n",
       "    </tr>\n",
       "    <tr>\n",
       "      <th>2020-07-13</th>\n",
       "      <td>1.206647</td>\n",
       "      <td>-1.036765</td>\n",
       "    </tr>\n",
       "  </tbody>\n",
       "</table>\n",
       "</div>"
      ],
      "text/plain": [
       "                   A         C\n",
       "2020-07-09  1.131003 -1.562136\n",
       "2020-07-10  1.942113 -0.638399\n",
       "2020-07-11  0.480477  0.160117\n",
       "2020-07-12 -0.785944 -1.048295\n",
       "2020-07-13  1.206647 -1.036765"
      ]
     },
     "execution_count": 30,
     "metadata": {},
     "output_type": "execute_result"
    }
   ],
   "source": [
    "df.loc[ : # : 을 기준으로 지정된 정보가 없다 -> 전체 행\n",
    "       , ['A','C']]"
   ]
  },
  {
   "cell_type": "code",
   "execution_count": 32,
   "metadata": {},
   "outputs": [
    {
     "data": {
      "text/html": [
       "<div>\n",
       "<style scoped>\n",
       "    .dataframe tbody tr th:only-of-type {\n",
       "        vertical-align: middle;\n",
       "    }\n",
       "\n",
       "    .dataframe tbody tr th {\n",
       "        vertical-align: top;\n",
       "    }\n",
       "\n",
       "    .dataframe thead th {\n",
       "        text-align: right;\n",
       "    }\n",
       "</style>\n",
       "<table border=\"1\" class=\"dataframe\">\n",
       "  <thead>\n",
       "    <tr style=\"text-align: right;\">\n",
       "      <th></th>\n",
       "      <th>A</th>\n",
       "      <th>D</th>\n",
       "    </tr>\n",
       "  </thead>\n",
       "  <tbody>\n",
       "    <tr>\n",
       "      <th>2020-07-09</th>\n",
       "      <td>1.131003</td>\n",
       "      <td>1.292173</td>\n",
       "    </tr>\n",
       "    <tr>\n",
       "      <th>2020-07-10</th>\n",
       "      <td>1.942113</td>\n",
       "      <td>0.217717</td>\n",
       "    </tr>\n",
       "    <tr>\n",
       "      <th>2020-07-11</th>\n",
       "      <td>0.480477</td>\n",
       "      <td>-1.588990</td>\n",
       "    </tr>\n",
       "  </tbody>\n",
       "</table>\n",
       "</div>"
      ],
      "text/plain": [
       "                   A         D\n",
       "2020-07-09  1.131003  1.292173\n",
       "2020-07-10  1.942113  0.217717\n",
       "2020-07-11  0.480477 -1.588990"
      ]
     },
     "execution_count": 32,
     "metadata": {},
     "output_type": "execute_result"
    }
   ],
   "source": [
    "# 20200709 ~ 20200711일 까지의 A, D 데이터를 보고 싶다.\n",
    "# 날짜는 행을 의미하고, A, D 열을 의미한다.\n",
    "\n",
    "df.loc['20200709':'20200711', # 행 선택 부분\n",
    "       ['A','D'] # 열 선택 부분\n",
    "      ]"
   ]
  },
  {
   "cell_type": "code",
   "execution_count": 35,
   "metadata": {},
   "outputs": [
    {
     "data": {
      "text/plain": [
       "A    1.206647\n",
       "D   -1.651573\n",
       "Name: 2020-07-13 00:00:00, dtype: float64"
      ]
     },
     "execution_count": 35,
     "metadata": {},
     "output_type": "execute_result"
    }
   ],
   "source": [
    "# 20200713일의 A 데이터만 보고 싶다\n",
    "df.loc['20200713',['A', 'D']]"
   ]
  },
  {
   "cell_type": "markdown",
   "metadata": {},
   "source": [
    "# 특정 조건을 만족시키는 데이터를 얻어내는 방법 ★★★★★\n",
    "데이터 전처리를 할 때 누락값이나 NaN값 등 잘못된 데이터를 처리하기 위해 반드시 필요한 문법"
   ]
  },
  {
   "cell_type": "markdown",
   "metadata": {},
   "source": [
    "### 1. 특정 컬럼 선택을 통해 해당 컬럼을 기준으로 데이터 산출하기"
   ]
  },
  {
   "cell_type": "code",
   "execution_count": 39,
   "metadata": {},
   "outputs": [
    {
     "data": {
      "text/html": [
       "<div>\n",
       "<style scoped>\n",
       "    .dataframe tbody tr th:only-of-type {\n",
       "        vertical-align: middle;\n",
       "    }\n",
       "\n",
       "    .dataframe tbody tr th {\n",
       "        vertical-align: top;\n",
       "    }\n",
       "\n",
       "    .dataframe thead th {\n",
       "        text-align: right;\n",
       "    }\n",
       "</style>\n",
       "<table border=\"1\" class=\"dataframe\">\n",
       "  <thead>\n",
       "    <tr style=\"text-align: right;\">\n",
       "      <th></th>\n",
       "      <th>A</th>\n",
       "      <th>B</th>\n",
       "      <th>C</th>\n",
       "      <th>D</th>\n",
       "    </tr>\n",
       "  </thead>\n",
       "  <tbody>\n",
       "    <tr>\n",
       "      <th>2020-07-09</th>\n",
       "      <td>1.131003</td>\n",
       "      <td>-1.428743</td>\n",
       "      <td>-1.562136</td>\n",
       "      <td>1.292173</td>\n",
       "    </tr>\n",
       "    <tr>\n",
       "      <th>2020-07-10</th>\n",
       "      <td>1.942113</td>\n",
       "      <td>-0.484246</td>\n",
       "      <td>-0.638399</td>\n",
       "      <td>0.217717</td>\n",
       "    </tr>\n",
       "    <tr>\n",
       "      <th>2020-07-11</th>\n",
       "      <td>0.480477</td>\n",
       "      <td>1.191977</td>\n",
       "      <td>0.160117</td>\n",
       "      <td>-1.588990</td>\n",
       "    </tr>\n",
       "    <tr>\n",
       "      <th>2020-07-12</th>\n",
       "      <td>-0.785944</td>\n",
       "      <td>-0.278663</td>\n",
       "      <td>-1.048295</td>\n",
       "      <td>-0.210394</td>\n",
       "    </tr>\n",
       "    <tr>\n",
       "      <th>2020-07-13</th>\n",
       "      <td>1.206647</td>\n",
       "      <td>-0.567838</td>\n",
       "      <td>-1.036765</td>\n",
       "      <td>-1.651573</td>\n",
       "    </tr>\n",
       "  </tbody>\n",
       "</table>\n",
       "</div>"
      ],
      "text/plain": [
       "                   A         B         C         D\n",
       "2020-07-09  1.131003 -1.428743 -1.562136  1.292173\n",
       "2020-07-10  1.942113 -0.484246 -0.638399  0.217717\n",
       "2020-07-11  0.480477  1.191977  0.160117 -1.588990\n",
       "2020-07-12 -0.785944 -0.278663 -1.048295 -0.210394\n",
       "2020-07-13  1.206647 -0.567838 -1.036765 -1.651573"
      ]
     },
     "execution_count": 39,
     "metadata": {},
     "output_type": "execute_result"
    }
   ],
   "source": [
    "df"
   ]
  },
  {
   "cell_type": "code",
   "execution_count": 40,
   "metadata": {
    "scrolled": true
   },
   "outputs": [
    {
     "data": {
      "text/html": [
       "<div>\n",
       "<style scoped>\n",
       "    .dataframe tbody tr th:only-of-type {\n",
       "        vertical-align: middle;\n",
       "    }\n",
       "\n",
       "    .dataframe tbody tr th {\n",
       "        vertical-align: top;\n",
       "    }\n",
       "\n",
       "    .dataframe thead th {\n",
       "        text-align: right;\n",
       "    }\n",
       "</style>\n",
       "<table border=\"1\" class=\"dataframe\">\n",
       "  <thead>\n",
       "    <tr style=\"text-align: right;\">\n",
       "      <th></th>\n",
       "      <th>A</th>\n",
       "      <th>B</th>\n",
       "      <th>C</th>\n",
       "      <th>D</th>\n",
       "    </tr>\n",
       "  </thead>\n",
       "  <tbody>\n",
       "    <tr>\n",
       "      <th>2020-07-09</th>\n",
       "      <td>1.131003</td>\n",
       "      <td>-1.428743</td>\n",
       "      <td>-1.562136</td>\n",
       "      <td>1.292173</td>\n",
       "    </tr>\n",
       "    <tr>\n",
       "      <th>2020-07-10</th>\n",
       "      <td>1.942113</td>\n",
       "      <td>-0.484246</td>\n",
       "      <td>-0.638399</td>\n",
       "      <td>0.217717</td>\n",
       "    </tr>\n",
       "  </tbody>\n",
       "</table>\n",
       "</div>"
      ],
      "text/plain": [
       "                   A         B         C         D\n",
       "2020-07-09  1.131003 -1.428743 -1.562136  1.292173\n",
       "2020-07-10  1.942113 -0.484246 -0.638399  0.217717"
      ]
     },
     "execution_count": 40,
     "metadata": {},
     "output_type": "execute_result"
    }
   ],
   "source": [
    "df[df['D'] > 0] # df에서 D 시리즈의 값이 0보다 큰 행들만 선택"
   ]
  },
  {
   "cell_type": "markdown",
   "metadata": {},
   "source": [
    "데이터 전체를 기준으로 조건을 걸면 조건에 맞지 않는 데이터는 NaN이 된다."
   ]
  },
  {
   "cell_type": "code",
   "execution_count": 41,
   "metadata": {},
   "outputs": [
    {
     "data": {
      "text/html": [
       "<div>\n",
       "<style scoped>\n",
       "    .dataframe tbody tr th:only-of-type {\n",
       "        vertical-align: middle;\n",
       "    }\n",
       "\n",
       "    .dataframe tbody tr th {\n",
       "        vertical-align: top;\n",
       "    }\n",
       "\n",
       "    .dataframe thead th {\n",
       "        text-align: right;\n",
       "    }\n",
       "</style>\n",
       "<table border=\"1\" class=\"dataframe\">\n",
       "  <thead>\n",
       "    <tr style=\"text-align: right;\">\n",
       "      <th></th>\n",
       "      <th>A</th>\n",
       "      <th>B</th>\n",
       "      <th>C</th>\n",
       "      <th>D</th>\n",
       "    </tr>\n",
       "  </thead>\n",
       "  <tbody>\n",
       "    <tr>\n",
       "      <th>2020-07-09</th>\n",
       "      <td>True</td>\n",
       "      <td>False</td>\n",
       "      <td>False</td>\n",
       "      <td>True</td>\n",
       "    </tr>\n",
       "    <tr>\n",
       "      <th>2020-07-10</th>\n",
       "      <td>True</td>\n",
       "      <td>False</td>\n",
       "      <td>False</td>\n",
       "      <td>True</td>\n",
       "    </tr>\n",
       "    <tr>\n",
       "      <th>2020-07-11</th>\n",
       "      <td>True</td>\n",
       "      <td>True</td>\n",
       "      <td>True</td>\n",
       "      <td>False</td>\n",
       "    </tr>\n",
       "    <tr>\n",
       "      <th>2020-07-12</th>\n",
       "      <td>False</td>\n",
       "      <td>False</td>\n",
       "      <td>False</td>\n",
       "      <td>False</td>\n",
       "    </tr>\n",
       "    <tr>\n",
       "      <th>2020-07-13</th>\n",
       "      <td>True</td>\n",
       "      <td>False</td>\n",
       "      <td>False</td>\n",
       "      <td>False</td>\n",
       "    </tr>\n",
       "  </tbody>\n",
       "</table>\n",
       "</div>"
      ],
      "text/plain": [
       "                A      B      C      D\n",
       "2020-07-09   True  False  False   True\n",
       "2020-07-10   True  False  False   True\n",
       "2020-07-11   True   True   True  False\n",
       "2020-07-12  False  False  False  False\n",
       "2020-07-13   True  False  False  False"
      ]
     },
     "execution_count": 41,
     "metadata": {},
     "output_type": "execute_result"
    }
   ],
   "source": [
    "df > 0"
   ]
  },
  {
   "cell_type": "code",
   "execution_count": 42,
   "metadata": {},
   "outputs": [
    {
     "data": {
      "text/html": [
       "<div>\n",
       "<style scoped>\n",
       "    .dataframe tbody tr th:only-of-type {\n",
       "        vertical-align: middle;\n",
       "    }\n",
       "\n",
       "    .dataframe tbody tr th {\n",
       "        vertical-align: top;\n",
       "    }\n",
       "\n",
       "    .dataframe thead th {\n",
       "        text-align: right;\n",
       "    }\n",
       "</style>\n",
       "<table border=\"1\" class=\"dataframe\">\n",
       "  <thead>\n",
       "    <tr style=\"text-align: right;\">\n",
       "      <th></th>\n",
       "      <th>A</th>\n",
       "      <th>B</th>\n",
       "      <th>C</th>\n",
       "      <th>D</th>\n",
       "    </tr>\n",
       "  </thead>\n",
       "  <tbody>\n",
       "    <tr>\n",
       "      <th>2020-07-09</th>\n",
       "      <td>1.131003</td>\n",
       "      <td>NaN</td>\n",
       "      <td>NaN</td>\n",
       "      <td>1.292173</td>\n",
       "    </tr>\n",
       "    <tr>\n",
       "      <th>2020-07-10</th>\n",
       "      <td>1.942113</td>\n",
       "      <td>NaN</td>\n",
       "      <td>NaN</td>\n",
       "      <td>0.217717</td>\n",
       "    </tr>\n",
       "    <tr>\n",
       "      <th>2020-07-11</th>\n",
       "      <td>0.480477</td>\n",
       "      <td>1.191977</td>\n",
       "      <td>0.160117</td>\n",
       "      <td>NaN</td>\n",
       "    </tr>\n",
       "    <tr>\n",
       "      <th>2020-07-12</th>\n",
       "      <td>NaN</td>\n",
       "      <td>NaN</td>\n",
       "      <td>NaN</td>\n",
       "      <td>NaN</td>\n",
       "    </tr>\n",
       "    <tr>\n",
       "      <th>2020-07-13</th>\n",
       "      <td>1.206647</td>\n",
       "      <td>NaN</td>\n",
       "      <td>NaN</td>\n",
       "      <td>NaN</td>\n",
       "    </tr>\n",
       "  </tbody>\n",
       "</table>\n",
       "</div>"
      ],
      "text/plain": [
       "                   A         B         C         D\n",
       "2020-07-09  1.131003       NaN       NaN  1.292173\n",
       "2020-07-10  1.942113       NaN       NaN  0.217717\n",
       "2020-07-11  0.480477  1.191977  0.160117       NaN\n",
       "2020-07-12       NaN       NaN       NaN       NaN\n",
       "2020-07-13  1.206647       NaN       NaN       NaN"
      ]
     },
     "execution_count": 42,
     "metadata": {},
     "output_type": "execute_result"
    }
   ],
   "source": [
    "df[df > 0]"
   ]
  },
  {
   "cell_type": "markdown",
   "metadata": {},
   "source": [
    "# 데이터 프레임 복사하기\n",
    "객체의 할당과 복사. copy, slice"
   ]
  },
  {
   "cell_type": "code",
   "execution_count": 44,
   "metadata": {},
   "outputs": [],
   "source": [
    "df2 = df.copy() # 데이터 프레임 자체를 전체 복사\n",
    "df2['E'] = ['one','one', 'two', 'three', 'four'] # 딕셔너리에서 없는 키값에 값을 넣으면 추가 되듯이, 데이터프레임도 마찬가지\n",
    "\n",
    "# 주의사항 : 새롭게 들어가는 데이터의 리스트는 반드시 데이터 프레임의 행의 개수와 일치해야 한다."
   ]
  },
  {
   "cell_type": "code",
   "execution_count": 45,
   "metadata": {},
   "outputs": [
    {
     "data": {
      "text/html": [
       "<div>\n",
       "<style scoped>\n",
       "    .dataframe tbody tr th:only-of-type {\n",
       "        vertical-align: middle;\n",
       "    }\n",
       "\n",
       "    .dataframe tbody tr th {\n",
       "        vertical-align: top;\n",
       "    }\n",
       "\n",
       "    .dataframe thead th {\n",
       "        text-align: right;\n",
       "    }\n",
       "</style>\n",
       "<table border=\"1\" class=\"dataframe\">\n",
       "  <thead>\n",
       "    <tr style=\"text-align: right;\">\n",
       "      <th></th>\n",
       "      <th>A</th>\n",
       "      <th>B</th>\n",
       "      <th>C</th>\n",
       "      <th>D</th>\n",
       "    </tr>\n",
       "  </thead>\n",
       "  <tbody>\n",
       "    <tr>\n",
       "      <th>2020-07-09</th>\n",
       "      <td>1.131003</td>\n",
       "      <td>-1.428743</td>\n",
       "      <td>-1.562136</td>\n",
       "      <td>1.292173</td>\n",
       "    </tr>\n",
       "    <tr>\n",
       "      <th>2020-07-10</th>\n",
       "      <td>1.942113</td>\n",
       "      <td>-0.484246</td>\n",
       "      <td>-0.638399</td>\n",
       "      <td>0.217717</td>\n",
       "    </tr>\n",
       "    <tr>\n",
       "      <th>2020-07-11</th>\n",
       "      <td>0.480477</td>\n",
       "      <td>1.191977</td>\n",
       "      <td>0.160117</td>\n",
       "      <td>-1.588990</td>\n",
       "    </tr>\n",
       "    <tr>\n",
       "      <th>2020-07-12</th>\n",
       "      <td>-0.785944</td>\n",
       "      <td>-0.278663</td>\n",
       "      <td>-1.048295</td>\n",
       "      <td>-0.210394</td>\n",
       "    </tr>\n",
       "    <tr>\n",
       "      <th>2020-07-13</th>\n",
       "      <td>1.206647</td>\n",
       "      <td>-0.567838</td>\n",
       "      <td>-1.036765</td>\n",
       "      <td>-1.651573</td>\n",
       "    </tr>\n",
       "  </tbody>\n",
       "</table>\n",
       "</div>"
      ],
      "text/plain": [
       "                   A         B         C         D\n",
       "2020-07-09  1.131003 -1.428743 -1.562136  1.292173\n",
       "2020-07-10  1.942113 -0.484246 -0.638399  0.217717\n",
       "2020-07-11  0.480477  1.191977  0.160117 -1.588990\n",
       "2020-07-12 -0.785944 -0.278663 -1.048295 -0.210394\n",
       "2020-07-13  1.206647 -0.567838 -1.036765 -1.651573"
      ]
     },
     "execution_count": 45,
     "metadata": {},
     "output_type": "execute_result"
    }
   ],
   "source": [
    "df"
   ]
  },
  {
   "cell_type": "code",
   "execution_count": 46,
   "metadata": {},
   "outputs": [
    {
     "data": {
      "text/html": [
       "<div>\n",
       "<style scoped>\n",
       "    .dataframe tbody tr th:only-of-type {\n",
       "        vertical-align: middle;\n",
       "    }\n",
       "\n",
       "    .dataframe tbody tr th {\n",
       "        vertical-align: top;\n",
       "    }\n",
       "\n",
       "    .dataframe thead th {\n",
       "        text-align: right;\n",
       "    }\n",
       "</style>\n",
       "<table border=\"1\" class=\"dataframe\">\n",
       "  <thead>\n",
       "    <tr style=\"text-align: right;\">\n",
       "      <th></th>\n",
       "      <th>A</th>\n",
       "      <th>B</th>\n",
       "      <th>C</th>\n",
       "      <th>D</th>\n",
       "      <th>E</th>\n",
       "    </tr>\n",
       "  </thead>\n",
       "  <tbody>\n",
       "    <tr>\n",
       "      <th>2020-07-09</th>\n",
       "      <td>1.131003</td>\n",
       "      <td>-1.428743</td>\n",
       "      <td>-1.562136</td>\n",
       "      <td>1.292173</td>\n",
       "      <td>one</td>\n",
       "    </tr>\n",
       "    <tr>\n",
       "      <th>2020-07-10</th>\n",
       "      <td>1.942113</td>\n",
       "      <td>-0.484246</td>\n",
       "      <td>-0.638399</td>\n",
       "      <td>0.217717</td>\n",
       "      <td>one</td>\n",
       "    </tr>\n",
       "    <tr>\n",
       "      <th>2020-07-11</th>\n",
       "      <td>0.480477</td>\n",
       "      <td>1.191977</td>\n",
       "      <td>0.160117</td>\n",
       "      <td>-1.588990</td>\n",
       "      <td>two</td>\n",
       "    </tr>\n",
       "    <tr>\n",
       "      <th>2020-07-12</th>\n",
       "      <td>-0.785944</td>\n",
       "      <td>-0.278663</td>\n",
       "      <td>-1.048295</td>\n",
       "      <td>-0.210394</td>\n",
       "      <td>three</td>\n",
       "    </tr>\n",
       "    <tr>\n",
       "      <th>2020-07-13</th>\n",
       "      <td>1.206647</td>\n",
       "      <td>-0.567838</td>\n",
       "      <td>-1.036765</td>\n",
       "      <td>-1.651573</td>\n",
       "      <td>four</td>\n",
       "    </tr>\n",
       "  </tbody>\n",
       "</table>\n",
       "</div>"
      ],
      "text/plain": [
       "                   A         B         C         D      E\n",
       "2020-07-09  1.131003 -1.428743 -1.562136  1.292173    one\n",
       "2020-07-10  1.942113 -0.484246 -0.638399  0.217717    one\n",
       "2020-07-11  0.480477  1.191977  0.160117 -1.588990    two\n",
       "2020-07-12 -0.785944 -0.278663 -1.048295 -0.210394  three\n",
       "2020-07-13  1.206647 -0.567838 -1.036765 -1.651573   four"
      ]
     },
     "execution_count": 46,
     "metadata": {},
     "output_type": "execute_result"
    }
   ],
   "source": [
    "df2"
   ]
  },
  {
   "cell_type": "markdown",
   "metadata": {},
   "source": [
    "# 데이터 존재 유무 판단\n",
    "isin 함수를 이용해서 특정 데이터가 있는지 검사할 수 있다."
   ]
  },
  {
   "cell_type": "code",
   "execution_count": 49,
   "metadata": {},
   "outputs": [
    {
     "data": {
      "text/plain": [
       "2020-07-09      one\n",
       "2020-07-10      one\n",
       "2020-07-11      two\n",
       "2020-07-12    three\n",
       "2020-07-13     four\n",
       "Freq: D, Name: E, dtype: object"
      ]
     },
     "execution_count": 49,
     "metadata": {},
     "output_type": "execute_result"
    }
   ],
   "source": [
    "df2['E']"
   ]
  },
  {
   "cell_type": "code",
   "execution_count": 48,
   "metadata": {},
   "outputs": [
    {
     "data": {
      "text/plain": [
       "2020-07-09    False\n",
       "2020-07-10    False\n",
       "2020-07-11     True\n",
       "2020-07-12    False\n",
       "2020-07-13     True\n",
       "Freq: D, Name: E, dtype: bool"
      ]
     },
     "execution_count": 48,
     "metadata": {},
     "output_type": "execute_result"
    }
   ],
   "source": [
    "df2['E'].isin(['two','four'])"
   ]
  },
  {
   "cell_type": "code",
   "execution_count": 51,
   "metadata": {},
   "outputs": [
    {
     "data": {
      "text/html": [
       "<div>\n",
       "<style scoped>\n",
       "    .dataframe tbody tr th:only-of-type {\n",
       "        vertical-align: middle;\n",
       "    }\n",
       "\n",
       "    .dataframe tbody tr th {\n",
       "        vertical-align: top;\n",
       "    }\n",
       "\n",
       "    .dataframe thead th {\n",
       "        text-align: right;\n",
       "    }\n",
       "</style>\n",
       "<table border=\"1\" class=\"dataframe\">\n",
       "  <thead>\n",
       "    <tr style=\"text-align: right;\">\n",
       "      <th></th>\n",
       "      <th>A</th>\n",
       "      <th>B</th>\n",
       "      <th>C</th>\n",
       "      <th>D</th>\n",
       "      <th>E</th>\n",
       "    </tr>\n",
       "  </thead>\n",
       "  <tbody>\n",
       "    <tr>\n",
       "      <th>2020-07-11</th>\n",
       "      <td>0.480477</td>\n",
       "      <td>1.191977</td>\n",
       "      <td>0.160117</td>\n",
       "      <td>-1.588990</td>\n",
       "      <td>two</td>\n",
       "    </tr>\n",
       "    <tr>\n",
       "      <th>2020-07-13</th>\n",
       "      <td>1.206647</td>\n",
       "      <td>-0.567838</td>\n",
       "      <td>-1.036765</td>\n",
       "      <td>-1.651573</td>\n",
       "      <td>four</td>\n",
       "    </tr>\n",
       "  </tbody>\n",
       "</table>\n",
       "</div>"
      ],
      "text/plain": [
       "                   A         B         C         D     E\n",
       "2020-07-11  0.480477  1.191977  0.160117 -1.588990   two\n",
       "2020-07-13  1.206647 -0.567838 -1.036765 -1.651573  four"
      ]
     },
     "execution_count": 51,
     "metadata": {},
     "output_type": "execute_result"
    }
   ],
   "source": [
    "df2[df2['E'].isin(['two','four'])]"
   ]
  },
  {
   "cell_type": "markdown",
   "metadata": {},
   "source": [
    "# 데이터 프레임에서 간단한 연산 및 통계 수행하기\n",
    "apply 함수를 사용합니다. numpy와 자주 같이 사용 됩니다."
   ]
  },
  {
   "cell_type": "code",
   "execution_count": 53,
   "metadata": {},
   "outputs": [
    {
     "data": {
      "text/plain": [
       "A    0.794859\n",
       "B   -0.313503\n",
       "C   -0.825096\n",
       "D   -0.388213\n",
       "dtype: float64"
      ]
     },
     "execution_count": 53,
     "metadata": {},
     "output_type": "execute_result"
    }
   ],
   "source": [
    "df.apply(np.mean) # 각 컬럼의 평균값"
   ]
  },
  {
   "cell_type": "code",
   "execution_count": 54,
   "metadata": {},
   "outputs": [
    {
     "data": {
      "text/html": [
       "<div>\n",
       "<style scoped>\n",
       "    .dataframe tbody tr th:only-of-type {\n",
       "        vertical-align: middle;\n",
       "    }\n",
       "\n",
       "    .dataframe tbody tr th {\n",
       "        vertical-align: top;\n",
       "    }\n",
       "\n",
       "    .dataframe thead th {\n",
       "        text-align: right;\n",
       "    }\n",
       "</style>\n",
       "<table border=\"1\" class=\"dataframe\">\n",
       "  <thead>\n",
       "    <tr style=\"text-align: right;\">\n",
       "      <th></th>\n",
       "      <th>A</th>\n",
       "      <th>B</th>\n",
       "      <th>C</th>\n",
       "      <th>D</th>\n",
       "    </tr>\n",
       "  </thead>\n",
       "  <tbody>\n",
       "    <tr>\n",
       "      <th>2020-07-09</th>\n",
       "      <td>1.131003</td>\n",
       "      <td>-1.428743</td>\n",
       "      <td>-1.562136</td>\n",
       "      <td>1.292173</td>\n",
       "    </tr>\n",
       "    <tr>\n",
       "      <th>2020-07-10</th>\n",
       "      <td>3.073116</td>\n",
       "      <td>-1.912989</td>\n",
       "      <td>-2.200535</td>\n",
       "      <td>1.509890</td>\n",
       "    </tr>\n",
       "    <tr>\n",
       "      <th>2020-07-11</th>\n",
       "      <td>3.553593</td>\n",
       "      <td>-0.721011</td>\n",
       "      <td>-2.040417</td>\n",
       "      <td>-0.079100</td>\n",
       "    </tr>\n",
       "    <tr>\n",
       "      <th>2020-07-12</th>\n",
       "      <td>2.767649</td>\n",
       "      <td>-0.999674</td>\n",
       "      <td>-3.088713</td>\n",
       "      <td>-0.289494</td>\n",
       "    </tr>\n",
       "    <tr>\n",
       "      <th>2020-07-13</th>\n",
       "      <td>3.974296</td>\n",
       "      <td>-1.567513</td>\n",
       "      <td>-4.125478</td>\n",
       "      <td>-1.941067</td>\n",
       "    </tr>\n",
       "  </tbody>\n",
       "</table>\n",
       "</div>"
      ],
      "text/plain": [
       "                   A         B         C         D\n",
       "2020-07-09  1.131003 -1.428743 -1.562136  1.292173\n",
       "2020-07-10  3.073116 -1.912989 -2.200535  1.509890\n",
       "2020-07-11  3.553593 -0.721011 -2.040417 -0.079100\n",
       "2020-07-12  2.767649 -0.999674 -3.088713 -0.289494\n",
       "2020-07-13  3.974296 -1.567513 -4.125478 -1.941067"
      ]
     },
     "execution_count": 54,
     "metadata": {},
     "output_type": "execute_result"
    }
   ],
   "source": [
    "df.apply(np.cumsum) # 각 컬럼의 누적합"
   ]
  },
  {
   "cell_type": "code",
   "execution_count": 55,
   "metadata": {},
   "outputs": [
    {
     "data": {
      "text/plain": [
       "A    2.728058\n",
       "B    2.620720\n",
       "C    1.722253\n",
       "D    2.943746\n",
       "dtype: float64"
      ]
     },
     "execution_count": 55,
     "metadata": {},
     "output_type": "execute_result"
    }
   ],
   "source": [
    "df.apply(lambda x : x.max() - x.min()) # 각 시리즈별 최댓값 - 최솟값"
   ]
  },
  {
   "cell_type": "markdown",
   "metadata": {},
   "source": [
    "# 10분 판다스를 참고해서 많은 기능들을 익혀야 해요"
   ]
  },
  {
   "cell_type": "markdown",
   "metadata": {},
   "source": [
    "너무 쉬워서 연습을 안해서 못하는 경우가 많아요"
   ]
  }
 ],
 "metadata": {
  "kernelspec": {
   "display_name": "Python 3",
   "language": "python",
   "name": "python3"
  },
  "language_info": {
   "codemirror_mode": {
    "name": "ipython",
    "version": 3
   },
   "file_extension": ".py",
   "mimetype": "text/x-python",
   "name": "python",
   "nbconvert_exporter": "python",
   "pygments_lexer": "ipython3",
   "version": "3.7.6"
  }
 },
 "nbformat": 4,
 "nbformat_minor": 4
}
