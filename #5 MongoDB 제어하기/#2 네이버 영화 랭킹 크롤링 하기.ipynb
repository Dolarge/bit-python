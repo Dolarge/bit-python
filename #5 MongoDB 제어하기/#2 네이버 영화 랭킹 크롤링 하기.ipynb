{
 "cells": [
  {
   "cell_type": "code",
   "execution_count": 2,
   "metadata": {},
   "outputs": [],
   "source": [
    "import requests\n",
    "from bs4 import BeautifulSoup"
   ]
  },
  {
   "cell_type": "code",
   "execution_count": 3,
   "metadata": {},
   "outputs": [],
   "source": [
    "headers = {'User-Agent' : 'Mozilla/5.0 (Windows NT 10.0; Win64; x64)AppleWebKit/537.36 (KHTML, like Gecko) Chrome/73.0.3683.86 Safari/537.36'}\n",
    "data = requests.get('https://movie.naver.com/movie/sdb/rank/rmovie.nhn?sel=pnt&date=20200719',headers=headers)"
   ]
  },
  {
   "cell_type": "code",
   "execution_count": 5,
   "metadata": {
    "scrolled": true
   },
   "outputs": [],
   "source": [
    "soup = BeautifulSoup(data.text, 'html.parser')"
   ]
  },
  {
   "cell_type": "markdown",
   "metadata": {},
   "source": [
    "### css 선택자( selector )를 활용한 크롤링\n",
    " - select() 활용하기"
   ]
  },
  {
   "cell_type": "code",
   "execution_count": 9,
   "metadata": {},
   "outputs": [
    {
     "data": {
      "text/plain": [
       "56"
      ]
     },
     "execution_count": 9,
     "metadata": {},
     "output_type": "execute_result"
    }
   ],
   "source": [
    "movies = soup.select('#old_content > table > tbody > tr')\n",
    "len(movies)"
   ]
  },
  {
   "cell_type": "code",
   "execution_count": 10,
   "metadata": {},
   "outputs": [
    {
     "name": "stdout",
     "output_type": "stream",
     "text": [
      "1 그린 북 9.59\n",
      "2 가버나움 9.59\n",
      "3 베일리 어게인 9.53\n",
      "4 원더 9.49\n",
      "5 포드 V 페라리 9.49\n",
      "6 아일라 9.49\n",
      "7 주전장 9.48\n",
      "8 당갈 9.47\n",
      "9 쇼생크 탈출 9.44\n",
      "10 터미네이터 2:오리지널 9.44\n",
      "11 보헤미안 랩소디 9.42\n",
      "12 덕구 9.42\n",
      "13 월-E 9.41\n",
      "14 나 홀로 집에 9.41\n",
      "15 라이언 일병 구하기 9.40\n",
      "16 사운드 오브 뮤직 9.40\n",
      "17 살인의 추억 9.40\n",
      "18 빽 투 더 퓨쳐 9.40\n",
      "19 매트릭스 9.40\n",
      "20 인생은 아름다워 9.40\n",
      "21 헬프 9.40\n",
      "22 아이즈 온 미 : 더 무비 9.40\n",
      "23 위대한 쇼맨 9.40\n",
      "24 포레스트 검프 9.40\n",
      "25 클래식 9.39\n",
      "26 글래디에이터 9.39\n",
      "27 센과 치히로의 행방불명 9.39\n",
      "28 토이 스토리 3 9.38\n",
      "29 타이타닉 9.38\n",
      "30 알라딘 9.38\n",
      "31 어벤져스: 엔드게임 9.38\n",
      "32 안녕 베일리 9.37\n",
      "33 죽은 시인의 사회 9.37\n",
      "34 레옹 9.37\n",
      "35 집으로... 9.37\n",
      "36 헌터 킬러 9.37\n",
      "37 반지의 제왕: 왕의 귀환 9.37\n",
      "38 동주 9.37\n",
      "39 아이 캔 스피크 9.37\n",
      "40 캐스트 어웨이 9.37\n",
      "41 히든 피겨스 9.36\n",
      "42 굿바이 마이 프랜드 9.36\n",
      "43 여인의 향기 9.36\n",
      "44 굿 윌 헌팅 9.36\n",
      "45 서유기 2 - 선리기연 9.36\n",
      "46 클레멘타인 9.35\n",
      "47 주토피아 9.35\n",
      "48 쉰들러 리스트 9.35\n",
      "49 달링 9.35\n",
      "50 모노노케 히메 9.35\n"
     ]
    }
   ],
   "source": [
    "# movie : 수집한 tr 태그\n",
    "for movie in movies:\n",
    "    a_tag = movie.select_one('td.title > div > a')\n",
    "    \n",
    "    # tr에 a_tag가 None이 아니면 ( 있으면... )\n",
    "    if a_tag is not None:\n",
    "        rank = int(movie.select_one('td:nth-child(1) > img').get('alt'))\n",
    "        title = a_tag.text\n",
    "        star  = movie.select_one('td.point').text\n",
    "        print(rank, title, star)"
   ]
  },
  {
   "cell_type": "code",
   "execution_count": 11,
   "metadata": {},
   "outputs": [],
   "source": [
    "from pymongo import MongoClient\n",
    "\n",
    "client = MongoClient('localhost', 27017)\n",
    "db     = client.movie\n",
    "\n",
    "for movie in movies:\n",
    "    a_tag = movie.select_one('td.title > div > a')\n",
    "    \n",
    "    if a_tag is not None:\n",
    "        rank = int(movie.select_one('td:nth-child(1) > img').get('alt'))\n",
    "        title = a_tag.text\n",
    "        star  = movie.select_one('td.point').text\n",
    "        \n",
    "        movie_doc = {\n",
    "            'rank':rank,\n",
    "            'title':title,\n",
    "            'star':star\n",
    "        }\n",
    "        \n",
    "        db.movie.insert_one(movie_doc)\n",
    "        \n",
    "        \n",
    "        "
   ]
  },
  {
   "cell_type": "code",
   "execution_count": null,
   "metadata": {},
   "outputs": [],
   "source": []
  },
  {
   "cell_type": "code",
   "execution_count": null,
   "metadata": {},
   "outputs": [],
   "source": []
  },
  {
   "cell_type": "code",
   "execution_count": null,
   "metadata": {},
   "outputs": [],
   "source": []
  },
  {
   "cell_type": "code",
   "execution_count": null,
   "metadata": {},
   "outputs": [],
   "source": []
  },
  {
   "cell_type": "code",
   "execution_count": null,
   "metadata": {},
   "outputs": [],
   "source": []
  },
  {
   "cell_type": "code",
   "execution_count": null,
   "metadata": {},
   "outputs": [],
   "source": []
  },
  {
   "cell_type": "code",
   "execution_count": null,
   "metadata": {},
   "outputs": [],
   "source": []
  },
  {
   "cell_type": "code",
   "execution_count": null,
   "metadata": {},
   "outputs": [],
   "source": []
  },
  {
   "cell_type": "code",
   "execution_count": null,
   "metadata": {},
   "outputs": [],
   "source": []
  },
  {
   "cell_type": "code",
   "execution_count": null,
   "metadata": {},
   "outputs": [],
   "source": []
  }
 ],
 "metadata": {
  "kernelspec": {
   "display_name": "Python 3",
   "language": "python",
   "name": "python3"
  },
  "language_info": {
   "codemirror_mode": {
    "name": "ipython",
    "version": 3
   },
   "file_extension": ".py",
   "mimetype": "text/x-python",
   "name": "python",
   "nbconvert_exporter": "python",
   "pygments_lexer": "ipython3",
   "version": "3.7.6"
  }
 },
 "nbformat": 4,
 "nbformat_minor": 4
}
