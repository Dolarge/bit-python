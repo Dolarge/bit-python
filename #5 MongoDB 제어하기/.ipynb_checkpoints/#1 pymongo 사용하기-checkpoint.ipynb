{
 "cells": [
  {
   "cell_type": "markdown",
   "metadata": {},
   "source": [
    "# pymongo 기본 사용하기\n",
    "MongoClient를 이용해서 MongoDB 서버( mongod )와 연결"
   ]
  },
  {
   "cell_type": "code",
   "execution_count": 1,
   "metadata": {},
   "outputs": [],
   "source": [
    "from pymongo import MongoClient"
   ]
  },
  {
   "cell_type": "code",
   "execution_count": 2,
   "metadata": {},
   "outputs": [],
   "source": [
    "client = MongoClient('localhost', 27017) # 클라이언트 생성\n",
    "db     = client.movie # 데이터 베이스 가져오기. ( movie 데이터베이스가 있으면 가져오고, 없으면 새로 만든다.)"
   ]
  },
  {
   "cell_type": "code",
   "execution_count": 3,
   "metadata": {},
   "outputs": [
    {
     "data": {
      "text/plain": [
       "<pymongo.results.InsertOneResult at 0x2c9d3b78748>"
      ]
     },
     "execution_count": 3,
     "metadata": {},
     "output_type": "execute_result"
    }
   ],
   "source": [
    "db.test.insert_one({ 'name':'test1', 'age': 30 })\n",
    "db.test.insert_one({ 'name':'test2', 'age': 31 })\n",
    "db.test.insert_one({ 'name':'test3', 'age': 32 })"
   ]
  },
  {
   "cell_type": "code",
   "execution_count": 4,
   "metadata": {},
   "outputs": [
    {
     "data": {
      "text/plain": [
       "<pymongo.cursor.Cursor at 0x2c9d43e7e88>"
      ]
     },
     "execution_count": 4,
     "metadata": {},
     "output_type": "execute_result"
    }
   ],
   "source": [
    "all_data = db.test.find(); # find -> cursor를 리턴함.\n",
    "all_data"
   ]
  },
  {
   "cell_type": "code",
   "execution_count": 5,
   "metadata": {},
   "outputs": [
    {
     "name": "stdout",
     "output_type": "stream",
     "text": [
      "{'_id': ObjectId('5f15197d523daa1d0d7dda48'), 'name': 'test1', 'age': 30}\n",
      "{'_id': ObjectId('5f15197d523daa1d0d7dda49'), 'name': 'test2', 'age': 31}\n",
      "{'_id': ObjectId('5f15197d523daa1d0d7dda4a'), 'name': 'test3', 'age': 32}\n"
     ]
    }
   ],
   "source": [
    "# Cursor는 조회한 데이터를 가지고 있는 Sequence임. => Generator\n",
    "# Generator : 한번 순회(for문)을 통해 데이터를 소모하면 더이상 순회가 안된다.\n",
    "for data in all_data:\n",
    "    print(data)"
   ]
  },
  {
   "cell_type": "code",
   "execution_count": 6,
   "metadata": {},
   "outputs": [],
   "source": [
    "for data in all_data:\n",
    "    print(data)"
   ]
  },
  {
   "cell_type": "markdown",
   "metadata": {},
   "source": [
    "Generator 형태 말고, list형식으로 가져오기"
   ]
  },
  {
   "cell_type": "code",
   "execution_count": 7,
   "metadata": {},
   "outputs": [
    {
     "data": {
      "text/plain": [
       "[{'_id': ObjectId('5f15197d523daa1d0d7dda48'), 'name': 'test1', 'age': 30},\n",
       " {'_id': ObjectId('5f15197d523daa1d0d7dda49'), 'name': 'test2', 'age': 31},\n",
       " {'_id': ObjectId('5f15197d523daa1d0d7dda4a'), 'name': 'test3', 'age': 32}]"
      ]
     },
     "execution_count": 7,
     "metadata": {},
     "output_type": "execute_result"
    }
   ],
   "source": [
    "all_data_list = list(db.test.find())\n",
    "all_data_list"
   ]
  },
  {
   "cell_type": "code",
   "execution_count": 8,
   "metadata": {},
   "outputs": [
    {
     "data": {
      "text/plain": [
       "31"
      ]
     },
     "execution_count": 8,
     "metadata": {},
     "output_type": "execute_result"
    }
   ],
   "source": [
    "all_data_list[1]['age']"
   ]
  },
  {
   "cell_type": "markdown",
   "metadata": {},
   "source": [
    "### 특정 조건에 맞는 데이터 하나만 가져오기\n",
    "\n",
    "* find({조건문서}) => Cursor( 시퀀스 형태 )로 등장\n",
    "* find_one({조건문서}) => dict 로 등장"
   ]
  },
  {
   "cell_type": "code",
   "execution_count": 10,
   "metadata": {},
   "outputs": [
    {
     "data": {
      "text/plain": [
       "<pymongo.cursor.Cursor at 0x2c9d44788c8>"
      ]
     },
     "execution_count": 10,
     "metadata": {},
     "output_type": "execute_result"
    }
   ],
   "source": [
    "user_cursor = db.test.find({'name':'test1'})\n",
    "user_cursor"
   ]
  },
  {
   "cell_type": "code",
   "execution_count": 11,
   "metadata": {},
   "outputs": [
    {
     "data": {
      "text/plain": [
       "{'_id': ObjectId('5f15197d523daa1d0d7dda48'), 'name': 'test1', 'age': 30}"
      ]
     },
     "execution_count": 11,
     "metadata": {},
     "output_type": "execute_result"
    }
   ],
   "source": [
    "user_data = db.test.find_one({'name':'test1'})\n",
    "user_data"
   ]
  },
  {
   "cell_type": "code",
   "execution_count": 12,
   "metadata": {},
   "outputs": [
    {
     "data": {
      "text/plain": [
       "{'name': 'test1', 'age': 30}"
      ]
     },
     "execution_count": 12,
     "metadata": {},
     "output_type": "execute_result"
    }
   ],
   "source": [
    "user_data = db.test.find_one({'name':'test1'}, {'_id':False})\n",
    "user_data"
   ]
  },
  {
   "cell_type": "markdown",
   "metadata": {},
   "source": [
    "### 수정하기\n",
    "* update_one  -> 조건에 맞는 하나의 데이터 하나만 수정하기\n",
    "* update_many -> 조건에 맞는 여러개의 데이터를 모두 수정"
   ]
  },
  {
   "cell_type": "code",
   "execution_count": 13,
   "metadata": {},
   "outputs": [
    {
     "data": {
      "text/plain": [
       "<pymongo.results.UpdateResult at 0x2c9d44aafc8>"
      ]
     },
     "execution_count": 13,
     "metadata": {},
     "output_type": "execute_result"
    }
   ],
   "source": [
    "db.test.update_one({'name':'test1'}, {'$set':{'age':20}})"
   ]
  },
  {
   "cell_type": "code",
   "execution_count": 14,
   "metadata": {},
   "outputs": [
    {
     "data": {
      "text/plain": [
       "{'name': 'test1', 'age': 20}"
      ]
     },
     "execution_count": 14,
     "metadata": {},
     "output_type": "execute_result"
    }
   ],
   "source": [
    "user_data = db.test.find_one({'name':'test1'}, {'_id':False})\n",
    "user_data"
   ]
  },
  {
   "cell_type": "markdown",
   "metadata": {},
   "source": [
    "### 삭제하기\n",
    "* delete_one -> 조건에 맞는 하나의 문서만 삭제하기\n",
    "* delete_many -> 조건에 맞는 여러개의 문서 삭제하기"
   ]
  },
  {
   "cell_type": "code",
   "execution_count": 15,
   "metadata": {},
   "outputs": [
    {
     "data": {
      "text/plain": [
       "<pymongo.results.DeleteResult at 0x2c9d43cf488>"
      ]
     },
     "execution_count": 15,
     "metadata": {},
     "output_type": "execute_result"
    }
   ],
   "source": [
    "db.test.delete_one({'name':'test1'})"
   ]
  },
  {
   "cell_type": "code",
   "execution_count": 18,
   "metadata": {},
   "outputs": [],
   "source": [
    "user_data = db.test.find_one({'name':'test1'}, {'_id':False})\n",
    "user_data"
   ]
  }
 ],
 "metadata": {
  "kernelspec": {
   "display_name": "Python 3",
   "language": "python",
   "name": "python3"
  },
  "language_info": {
   "codemirror_mode": {
    "name": "ipython",
    "version": 3
   },
   "file_extension": ".py",
   "mimetype": "text/x-python",
   "name": "python",
   "nbconvert_exporter": "python",
   "pygments_lexer": "ipython3",
   "version": "3.7.6"
  }
 },
 "nbformat": 4,
 "nbformat_minor": 4
}
