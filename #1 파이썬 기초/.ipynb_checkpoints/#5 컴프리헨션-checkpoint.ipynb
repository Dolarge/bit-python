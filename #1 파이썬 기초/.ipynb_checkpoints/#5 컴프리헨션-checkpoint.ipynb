{
 "cells": [
  {
   "cell_type": "markdown",
   "metadata": {},
   "source": [
    "# 컴프리헨션\n",
    "자료구조를 만들 때 조건문과 반복문을 사용해서 만들어야 한다면 컴프리헨션을 이용해 코드 량을 줄여가면서 자료구조의 원소를 세팅할 수 있다."
   ]
  },
  {
   "cell_type": "code",
   "execution_count": 1,
   "metadata": {},
   "outputs": [
    {
     "data": {
      "text/plain": [
       "[1, 2, 3, 4, 5]"
      ]
     },
     "execution_count": 1,
     "metadata": {},
     "output_type": "execute_result"
    }
   ],
   "source": [
    "number_list = [number for number in range(1, 6)]\n",
    "number_list"
   ]
  },
  {
   "cell_type": "code",
   "execution_count": 2,
   "metadata": {},
   "outputs": [
    {
     "data": {
      "text/plain": [
       "[1, 2, 3, 4, 5]"
      ]
     },
     "execution_count": 2,
     "metadata": {},
     "output_type": "execute_result"
    }
   ],
   "source": [
    "list(range(1, 6))"
   ]
  },
  {
   "cell_type": "markdown",
   "metadata": {},
   "source": [
    "컴프리헨션의 제일 큰 장점은 조건문을 따로 넣을 수가 있다."
   ]
  },
  {
   "cell_type": "code",
   "execution_count": 5,
   "metadata": {},
   "outputs": [
    {
     "name": "stdout",
     "output_type": "stream",
     "text": [
      "[3, 6, 9, 12, 15, 18, 21, 24, 27, 30, 33, 36, 39, 42, 45, 48, 51, 54, 57, 60, 63, 66, 69, 72, 75, 78, 81, 84, 87, 90, 93, 96, 99]\n"
     ]
    }
   ],
   "source": [
    "divisor_three = []\n",
    "\n",
    "for x in range(1, 101):\n",
    "    # 추가할 원소에 대한 조건을 검사\n",
    "    if x % 3 == 0 : # 3의 배수를 판단하기\n",
    "        divisor_three.append(x)\n",
    "\n",
    "print(divisor_three)"
   ]
  },
  {
   "cell_type": "markdown",
   "metadata": {},
   "source": [
    "시퀀스를 순회하며 얻어낸 요소를 특정한 조건에 의해 새로운 자료구조의 요소로 들어가게 해야 할 경우 컴프리헨션을 고려할 수 있다."
   ]
  },
  {
   "cell_type": "code",
   "execution_count": 6,
   "metadata": {},
   "outputs": [],
   "source": [
    "divisor_three_comp = [ x for x in range(1, 101) if x % 3 == 0 ]"
   ]
  },
  {
   "cell_type": "code",
   "execution_count": 8,
   "metadata": {},
   "outputs": [
    {
     "name": "stdout",
     "output_type": "stream",
     "text": [
      "[3, 6, 9, 12, 15, 18, 21, 24, 27, 30, 33, 36, 39, 42, 45, 48, 51, 54, 57, 60, 63, 66, 69, 72, 75, 78, 81, 84, 87, 90, 93, 96, 99]\n"
     ]
    }
   ],
   "source": [
    "print(divisor_three_comp)"
   ]
  },
  {
   "cell_type": "markdown",
   "metadata": {},
   "source": [
    "## 중첩된 컴프리헨션"
   ]
  },
  {
   "cell_type": "code",
   "execution_count": 11,
   "metadata": {},
   "outputs": [
    {
     "data": {
      "text/plain": [
       "[(1, 1), (1, 2), (2, 1), (2, 2), (3, 1), (3, 2)]"
      ]
     },
     "execution_count": 11,
     "metadata": {},
     "output_type": "execute_result"
    }
   ],
   "source": [
    "row_col = []\n",
    "\n",
    "rows = range(1, 4) # [ 1, 2, 3 ]\n",
    "cols = range(1, 3) # [ 1, 2 ]\n",
    "\n",
    "# for 문을 활용했을 때\n",
    "for row in rows:\n",
    "    for col in cols:\n",
    "        row_col.append((row, col))\n",
    "\n",
    "row_col"
   ]
  },
  {
   "cell_type": "code",
   "execution_count": 13,
   "metadata": {},
   "outputs": [
    {
     "data": {
      "text/plain": [
       "[(1, 1), (1, 2), (2, 1), (2, 2), (3, 1), (3, 2)]"
      ]
     },
     "execution_count": 13,
     "metadata": {},
     "output_type": "execute_result"
    }
   ],
   "source": [
    "row_col_comp = [ (row, col) for row in rows for col in cols ]\n",
    "row_col_comp"
   ]
  },
  {
   "cell_type": "code",
   "execution_count": 14,
   "metadata": {},
   "outputs": [
    {
     "data": {
      "text/plain": [
       "['3는 3의 배수',\n",
       " '6는 3의 배수',\n",
       " '9는 3의 배수',\n",
       " '12는 3의 배수',\n",
       " '15는 3의 배수',\n",
       " '18는 3의 배수',\n",
       " '21는 3의 배수',\n",
       " '24는 3의 배수',\n",
       " '27는 3의 배수',\n",
       " '30는 3의 배수',\n",
       " '33는 3의 배수',\n",
       " '36는 3의 배수',\n",
       " '39는 3의 배수',\n",
       " '42는 3의 배수',\n",
       " '45는 3의 배수',\n",
       " '48는 3의 배수',\n",
       " '51는 3의 배수',\n",
       " '54는 3의 배수',\n",
       " '57는 3의 배수',\n",
       " '60는 3의 배수',\n",
       " '63는 3의 배수',\n",
       " '66는 3의 배수',\n",
       " '69는 3의 배수',\n",
       " '72는 3의 배수',\n",
       " '75는 3의 배수',\n",
       " '78는 3의 배수',\n",
       " '81는 3의 배수',\n",
       " '84는 3의 배수',\n",
       " '87는 3의 배수',\n",
       " '90는 3의 배수',\n",
       " '93는 3의 배수',\n",
       " '96는 3의 배수',\n",
       " '99는 3의 배수']"
      ]
     },
     "execution_count": 14,
     "metadata": {},
     "output_type": "execute_result"
    }
   ],
   "source": [
    "divisor_three_comp = [ \"{}는 3의 배수\".format(x) for x in range(1, 101) if x % 3 == 0 ]\n",
    "divisor_three_comp"
   ]
  },
  {
   "cell_type": "markdown",
   "metadata": {},
   "source": [
    "## 딕셔너리 컴프리헨션"
   ]
  },
  {
   "cell_type": "code",
   "execution_count": 15,
   "metadata": {},
   "outputs": [
    {
     "data": {
      "text/plain": [
       "{'아침밥': '샌드위치', '점심밥': '고구마', '저녁밥': '샐러드'}"
      ]
     },
     "execution_count": 15,
     "metadata": {},
     "output_type": "execute_result"
    }
   ],
   "source": [
    "meals = ['아침밥', '점심밥', '저녁밥']\n",
    "foods = ['샌드위치', '고구마', '샐러드']\n",
    "\n",
    "dict_comp = { meal:food for meal, food in zip(meals, foods) }\n",
    "dict_comp"
   ]
  },
  {
   "cell_type": "markdown",
   "metadata": {},
   "source": [
    "# Set 컴프리헨션"
   ]
  },
  {
   "cell_type": "code",
   "execution_count": 17,
   "metadata": {},
   "outputs": [
    {
     "data": {
      "text/plain": [
       "{1, 3, 5}"
      ]
     },
     "execution_count": 17,
     "metadata": {},
     "output_type": "execute_result"
    }
   ],
   "source": [
    "set_comp = { num for num in [1,1,2,3,4,4,5,5,5] if num % 2 == 1 }\n",
    "set_comp"
   ]
  },
  {
   "cell_type": "markdown",
   "metadata": {},
   "source": [
    "# 제너레이터 컴프리헨션\n",
    "튜플 컴프리헨션은 존재하지 않는다. 소괄호를 이용해서 컴프리헨션을 만들면 제너레이터 컴프리헨션이 만들어 진다."
   ]
  },
  {
   "cell_type": "code",
   "execution_count": 18,
   "metadata": {},
   "outputs": [
    {
     "data": {
      "text/plain": [
       "<generator object <genexpr> at 0x000001E905190B48>"
      ]
     },
     "execution_count": 18,
     "metadata": {},
     "output_type": "execute_result"
    }
   ],
   "source": [
    "generator_comp = ( num for num in range(1,10))\n",
    "generator_comp"
   ]
  },
  {
   "cell_type": "markdown",
   "metadata": {},
   "source": [
    "제너레이터의 특징\n",
    "\n",
    "* 순회를 하면 요소가 소모가 된다.\n",
    "* 소모성 시퀀스"
   ]
  },
  {
   "cell_type": "code",
   "execution_count": 19,
   "metadata": {},
   "outputs": [
    {
     "name": "stdout",
     "output_type": "stream",
     "text": [
      "1\n",
      "2\n",
      "3\n",
      "4\n",
      "5\n",
      "6\n",
      "7\n",
      "8\n",
      "9\n"
     ]
    }
   ],
   "source": [
    "for num in generator_comp: #전체 순회를 한번 했음.\n",
    "    print(num)"
   ]
  },
  {
   "cell_type": "code",
   "execution_count": 20,
   "metadata": {},
   "outputs": [],
   "source": [
    "for num in generator_comp: # 순회를 할 수가 없다.\n",
    "    print(num)"
   ]
  }
 ],
 "metadata": {
  "kernelspec": {
   "display_name": "Python 3",
   "language": "python",
   "name": "python3"
  },
  "language_info": {
   "codemirror_mode": {
    "name": "ipython",
    "version": 3
   },
   "file_extension": ".py",
   "mimetype": "text/x-python",
   "name": "python",
   "nbconvert_exporter": "python",
   "pygments_lexer": "ipython3",
   "version": "3.7.6"
  }
 },
 "nbformat": 4,
 "nbformat_minor": 4
}
