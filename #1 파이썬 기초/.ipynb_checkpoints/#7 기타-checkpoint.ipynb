{
 "cells": [
  {
   "cell_type": "markdown",
   "metadata": {},
   "source": [
    "# 문자열 포맷팅\n",
    "문자열을 만들 때 지정한 형식을 사용해서 만든다."
   ]
  },
  {
   "cell_type": "code",
   "execution_count": 3,
   "metadata": {},
   "outputs": [
    {
     "name": "stdout",
     "output_type": "stream",
     "text": [
      "제 나이는 33살 이고, 이름은 소민호입니다\n"
     ]
    }
   ],
   "source": [
    "age = 33\n",
    "name = '소민호'\n",
    "\n",
    "introduce_myself = \"제 나이는 \"+str(age)+\"살 이고, 이름은 \"+name+'입니다'\n",
    "print(introduce_myself)"
   ]
  },
  {
   "cell_type": "code",
   "execution_count": 4,
   "metadata": {},
   "outputs": [
    {
     "name": "stdout",
     "output_type": "stream",
     "text": [
      "제 나이는 33살 이고, 이름은 소민호입니다.\n"
     ]
    }
   ],
   "source": [
    "format_str = \"제 나이는 {}살 이고, 이름은 {}입니다.\"\n",
    "print(format_str.format(age, name))"
   ]
  }
 ],
 "metadata": {
  "kernelspec": {
   "display_name": "Python 3",
   "language": "python",
   "name": "python3"
  },
  "language_info": {
   "codemirror_mode": {
    "name": "ipython",
    "version": 3
   },
   "file_extension": ".py",
   "mimetype": "text/x-python",
   "name": "python",
   "nbconvert_exporter": "python",
   "pygments_lexer": "ipython3",
   "version": "3.7.6"
  }
 },
 "nbformat": 4,
 "nbformat_minor": 4
}
