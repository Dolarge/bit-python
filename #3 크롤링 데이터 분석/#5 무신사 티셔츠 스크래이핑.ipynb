{
 "cells": [
  {
   "cell_type": "markdown",
   "metadata": {},
   "source": [
    "# 무신사 스크래이핑\n",
    "* [x] 상품번호\n",
    "* [x] 브랜드\n",
    "* [x] 제품명\n",
    "* [x] 가격\n",
    "* [x] 제품 만족도\n",
    "* [x] 썸네일 사진 - 001001-상품번호-thumb.jpg\n",
    "* [x] 제품 상세 사진 -  001001-상품번호-detail-{n}.jpg"
   ]
  },
  {
   "cell_type": "code",
   "execution_count": 7,
   "metadata": {},
   "outputs": [],
   "source": [
    "from bs4 import BeautifulSoup\n",
    "from urllib.request import urlopen, urlretrieve # urlretrieve : 이미지 다운\n",
    "\n",
    "url = 'https://store.musinsa.com/app/items/lists/001001'"
   ]
  },
  {
   "cell_type": "code",
   "execution_count": 8,
   "metadata": {},
   "outputs": [],
   "source": [
    "page = urlopen(url)\n",
    "soup = BeautifulSoup(page, 'html.parser')"
   ]
  },
  {
   "cell_type": "code",
   "execution_count": 9,
   "metadata": {},
   "outputs": [
    {
     "data": {
      "text/plain": [
       "90"
      ]
     },
     "execution_count": 9,
     "metadata": {},
     "output_type": "execute_result"
    }
   ],
   "source": [
    "li_box = soup.find('ul', id='searchList').find_all('li', class_='li_box')\n",
    "len(li_box)"
   ]
  },
  {
   "cell_type": "code",
   "execution_count": 11,
   "metadata": {},
   "outputs": [],
   "source": [
    "brand   = li_box[0].find('p', class_='item_title').text\n",
    "product = li_box[0].find('p', class_='list_info').text\n",
    "price   = li_box[0].find('p', class_='price').text"
   ]
  },
  {
   "cell_type": "code",
   "execution_count": 12,
   "metadata": {},
   "outputs": [
    {
     "data": {
      "text/plain": [
       "('그레이버',\n",
       " '\\n\\n\\t\\t\\t\\t[UNISEX]도트보드 자수 화이트클립 반팔티_2color\\n',\n",
       " '\\n\\t\\t\\t\\t\\t\\t\\t\\t42,000원\\n\\t\\t\\t')"
      ]
     },
     "execution_count": 12,
     "metadata": {},
     "output_type": "execute_result"
    }
   ],
   "source": [
    "brand, product, price"
   ]
  },
  {
   "cell_type": "code",
   "execution_count": 15,
   "metadata": {},
   "outputs": [
    {
     "data": {
      "text/plain": [
       "'1517122'"
      ]
     },
     "execution_count": 15,
     "metadata": {},
     "output_type": "execute_result"
    }
   ],
   "source": [
    "# 상품번호 가져오기\n",
    "product_num = li_box[0].find('div', class_='list_img').find('a')['href'].split('/')[-2]\n",
    "product_num"
   ]
  },
  {
   "cell_type": "markdown",
   "metadata": {},
   "source": [
    "# 썸네일 저장하기\n",
    " - path : ./musinsa/thumb"
   ]
  },
  {
   "cell_type": "code",
   "execution_count": 16,
   "metadata": {},
   "outputs": [],
   "source": [
    "thumb_path = './musinsa/thumb/{}'"
   ]
  },
  {
   "cell_type": "code",
   "execution_count": 19,
   "metadata": {},
   "outputs": [
    {
     "data": {
      "text/plain": [
       "'//image.msscdn.net/images/goods_img/20200716/1517122/1517122_1_125.jpg'"
      ]
     },
     "execution_count": 19,
     "metadata": {},
     "output_type": "execute_result"
    }
   ],
   "source": [
    "# 썸네일 url 가지고 오기\n",
    "thumb_url = li_box[0].find('div', class_='list_img').find('a').find('img')['data-original']\n",
    "thumb_url"
   ]
  },
  {
   "cell_type": "code",
   "execution_count": 23,
   "metadata": {},
   "outputs": [
    {
     "data": {
      "text/plain": [
       "('./musinsa/thumb/001001-1517122-thumb.jpg',\n",
       " <http.client.HTTPMessage at 0x159cd85e088>)"
      ]
     },
     "execution_count": 23,
     "metadata": {},
     "output_type": "execute_result"
    }
   ],
   "source": [
    "thumb_img_name = '001001-{}-thumb.jpg'.format(product_num)\n",
    "urlretrieve('https:'+thumb_url, thumb_path.format(thumb_img_name))"
   ]
  },
  {
   "cell_type": "markdown",
   "metadata": {},
   "source": [
    "# 상세 페이지 url"
   ]
  },
  {
   "cell_type": "code",
   "execution_count": 24,
   "metadata": {},
   "outputs": [
    {
     "data": {
      "text/plain": [
       "'/app/product/detail/1517122/0'"
      ]
     },
     "execution_count": 24,
     "metadata": {},
     "output_type": "execute_result"
    }
   ],
   "source": [
    "detail_url = li_box[0].find('div', class_='list_img').find('a')['href']\n",
    "detail_url"
   ]
  },
  {
   "cell_type": "code",
   "execution_count": 25,
   "metadata": {},
   "outputs": [
    {
     "data": {
      "text/plain": [
       "'https://store.musinsa.com/app/product/detail/1517122/0'"
      ]
     },
     "execution_count": 25,
     "metadata": {},
     "output_type": "execute_result"
    }
   ],
   "source": [
    "from urllib.parse import urljoin\n",
    "\n",
    "base_url = 'https://store.musinsa.com/'\n",
    "\n",
    "full_url = urljoin(base_url, detail_url)\n",
    "full_url"
   ]
  },
  {
   "cell_type": "code",
   "execution_count": 27,
   "metadata": {},
   "outputs": [],
   "source": [
    "detail_page = urlopen(full_url)\n",
    "detail_soup = BeautifulSoup(detail_page, 'html.parser')"
   ]
  },
  {
   "cell_type": "markdown",
   "metadata": {},
   "source": [
    "# 후기 가지고 오기"
   ]
  },
  {
   "cell_type": "code",
   "execution_count": 29,
   "metadata": {},
   "outputs": [
    {
     "data": {
      "text/plain": [
       "'등록된 후기가 없습니다.'"
      ]
     },
     "execution_count": 29,
     "metadata": {},
     "output_type": "execute_result"
    }
   ],
   "source": [
    "review_msg = detail_soup.find('div', class_='estimate-stats').text.strip()\n",
    "review_msg"
   ]
  },
  {
   "cell_type": "markdown",
   "metadata": {},
   "source": [
    "# 상세 이미지 가져오기\n",
    " - 규칙 확인 결과 : thum_[li의 인덱스]로 계속 늘어가는 것을 확인"
   ]
  },
  {
   "cell_type": "code",
   "execution_count": 32,
   "metadata": {},
   "outputs": [
    {
     "data": {
      "text/plain": [
       "1"
      ]
     },
     "execution_count": 32,
     "metadata": {},
     "output_type": "execute_result"
    }
   ],
   "source": [
    "img_li_list = detail_soup.find('ul', class_='product_thumb').find_all('li')\n",
    "len(img_li_list)"
   ]
  },
  {
   "cell_type": "code",
   "execution_count": 38,
   "metadata": {},
   "outputs": [],
   "source": [
    "img_id_format = 'thum_{}'"
   ]
  },
  {
   "cell_type": "code",
   "execution_count": 94,
   "metadata": {},
   "outputs": [],
   "source": [
    "detail_img_name = '001001-{}-detail-{}.jpg'\n",
    "detail_img_path = \"./musinsa/detail/{}\"\n",
    "for idx, li in enumerate(img_li_list):\n",
    "    img = li.find('img', id=img_id_format.format(idx))\n",
    "    img_url = img['src']\n",
    "    img_url_split = img_url.split('/')\n",
    "    img_original_name = img_url_split[-1]\n",
    "    \n",
    "    img_url_complete = 'https:'+'/'.join(img_url_split[:-1])+\"/\"+img_original_name[:-6]+\"500.jpg\"\n",
    "    urlretrieve(img_url_complete, detail_img_path.format(detail_img_name.format(product_num, idx)))"
   ]
  },
  {
   "cell_type": "markdown",
   "metadata": {},
   "source": [
    "# 1. 한 페이지의 전체 상품 크롤링"
   ]
  },
  {
   "cell_type": "code",
   "execution_count": 99,
   "metadata": {},
   "outputs": [
    {
     "name": "stderr",
     "output_type": "stream",
     "text": [
      "C:\\ProgramData\\Anaconda3\\lib\\site-packages\\ipykernel_launcher.py:30: TqdmDeprecationWarning: This function will be removed in tqdm==5.0.0\n",
      "Please use `tqdm.notebook.tqdm` instead of `tqdm.tqdm_notebook`\n"
     ]
    },
    {
     "data": {
      "application/vnd.jupyter.widget-view+json": {
       "model_id": "32689a86beb1400aa736c1739852f922",
       "version_major": 2,
       "version_minor": 0
      },
      "text/plain": [
       "HBox(children=(FloatProgress(value=0.0, max=90.0), HTML(value='')))"
      ]
     },
     "metadata": {},
     "output_type": "display_data"
    },
    {
     "name": "stdout",
     "output_type": "stream",
     "text": [
      "\n"
     ]
    },
    {
     "ename": "NameError",
     "evalue": "name 'df' is not defined",
     "output_type": "error",
     "traceback": [
      "\u001b[1;31m---------------------------------------------------------------------------\u001b[0m",
      "\u001b[1;31mNameError\u001b[0m                                 Traceback (most recent call last)",
      "\u001b[1;32m<ipython-input-99-0fafd6238b9f>\u001b[0m in \u001b[0;36m<module>\u001b[1;34m\u001b[0m\n\u001b[0;32m     82\u001b[0m })\n\u001b[0;32m     83\u001b[0m \u001b[1;33m\u001b[0m\u001b[0m\n\u001b[1;32m---> 84\u001b[1;33m \u001b[0mdf\u001b[0m\u001b[1;33m.\u001b[0m\u001b[0mto_csv\u001b[0m\u001b[1;33m(\u001b[0m\u001b[1;34m'./data/musinsa.csv'\u001b[0m\u001b[1;33m,\u001b[0m \u001b[0mencoding\u001b[0m\u001b[1;33m=\u001b[0m\u001b[1;34m'utf-8'\u001b[0m\u001b[1;33m)\u001b[0m\u001b[1;33m\u001b[0m\u001b[1;33m\u001b[0m\u001b[0m\n\u001b[0m",
      "\u001b[1;31mNameError\u001b[0m: name 'df' is not defined"
     ]
    }
   ],
   "source": [
    "import pandas as pd\n",
    "import tqdm \n",
    "base_url = 'https://store.musinsa.com'\n",
    "list_url = '/app/items/lists/001001'\n",
    "\n",
    "url = 'https://store.musinsa.com/app/items/lists/001001'\n",
    "page = urlopen(url)\n",
    "soup = BeautifulSoup(page, 'html.parser')\n",
    "\n",
    "thumb_path  = './musinsa/thumb/{}'\n",
    "detail_path = \"./musinsa/detail/{}\"\n",
    "\n",
    "thumb_img_name  = '001001-{}-thumb.jpg'\n",
    "detail_img_name = '001001-{}-detail-{}.jpg'\n",
    "\n",
    "img_id_format = 'thum_{}'\n",
    "\n",
    "li_box = soup.find('ul', id='searchList').find_all('li', class_='li_box')\n",
    "\n",
    "product_num_list = []\n",
    "brand_list        = []\n",
    "product_name_list = []\n",
    "price_list        = []\n",
    "review_list       = []\n",
    "thumb_list        = []\n",
    "detail_list       = []\n",
    "\n",
    "\n",
    "\n",
    "for li in tqdm.tqdm_notebook(li_box):\n",
    "    brand   = li.find('p', class_='item_title').text\n",
    "    product = li.find('p', class_='list_info').text\n",
    "    price   = li.find('p', class_='price').text\n",
    "    product_num = li.find('div', class_='list_img').find('a')['href'].split('/')[-2]\n",
    "    thumbnail = thumb_img_name.format(product_num)\n",
    "    \n",
    "    product_num_list.append(product_num)\n",
    "    brand_list.append(brand)\n",
    "    product_name_list.append(product)\n",
    "    price_list.append(price)\n",
    "    thumb_list.append(thumbnail)\n",
    "    \n",
    "    # 이미지 다운로드\n",
    "    thumb_url = li.find('div', class_='list_img').find('a').find('img')['data-original']\n",
    "    urlretrieve('https:'+thumb_url, thumb_path.format(thumbnail))\n",
    "    \n",
    "    detail_url = li.find('div', class_='list_img').find('a')['href']\n",
    "    \n",
    "    # 디테일 페이지 크롤링 시작\n",
    "    full_url = urljoin(base_url, detail_url)\n",
    "    detail_page = urlopen(full_url)\n",
    "    detail_soup = BeautifulSoup(detail_page, 'html.parser')\n",
    "    \n",
    "    # 디테일 페이지에서 후기 가져오기\n",
    "    review_msg = detail_soup.find('div', class_='estimate-stats').text.strip()\n",
    "    review_list.append(review_msg)\n",
    "    \n",
    "    # 상세 이미지 목록 가져오기\n",
    "    img_li_list = detail_soup.find('ul', class_='product_thumb').find_all('li')\n",
    "    \n",
    "    detail_img_list = []\n",
    "    for idx, li in enumerate(img_li_list):\n",
    "        img = li.find('img', id=img_id_format.format(idx))\n",
    "        img_url = img['src']\n",
    "        img_url_split = img_url.split('/')\n",
    "        img_original_name = img_url_split[-1]\n",
    "\n",
    "        img_url_complete = 'https:'+'/'.join(img_url_split[:-1])+\"/\"+img_original_name[:-6]+\"500.jpg\"\n",
    "        detail_name = detail_img_name.format(product_num, idx)\n",
    "        detail_img_list.append(detail_name)\n",
    "        urlretrieve(img_url_complete, detail_img_path.format(detail_name))\n",
    "        \n",
    "    detail_list.append('#'.join(detail_img_list))\n",
    "    \n",
    "df_musinsa = pd.DataFrame({\n",
    "    '제품번호':product_num_list,\n",
    "    '브랜드':brand_list,\n",
    "    '제품명':product_name_list,\n",
    "    '가격':price_list,\n",
    "    '썸네일': thumb_list,\n",
    "    '상세사진': detail_list\n",
    "})\n",
    "df_musinsa.to_csv('./data/musinsa.csv', encoding='utf-8')"
   ]
  },
  {
   "cell_type": "code",
   "execution_count": 100,
   "metadata": {},
   "outputs": [],
   "source": []
  },
  {
   "cell_type": "code",
   "execution_count": null,
   "metadata": {},
   "outputs": [],
   "source": []
  }
 ],
 "metadata": {
  "kernelspec": {
   "display_name": "Python 3",
   "language": "python",
   "name": "python3"
  },
  "language_info": {
   "codemirror_mode": {
    "name": "ipython",
    "version": 3
   },
   "file_extension": ".py",
   "mimetype": "text/x-python",
   "name": "python",
   "nbconvert_exporter": "python",
   "pygments_lexer": "ipython3",
   "version": "3.7.6"
  }
 },
 "nbformat": 4,
 "nbformat_minor": 4
}
