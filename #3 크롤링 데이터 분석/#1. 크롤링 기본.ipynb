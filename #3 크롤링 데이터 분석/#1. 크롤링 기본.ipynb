{
 "cells": [
  {
   "cell_type": "markdown",
   "metadata": {},
   "source": [
    "# BeautifulSoup 클래스를 이용한 DOM 객체화\n",
    "\n",
    "- pip(pip3) install bs4 설치\n",
    "- BeautifulSoup : Element가 존재하는 문서들을 파이썬 객체화 시켜주기 위한 클래스"
   ]
  },
  {
   "cell_type": "code",
   "execution_count": 23,
   "metadata": {},
   "outputs": [],
   "source": [
    "# BeautifulSoup 모듈 불러오기\n",
    "from bs4 import BeautifulSoup"
   ]
  },
  {
   "cell_type": "code",
   "execution_count": 25,
   "metadata": {},
   "outputs": [
    {
     "data": {
      "text/plain": [
       "'<!DOCTYPE html>\\n<html>\\n<head>\\n    <title>Simple HTML</title>\\n</head>\\n<body>\\n    <div>\\n        <p class=\"inner-text first-item\" id=\"first\">\\n            Hello HTML!\\n            <a href=\"http://www.naver.com\" id=\"naver-link\">naver</a>\\n        </p>\\n\\n        <p class=\"inner-text second-item\">\\n            Hello Data Science!\\n            <a href=\"http://www.google.co.kr\" id=\"google-link\">google</a>\\n        </p>\\n    </div>\\n\\n    <p class=\"outer-text first-item\" id=\"second\">\\n        <b>데이터 분석</b>\\n    </p>\\n    <p class=\"outer-text\">\\n        <b>\\n            안녕하세요\\n        </b>\\n    </p>\\n    <span class=\"outer-text\">Test</span>\\n</body>\\n</html>'"
      ]
     },
     "execution_count": 25,
     "metadata": {},
     "output_type": "execute_result"
    }
   ],
   "source": [
    "# BeautifulSoup 클래스로 html 불러오기\n",
    "page = open('./data/sample.html', 'r', encoding='utf-8').read()\n",
    "page"
   ]
  },
  {
   "cell_type": "code",
   "execution_count": 26,
   "metadata": {},
   "outputs": [
    {
     "name": "stdout",
     "output_type": "stream",
     "text": [
      "<!DOCTYPE html>\n",
      "<html>\n",
      " <head>\n",
      "  <title>\n",
      "   Simple HTML\n",
      "  </title>\n",
      " </head>\n",
      " <body>\n",
      "  <div>\n",
      "   <p class=\"inner-text first-item\" id=\"first\">\n",
      "    Hello HTML!\n",
      "    <a href=\"http://www.naver.com\" id=\"naver-link\">\n",
      "     naver\n",
      "    </a>\n",
      "   </p>\n",
      "   <p class=\"inner-text second-item\">\n",
      "    Hello Data Science!\n",
      "    <a href=\"http://www.google.co.kr\" id=\"google-link\">\n",
      "     google\n",
      "    </a>\n",
      "   </p>\n",
      "  </div>\n",
      "  <p class=\"outer-text first-item\" id=\"second\">\n",
      "   <b>\n",
      "    데이터 분석\n",
      "   </b>\n",
      "  </p>\n",
      "  <p class=\"outer-text\">\n",
      "   <b>\n",
      "    안녕하세요\n",
      "   </b>\n",
      "  </p>\n",
      "  <span class=\"outer-text\">\n",
      "   Test\n",
      "  </span>\n",
      " </body>\n",
      "</html>\n"
     ]
    }
   ],
   "source": [
    "soup = BeautifulSoup(page, 'html.parser')\n",
    "print(soup.prettify())"
   ]
  },
  {
   "cell_type": "markdown",
   "metadata": {},
   "source": [
    "# soup에 저장된 DOM에 대한 children 확인하기\n",
    " - children은 자식!"
   ]
  },
  {
   "cell_type": "code",
   "execution_count": 27,
   "metadata": {},
   "outputs": [
    {
     "data": {
      "text/plain": [
       "['html',\n",
       " '\\n',\n",
       " <html>\n",
       " <head>\n",
       " <title>Simple HTML</title>\n",
       " </head>\n",
       " <body>\n",
       " <div>\n",
       " <p class=\"inner-text first-item\" id=\"first\">\n",
       "             Hello HTML!\n",
       "             <a href=\"http://www.naver.com\" id=\"naver-link\">naver</a>\n",
       " </p>\n",
       " <p class=\"inner-text second-item\">\n",
       "             Hello Data Science!\n",
       "             <a href=\"http://www.google.co.kr\" id=\"google-link\">google</a>\n",
       " </p>\n",
       " </div>\n",
       " <p class=\"outer-text first-item\" id=\"second\">\n",
       " <b>데이터 분석</b>\n",
       " </p>\n",
       " <p class=\"outer-text\">\n",
       " <b>\n",
       "             안녕하세요\n",
       "         </b>\n",
       " </p>\n",
       " <span class=\"outer-text\">Test</span>\n",
       " </body>\n",
       " </html>]"
      ]
     },
     "execution_count": 27,
     "metadata": {},
     "output_type": "execute_result"
    }
   ],
   "source": [
    "list(soup.children)"
   ]
  },
  {
   "cell_type": "code",
   "execution_count": 28,
   "metadata": {},
   "outputs": [
    {
     "data": {
      "text/plain": [
       "3"
      ]
     },
     "execution_count": 28,
     "metadata": {},
     "output_type": "execute_result"
    }
   ],
   "source": [
    "len(list(soup.children))"
   ]
  },
  {
   "cell_type": "markdown",
   "metadata": {},
   "source": [
    "html만 뽑아내고 싶으면?"
   ]
  },
  {
   "cell_type": "code",
   "execution_count": 29,
   "metadata": {},
   "outputs": [
    {
     "data": {
      "text/plain": [
       "<html>\n",
       "<head>\n",
       "<title>Simple HTML</title>\n",
       "</head>\n",
       "<body>\n",
       "<div>\n",
       "<p class=\"inner-text first-item\" id=\"first\">\n",
       "            Hello HTML!\n",
       "            <a href=\"http://www.naver.com\" id=\"naver-link\">naver</a>\n",
       "</p>\n",
       "<p class=\"inner-text second-item\">\n",
       "            Hello Data Science!\n",
       "            <a href=\"http://www.google.co.kr\" id=\"google-link\">google</a>\n",
       "</p>\n",
       "</div>\n",
       "<p class=\"outer-text first-item\" id=\"second\">\n",
       "<b>데이터 분석</b>\n",
       "</p>\n",
       "<p class=\"outer-text\">\n",
       "<b>\n",
       "            안녕하세요\n",
       "        </b>\n",
       "</p>\n",
       "<span class=\"outer-text\">Test</span>\n",
       "</body>\n",
       "</html>"
      ]
     },
     "execution_count": 29,
     "metadata": {},
     "output_type": "execute_result"
    }
   ],
   "source": [
    "html = list(soup.children)[-1]\n",
    "html"
   ]
  },
  {
   "cell_type": "markdown",
   "metadata": {},
   "source": [
    "# html의 자식들을 확인하려면?"
   ]
  },
  {
   "cell_type": "code",
   "execution_count": 30,
   "metadata": {},
   "outputs": [
    {
     "data": {
      "text/plain": [
       "['\\n',\n",
       " <head>\n",
       " <title>Simple HTML</title>\n",
       " </head>,\n",
       " '\\n',\n",
       " <body>\n",
       " <div>\n",
       " <p class=\"inner-text first-item\" id=\"first\">\n",
       "             Hello HTML!\n",
       "             <a href=\"http://www.naver.com\" id=\"naver-link\">naver</a>\n",
       " </p>\n",
       " <p class=\"inner-text second-item\">\n",
       "             Hello Data Science!\n",
       "             <a href=\"http://www.google.co.kr\" id=\"google-link\">google</a>\n",
       " </p>\n",
       " </div>\n",
       " <p class=\"outer-text first-item\" id=\"second\">\n",
       " <b>데이터 분석</b>\n",
       " </p>\n",
       " <p class=\"outer-text\">\n",
       " <b>\n",
       "             안녕하세요\n",
       "         </b>\n",
       " </p>\n",
       " <span class=\"outer-text\">Test</span>\n",
       " </body>,\n",
       " '\\n']"
      ]
     },
     "execution_count": 30,
     "metadata": {},
     "output_type": "execute_result"
    }
   ],
   "source": [
    "list(html.children)"
   ]
  },
  {
   "cell_type": "code",
   "execution_count": 31,
   "metadata": {},
   "outputs": [
    {
     "data": {
      "text/plain": [
       "<body>\n",
       "<div>\n",
       "<p class=\"inner-text first-item\" id=\"first\">\n",
       "            Hello HTML!\n",
       "            <a href=\"http://www.naver.com\" id=\"naver-link\">naver</a>\n",
       "</p>\n",
       "<p class=\"inner-text second-item\">\n",
       "            Hello Data Science!\n",
       "            <a href=\"http://www.google.co.kr\" id=\"google-link\">google</a>\n",
       "</p>\n",
       "</div>\n",
       "<p class=\"outer-text first-item\" id=\"second\">\n",
       "<b>데이터 분석</b>\n",
       "</p>\n",
       "<p class=\"outer-text\">\n",
       "<b>\n",
       "            안녕하세요\n",
       "        </b>\n",
       "</p>\n",
       "<span class=\"outer-text\">Test</span>\n",
       "</body>"
      ]
     },
     "execution_count": 31,
     "metadata": {},
     "output_type": "execute_result"
    }
   ],
   "source": [
    "body = list(html.children)[3]\n",
    "body"
   ]
  },
  {
   "cell_type": "markdown",
   "metadata": {},
   "source": [
    "body를 이용해서 html 전체를 볼 수 도 있다. body의 부모는 html"
   ]
  },
  {
   "cell_type": "code",
   "execution_count": 32,
   "metadata": {},
   "outputs": [
    {
     "data": {
      "text/plain": [
       "<html>\n",
       "<head>\n",
       "<title>Simple HTML</title>\n",
       "</head>\n",
       "<body>\n",
       "<div>\n",
       "<p class=\"inner-text first-item\" id=\"first\">\n",
       "            Hello HTML!\n",
       "            <a href=\"http://www.naver.com\" id=\"naver-link\">naver</a>\n",
       "</p>\n",
       "<p class=\"inner-text second-item\">\n",
       "            Hello Data Science!\n",
       "            <a href=\"http://www.google.co.kr\" id=\"google-link\">google</a>\n",
       "</p>\n",
       "</div>\n",
       "<p class=\"outer-text first-item\" id=\"second\">\n",
       "<b>데이터 분석</b>\n",
       "</p>\n",
       "<p class=\"outer-text\">\n",
       "<b>\n",
       "            안녕하세요\n",
       "        </b>\n",
       "</p>\n",
       "<span class=\"outer-text\">Test</span>\n",
       "</body>\n",
       "</html>"
      ]
     },
     "execution_count": 32,
     "metadata": {},
     "output_type": "execute_result"
    }
   ],
   "source": [
    "body.parent"
   ]
  },
  {
   "cell_type": "markdown",
   "metadata": {},
   "source": [
    "기본적으로 자주 사용되는 태그들은 이미 bs4에서 준비 해 놨습니다."
   ]
  },
  {
   "cell_type": "code",
   "execution_count": 33,
   "metadata": {},
   "outputs": [
    {
     "data": {
      "text/plain": [
       "<body>\n",
       "<div>\n",
       "<p class=\"inner-text first-item\" id=\"first\">\n",
       "            Hello HTML!\n",
       "            <a href=\"http://www.naver.com\" id=\"naver-link\">naver</a>\n",
       "</p>\n",
       "<p class=\"inner-text second-item\">\n",
       "            Hello Data Science!\n",
       "            <a href=\"http://www.google.co.kr\" id=\"google-link\">google</a>\n",
       "</p>\n",
       "</div>\n",
       "<p class=\"outer-text first-item\" id=\"second\">\n",
       "<b>데이터 분석</b>\n",
       "</p>\n",
       "<p class=\"outer-text\">\n",
       "<b>\n",
       "            안녕하세요\n",
       "        </b>\n",
       "</p>\n",
       "<span class=\"outer-text\">Test</span>\n",
       "</body>"
      ]
     },
     "execution_count": 33,
     "metadata": {},
     "output_type": "execute_result"
    }
   ],
   "source": [
    "soup.body"
   ]
  },
  {
   "cell_type": "code",
   "execution_count": 34,
   "metadata": {},
   "outputs": [
    {
     "data": {
      "text/plain": [
       "['\\n',\n",
       " <div>\n",
       " <p class=\"inner-text first-item\" id=\"first\">\n",
       "             Hello HTML!\n",
       "             <a href=\"http://www.naver.com\" id=\"naver-link\">naver</a>\n",
       " </p>\n",
       " <p class=\"inner-text second-item\">\n",
       "             Hello Data Science!\n",
       "             <a href=\"http://www.google.co.kr\" id=\"google-link\">google</a>\n",
       " </p>\n",
       " </div>,\n",
       " '\\n',\n",
       " <p class=\"outer-text first-item\" id=\"second\">\n",
       " <b>데이터 분석</b>\n",
       " </p>,\n",
       " '\\n',\n",
       " <p class=\"outer-text\">\n",
       " <b>\n",
       "             안녕하세요\n",
       "         </b>\n",
       " </p>,\n",
       " '\\n',\n",
       " <span class=\"outer-text\">Test</span>,\n",
       " '\\n']"
      ]
     },
     "execution_count": 34,
     "metadata": {},
     "output_type": "execute_result"
    }
   ],
   "source": [
    "body = soup.body\n",
    "list(body.children)"
   ]
  },
  {
   "cell_type": "markdown",
   "metadata": {},
   "source": [
    "------\n",
    "------"
   ]
  },
  {
   "cell_type": "code",
   "execution_count": 35,
   "metadata": {},
   "outputs": [
    {
     "data": {
      "text/plain": [
       "[<p class=\"inner-text first-item\" id=\"first\">\n",
       "             Hello HTML!\n",
       "             <a href=\"http://www.naver.com\" id=\"naver-link\">naver</a>\n",
       " </p>,\n",
       " <p class=\"inner-text second-item\">\n",
       "             Hello Data Science!\n",
       "             <a href=\"http://www.google.co.kr\" id=\"google-link\">google</a>\n",
       " </p>,\n",
       " <p class=\"outer-text first-item\" id=\"second\">\n",
       " <b>데이터 분석</b>\n",
       " </p>,\n",
       " <p class=\"outer-text\">\n",
       " <b>\n",
       "             안녕하세요\n",
       "         </b>\n",
       " </p>]"
      ]
     },
     "execution_count": 35,
     "metadata": {},
     "output_type": "execute_result"
    }
   ],
   "source": [
    "soup.find_all(\"p\") # 전체 문서에서 p 태그만 가져오겠다."
   ]
  },
  {
   "cell_type": "code",
   "execution_count": 36,
   "metadata": {},
   "outputs": [
    {
     "data": {
      "text/plain": [
       "4"
      ]
     },
     "execution_count": 36,
     "metadata": {},
     "output_type": "execute_result"
    }
   ],
   "source": [
    "len(soup.find_all(\"p\"))"
   ]
  },
  {
   "cell_type": "markdown",
   "metadata": {},
   "source": [
    "제일 처음 등장하는 태그를 찾기 -> find"
   ]
  },
  {
   "cell_type": "code",
   "execution_count": 37,
   "metadata": {},
   "outputs": [
    {
     "data": {
      "text/plain": [
       "<p class=\"inner-text first-item\" id=\"first\">\n",
       "            Hello HTML!\n",
       "            <a href=\"http://www.naver.com\" id=\"naver-link\">naver</a>\n",
       "</p>"
      ]
     },
     "execution_count": 37,
     "metadata": {},
     "output_type": "execute_result"
    }
   ],
   "source": [
    "soup.find(\"p\")"
   ]
  },
  {
   "cell_type": "code",
   "execution_count": 38,
   "metadata": {},
   "outputs": [
    {
     "data": {
      "text/plain": [
       "<p class=\"inner-text first-item\" id=\"first\">\n",
       "            Hello HTML!\n",
       "            <a href=\"http://www.naver.com\" id=\"naver-link\">naver</a>\n",
       "</p>"
      ]
     },
     "execution_count": 38,
     "metadata": {},
     "output_type": "execute_result"
    }
   ],
   "source": [
    "tmp_p = soup.find(\"p\")\n",
    "tmp_p"
   ]
  },
  {
   "cell_type": "code",
   "execution_count": 39,
   "metadata": {},
   "outputs": [
    {
     "data": {
      "text/plain": [
       "<a href=\"http://www.naver.com\" id=\"naver-link\">naver</a>"
      ]
     },
     "execution_count": 39,
     "metadata": {},
     "output_type": "execute_result"
    }
   ],
   "source": [
    "tmp_p.find(\"a\")"
   ]
  },
  {
   "cell_type": "markdown",
   "metadata": {},
   "source": [
    "---\n",
    "class를 이용해 엘리먼트 찾기"
   ]
  },
  {
   "cell_type": "code",
   "execution_count": 40,
   "metadata": {},
   "outputs": [
    {
     "data": {
      "text/plain": [
       "[<p class=\"outer-text first-item\" id=\"second\">\n",
       " <b>데이터 분석</b>\n",
       " </p>,\n",
       " <p class=\"outer-text\">\n",
       " <b>\n",
       "             안녕하세요\n",
       "         </b>\n",
       " </p>]"
      ]
     },
     "execution_count": 40,
     "metadata": {},
     "output_type": "execute_result"
    }
   ],
   "source": [
    "# outer-text 라는 클래스 속성이 있는 p엘리먼트 찾기\n",
    "soup.find_all('p', class_='outer-text')"
   ]
  },
  {
   "cell_type": "code",
   "execution_count": 41,
   "metadata": {},
   "outputs": [
    {
     "data": {
      "text/plain": [
       "[<p class=\"outer-text first-item\" id=\"second\">\n",
       " <b>데이터 분석</b>\n",
       " </p>,\n",
       " <p class=\"outer-text\">\n",
       " <b>\n",
       "             안녕하세요\n",
       "         </b>\n",
       " </p>,\n",
       " <span class=\"outer-text\">Test</span>]"
      ]
     },
     "execution_count": 41,
     "metadata": {},
     "output_type": "execute_result"
    }
   ],
   "source": [
    "# outer-text라는 클래스의 속성만 이용해서 모든 엘리먼트 찾기\n",
    "soup.find_all(class_='outer-text')"
   ]
  },
  {
   "cell_type": "markdown",
   "metadata": {},
   "source": [
    "id를 통한 검색"
   ]
  },
  {
   "cell_type": "code",
   "execution_count": 42,
   "metadata": {},
   "outputs": [
    {
     "data": {
      "text/plain": [
       "<p class=\"inner-text first-item\" id=\"first\">\n",
       "            Hello HTML!\n",
       "            <a href=\"http://www.naver.com\" id=\"naver-link\">naver</a>\n",
       "</p>"
      ]
     },
     "execution_count": 42,
     "metadata": {},
     "output_type": "execute_result"
    }
   ],
   "source": [
    "soup.find(id='first') # html의 id값은 유일한 값이기 때문에 find와 자주 같이 사용된다."
   ]
  },
  {
   "cell_type": "markdown",
   "metadata": {},
   "source": [
    "속성(attribute)을 이용해 가져오기"
   ]
  },
  {
   "cell_type": "code",
   "execution_count": 50,
   "metadata": {},
   "outputs": [
    {
     "data": {
      "text/plain": [
       "[<a href=\"http://www.naver.com\" id=\"naver-link\">naver</a>,\n",
       " <a href=\"http://www.google.co.kr\" id=\"google-link\">google</a>]"
      ]
     },
     "execution_count": 50,
     "metadata": {},
     "output_type": "execute_result"
    }
   ],
   "source": [
    "tmp_a = soup.find_all('a')\n",
    "tmp_a"
   ]
  },
  {
   "cell_type": "markdown",
   "metadata": {},
   "source": [
    "속성을 사용해 엘리먼트를 검색하는 방법 1"
   ]
  },
  {
   "cell_type": "code",
   "execution_count": 51,
   "metadata": {},
   "outputs": [
    {
     "name": "stdout",
     "output_type": "stream",
     "text": [
      "<a href=\"http://www.google.co.kr\" id=\"google-link\">google</a>\n"
     ]
    }
   ],
   "source": [
    "for a in tmp_a:\n",
    "    if a['href'] == 'http://www.google.co.kr':\n",
    "        print(a)"
   ]
  },
  {
   "cell_type": "markdown",
   "metadata": {},
   "source": [
    "속성을 사용해 엘리먼트를 검색하는 방법 2"
   ]
  },
  {
   "cell_type": "code",
   "execution_count": 52,
   "metadata": {},
   "outputs": [
    {
     "data": {
      "text/plain": [
       "<a href=\"http://www.google.co.kr\" id=\"google-link\">google</a>"
      ]
     },
     "execution_count": 52,
     "metadata": {},
     "output_type": "execute_result"
    }
   ],
   "source": [
    "soup.find(\"a\", {\"href\":\"http://www.google.co.kr\"})"
   ]
  },
  {
   "cell_type": "markdown",
   "metadata": {},
   "source": [
    "# 원하는 데이터 추출하기\n",
    "- 텍스트 : <태그> **텍스트** </태그>\n",
    "- 속성값 : <태그 속성=**\"속성값\"**> 텍스트 </태그>"
   ]
  },
  {
   "cell_type": "code",
   "execution_count": 54,
   "metadata": {},
   "outputs": [
    {
     "data": {
      "text/plain": [
       "'google'"
      ]
     },
     "execution_count": 54,
     "metadata": {},
     "output_type": "execute_result"
    }
   ],
   "source": [
    "tmp_a = soup.find(\"a\", {\"href\":\"http://www.google.co.kr\"})\n",
    "tmp_a.text # 태그에 있는 텍스트 값 추출하기"
   ]
  },
  {
   "cell_type": "code",
   "execution_count": 55,
   "metadata": {},
   "outputs": [
    {
     "data": {
      "text/plain": [
       "'http://www.google.co.kr'"
      ]
     },
     "execution_count": 55,
     "metadata": {},
     "output_type": "execute_result"
    }
   ],
   "source": [
    "tmp_a.get('href')"
   ]
  },
  {
   "cell_type": "markdown",
   "metadata": {},
   "source": [
    "# 네이버 증시 크롤링하기"
   ]
  },
  {
   "cell_type": "code",
   "execution_count": 56,
   "metadata": {},
   "outputs": [],
   "source": [
    "# 실제 웹사이트에 접속해서 크롤링을 하기 위한 모듈( request )\n",
    "# pip(pip3) install urllib\n",
    "from urllib.request import urlopen"
   ]
  },
  {
   "cell_type": "code",
   "execution_count": 58,
   "metadata": {
    "collapsed": true
   },
   "outputs": [
    {
     "data": {
      "text/plain": [
       "\n",
       "<script language=\"javascript\" src=\"/template/head_js.nhn?referer=info.finance.naver.com&amp;menu=marketindex&amp;submenu=market\"></script>\n",
       "<script src=\"/js/info/jindo.min.ns.1.5.3.euckr.js\" type=\"text/javascript\"></script>\n",
       "<script src=\"/js/jindo.1.5.3.element-text-patch.js\" type=\"text/javascript\"></script>\n",
       "<div id=\"container\" style=\"padding-bottom:0px;\">\n",
       "<script language=\"JavaScript\" src=\"/js/flashObject.js?20200615180049\"></script>\n",
       "<div class=\"market_include\">\n",
       "<div class=\"market_data\">\n",
       "<div class=\"market1\">\n",
       "<div class=\"title\">\n",
       "<h2 class=\"h_market1\"><span>환전 고시 환율</span></h2>\n",
       "</div>\n",
       "<!-- data -->\n",
       "<div class=\"data\">\n",
       "<ul class=\"data_lst\" id=\"exchangeList\">\n",
       "<li class=\"on\">\n",
       "<a class=\"head usd\" href=\"/marketindex/exchangeDetail.nhn?marketindexCd=FX_USDKRW\" onclick=\"clickcr(this, 'fr1.usdt', '', '', event);\">\n",
       "<h3 class=\"h_lst\"><span class=\"blind\">미국 USD</span></h3>\n",
       "<div class=\"head_info point_dn\">\n",
       "<span class=\"value\">1,200.80</span>\n",
       "<span class=\"txt_krw\"><span class=\"blind\">원</span></span>\n",
       "<span class=\"change\"> 5.70</span>\n",
       "<span class=\"blind\">하락</span>\n",
       "</div>\n",
       "</a>\n",
       "<a class=\"graph_img\" href=\"/marketindex/exchangeDetail.nhn?marketindexCd=FX_USDKRW\" onclick=\"clickcr(this, 'fr1.usdc', '', '', event);\">\n",
       "<img alt=\"\" height=\"153\" src=\"https://ssl.pstatic.net/imgfinance/chart/marketindex/FX_USDKRW.png\" width=\"295\"/>\n",
       "</a>\n",
       "<div class=\"graph_info\">\n",
       "<span class=\"time\">2020.07.15 14:23</span>\n",
       "<span class=\"source\">하나은행 기준</span>\n",
       "<span class=\"count\">고시회차<span class=\"num\">206</span>회</span>\n",
       "</div>\n",
       "</li>\n",
       "<li class=\"\">\n",
       "<a class=\"head jpy\" href=\"/marketindex/exchangeDetail.nhn?marketindexCd=FX_JPYKRW\" onclick=\"clickcr(this, 'fr1.jpyt', '', '', event);\">\n",
       "<h3 class=\"h_lst\"><span class=\"blind\">일본 JPY(100엔)</span></h3>\n",
       "<div class=\"head_info point_dn\">\n",
       "<span class=\"value\">1,119.47</span>\n",
       "<span class=\"txt_krw\"><span class=\"blind\">원</span></span>\n",
       "<span class=\"change\"> 4.06</span>\n",
       "<span class=\"blind\">하락</span>\n",
       "</div>\n",
       "</a>\n",
       "<a class=\"graph_img\" href=\"/marketindex/exchangeDetail.nhn?marketindexCd=FX_JPYKRW\" onclick=\"clickcr(this, 'fr1.jpyc', '', '', event);\">\n",
       "<img alt=\"\" height=\"153\" src=\"https://ssl.pstatic.net/imgfinance/chart/marketindex/FX_JPYKRW.png\" width=\"295\"/>\n",
       "</a>\n",
       "<div class=\"graph_info\">\n",
       "<span class=\"time\">2020.07.15 14:23</span>\n",
       "<span class=\"source\">하나은행 기준</span>\n",
       "<span class=\"count\">고시회차<span class=\"num\">206</span>회</span>\n",
       "</div>\n",
       "</li>\n",
       "<li class=\"\">\n",
       "<a class=\"head eur\" href=\"/marketindex/exchangeDetail.nhn?marketindexCd=FX_EURKRW\" onclick=\"clickcr(this, 'fr1.eurt', '', '', event);\">\n",
       "<h3 class=\"h_lst\"><span class=\"blind\">유럽연합 EUR</span></h3>\n",
       "<div class=\"head_info point_dn\">\n",
       "<span class=\"value\">1,368.37</span>\n",
       "<span class=\"txt_krw\"><span class=\"blind\">원</span></span>\n",
       "<span class=\"change\"> 2.58</span>\n",
       "<span class=\"blind\">하락</span>\n",
       "</div>\n",
       "</a>\n",
       "<a class=\"graph_img\" href=\"/marketindex/exchangeDetail.nhn?marketindexCd=FX_EURKRW\" onclick=\"clickcr(this, 'fr1.eurc', '', '', event);\">\n",
       "<img alt=\"\" height=\"153\" src=\"https://ssl.pstatic.net/imgfinance/chart/marketindex/FX_EURKRW.png\" width=\"295\"/>\n",
       "</a>\n",
       "<div class=\"graph_info\">\n",
       "<span class=\"time\">2020.07.15 14:23</span>\n",
       "<span class=\"source\">하나은행 기준</span>\n",
       "<span class=\"count\">고시회차<span class=\"num\">206</span>회</span>\n",
       "</div>\n",
       "</li>\n",
       "<li class=\"\">\n",
       "<a class=\"head cny\" href=\"/marketindex/exchangeDetail.nhn?marketindexCd=FX_CNYKRW\" onclick=\"clickcr(this, 'fr1.cnyt', '', '', event);\">\n",
       "<h3 class=\"h_lst\"><span class=\"blind\">중국 CNY</span></h3>\n",
       "<div class=\"head_info point_dn\">\n",
       "<span class=\"value\">171.53</span>\n",
       "<span class=\"txt_krw\"><span class=\"blind\">원</span></span>\n",
       "<span class=\"change\"> 0.35</span>\n",
       "<span class=\"blind\">하락</span>\n",
       "</div>\n",
       "</a>\n",
       "<a class=\"graph_img\" href=\"/marketindex/exchangeDetail.nhn?marketindexCd=FX_CNYKRW\" onclick=\"clickcr(this, 'fr1.cnyc', '', '', event);\">\n",
       "<img alt=\"\" height=\"153\" src=\"https://ssl.pstatic.net/imgfinance/chart/marketindex/FX_CNYKRW.png\" width=\"295\"/>\n",
       "</a>\n",
       "<div class=\"graph_info\">\n",
       "<span class=\"time\">2020.07.15 14:23</span>\n",
       "<span class=\"source\">하나은행 기준</span>\n",
       "<span class=\"count\">고시회차<span class=\"num\">206</span>회</span>\n",
       "</div>\n",
       "</li>\n",
       "</ul>\n",
       "</div>\n",
       "<!-- //data -->\n",
       "</div>\n",
       "<div class=\"market2\">\n",
       "<div class=\"title\">\n",
       "<h2 class=\"h_market2\"><span>국제 시장 환율</span></h2>\n",
       "</div>\n",
       "<!-- data -->\n",
       "<div class=\"data\">\n",
       "<ul class=\"data_lst\" id=\"worldExchangeList\">\n",
       "<li class=\"on\">\n",
       "<a class=\"head jpy_usd\" href=\"/marketindex/worldExchangeDetail.nhn?marketindexCd=FX_USDJPY\" onclick=\"clickcr(this, 'fr2.jpyut', '', '', event);\">\n",
       "<h3 class=\"h_lst\"><span class=\"blind\">일본 엔/달러</span></h3>\n",
       "<div class=\"head_info point_dn\">\n",
       "<span class=\"value\">107.2600</span>\n",
       "<span class=\"txt_jpy\"><span class=\"blind\">엔</span></span>\n",
       "<span class=\"change\"> 0.0100</span>\n",
       "<span class=\"blind\">하락</span>\n",
       "</div>\n",
       "</a>\n",
       "<a class=\"graph_img\" href=\"/marketindex/worldExchangeDetail.nhn?marketindexCd=FX_USDJPY\" onclick=\"clickcr(this, 'fr2.jpyuc', '', '', event);\">\n",
       "<img alt=\"\" height=\"153\" src=\"https://ssl.pstatic.net/imgfinance/chart/marketindex/FX_USDJPY.png\" width=\"295\"/>\n",
       "</a>\n",
       "<div class=\"graph_info\">\n",
       "<span class=\"time\">2020.07.14</span>\n",
       "<span class=\"source\">모닝스타 기준</span>\n",
       "</div>\n",
       "</li>\n",
       "<li class=\"\">\n",
       "<a class=\"head usd_eur\" href=\"/marketindex/worldExchangeDetail.nhn?marketindexCd=FX_EURUSD\" onclick=\"clickcr(this, 'fr2.eurdt', '', '', event);\">\n",
       "<h3 class=\"h_lst\"><span class=\"blind\">달러/유로</span></h3>\n",
       "<div class=\"head_info point_up\">\n",
       "<span class=\"value\">1.1396</span>\n",
       "<span class=\"txt_usd\"><span class=\"blind\">달러</span></span>\n",
       "<span class=\"change\">0.0028</span>\n",
       "<span class=\"blind\">상승</span>\n",
       "</div>\n",
       "</a>\n",
       "<a class=\"graph_img\" href=\"/marketindex/worldExchangeDetail.nhn?marketindexCd=FX_EURUSD\" onclick=\"clickcr(this, 'fr2.eurdc', '', '', event);\">\n",
       "<img alt=\"\" height=\"153\" src=\"https://ssl.pstatic.net/imgfinance/chart/marketindex/FX_EURUSD.png\" width=\"295\"/>\n",
       "</a>\n",
       "<div class=\"graph_info\">\n",
       "<span class=\"time\">2020.07.14</span>\n",
       "<span class=\"source\">모닝스타 기준</span>\n",
       "</div>\n",
       "</li>\n",
       "<li class=\"\">\n",
       "<a class=\"head usd_gbp\" href=\"/marketindex/worldExchangeDetail.nhn?marketindexCd=FX_GBPUSD\" onclick=\"clickcr(this, 'fr2.gbpdt', '', '', event);\">\n",
       "<h3 class=\"h_lst\"><span class=\"blind\">달러/영국파운드</span></h3>\n",
       "<div class=\"head_info point_dn\">\n",
       "<span class=\"value\">1.2525</span>\n",
       "<span class=\"txt_usd\"><span class=\"blind\">달러</span></span>\n",
       "<span class=\"change\"> 0.0092</span>\n",
       "<span class=\"blind\">하락</span>\n",
       "</div>\n",
       "</a>\n",
       "<a class=\"graph_img\" href=\"/marketindex/worldExchangeDetail.nhn?marketindexCd=FX_GBPUSD\" onclick=\"clickcr(this, 'fr2.gbpdc', '', '', event);\">\n",
       "<img alt=\"\" height=\"153\" src=\"https://ssl.pstatic.net/imgfinance/chart/marketindex/FX_GBPUSD.png\" width=\"295\"/>\n",
       "</a>\n",
       "<div class=\"graph_info\">\n",
       "<span class=\"time\">2020.07.14</span>\n",
       "<span class=\"source\">모닝스타 기준</span>\n",
       "</div>\n",
       "</li>\n",
       "<li class=\"\">\n",
       "<a class=\"head usd_idx\" href=\"/marketindex/worldExchangeDetail.nhn?marketindexCd=FX_USDX\" onclick=\"clickcr(this, 'fr2.indt', '', '', event);\">\n",
       "<h3 class=\"h_lst\"><span class=\"blind\">달러인덱스</span></h3>\n",
       "<div class=\"head_info point_dn\">\n",
       "<span class=\"value\">96.2000</span>\n",
       "<span class=\"change\"> 0.2000</span>\n",
       "<span class=\"blind\">하락</span>\n",
       "</div>\n",
       "</a>\n",
       "<a class=\"graph_img\" href=\"/marketindex/worldExchangeDetail.nhn?marketindexCd=FX_USDX\" onclick=\"clickcr(this, 'fr2.indc', '', '', event);\">\n",
       "<img alt=\"\" height=\"153\" src=\"https://ssl.pstatic.net/imgfinance/chart/marketindex/FX_USDX.png\" width=\"295\"/>\n",
       "</a>\n",
       "<div class=\"graph_info\">\n",
       "<span class=\"time\">2020.07.14</span>\n",
       "<span class=\"source\">ICE 기준</span>\n",
       "</div>\n",
       "</li>\n",
       "</ul>\n",
       "</div>\n",
       "<!-- //data -->\n",
       "</div>\n",
       "<div class=\"market3\">\n",
       "<div class=\"title\">\n",
       "<h2 class=\"h_market3\"><span>유가·금시세</span></h2>\n",
       "</div>\n",
       "<!-- data -->\n",
       "<div class=\"data\">\n",
       "<ul class=\"data_lst\" id=\"oilGoldList\">\n",
       "<li class=\"on\">\n",
       "<a class=\"head wti\" href=\"/marketindex/worldOilDetail.nhn?marketindexCd=OIL_CL&amp;fdtc=2\" onclick=\"clickcr(this, 'fr3.wtit', '', '', event);\">\n",
       "<h3 class=\"h_lst\"><span class=\"blind\">WTI</span></h3>\n",
       "<div class=\"head_info point_up\">\n",
       "<span class=\"value\">40.29</span>\n",
       "<span class=\"txt_usd\"><span class=\"blind\">달러</span></span>\n",
       "<span class=\"change\">0.19</span>\n",
       "<span class=\"blind\">상승</span>\n",
       "</div>\n",
       "</a>\n",
       "<a class=\"graph_img\" href=\"/marketindex/worldOilDetail.nhn?marketindexCd=OIL_CL&amp;fdtc=2\" onclick=\"clickcr(this, 'fr3.wtic', '', '', event);\">\n",
       "<img alt=\"\" height=\"153\" src=\"https://ssl.pstatic.net/imgfinance/chart/marketindex/OIL_CL.png\" width=\"295\"/>\n",
       "</a>\n",
       "<div class=\"graph_info\">\n",
       "<span class=\"time\">2020.07.14</span>\n",
       "<span class=\"source\">NYMEX(뉴욕상업거래소) 기준</span>\n",
       "</div>\n",
       "</li>\n",
       "<li class=\"\">\n",
       "<a class=\"head gasoline\" href=\"/marketindex/oilDetail.nhn?marketindexCd=OIL_GSL\" onclick=\"clickcr(this, 'fr3.oilt', '', '', event);\">\n",
       "<h3 class=\"h_lst\"><span class=\"blind\">휘발유</span></h3>\n",
       "<div class=\"head_info point_up\">\n",
       "<span class=\"value\">1360.85</span>\n",
       "<span class=\"txt_krw\"><span class=\"blind\">원</span></span>\n",
       "<span class=\"change\">0.05</span>\n",
       "<span class=\"blind\">상승</span>\n",
       "</div>\n",
       "</a>\n",
       "<a class=\"graph_img\" href=\"/marketindex/oilDetail.nhn?marketindexCd=OIL_GSL\" onclick=\"clickcr(this, 'fr3.oilc', '', '', event);\">\n",
       "<img alt=\"\" height=\"153\" src=\"https://ssl.pstatic.net/imgfinance/chart/marketindex/OIL_GSL.png\" width=\"295\"/>\n",
       "</a>\n",
       "<div class=\"graph_info\">\n",
       "<span class=\"time\">2020.07.15</span>\n",
       "<span class=\"source\">한국석유공사 Opinet 기준</span>\n",
       "</div>\n",
       "</li>\n",
       "<li class=\"\">\n",
       "<a class=\"head gold_inter\" href=\"/marketindex/worldGoldDetail.nhn?marketindexCd=CMDT_GC&amp;fdtc=2\" onclick=\"clickcr(this, 'fr3.agoldt', '', '', event);\">\n",
       "<h3 class=\"h_lst\"><span class=\"blind\">국제 금</span></h3>\n",
       "<div class=\"head_info point_dn\">\n",
       "<span class=\"value\">1810.6</span>\n",
       "<span class=\"txt_usd\"><span class=\"blind\">달러</span></span>\n",
       "<span class=\"change\"> 0.40</span>\n",
       "<span class=\"blind\">하락</span>\n",
       "</div>\n",
       "</a>\n",
       "<a class=\"graph_img\" href=\"/marketindex/worldGoldDetail.nhn?marketindexCd=CMDT_GC&amp;fdtc=2\" onclick=\"clickcr(this, 'fr3.agoldc', '', '', event);\">\n",
       "<img alt=\"\" height=\"153\" src=\"https://ssl.pstatic.net/imgfinance/chart/marketindex/CMDT_GC.png\" width=\"295\"/>\n",
       "</a>\n",
       "<div class=\"graph_info\">\n",
       "<span class=\"time\">2020.07.14</span>\n",
       "<span class=\"source\">COMEX(뉴욕상품거래소) 기준</span>\n",
       "</div>\n",
       "</li>\n",
       "<li class=\"\">\n",
       "<a class=\"head gold_domestic\" href=\"/marketindex/goldDetail.nhn\" onclick=\"clickcr(this, 'fr3.kgoldt', '', '', event);\">\n",
       "<h3 class=\"h_lst\"><span class=\"blind\">국내 금</span></h3>\n",
       "<div class=\"head_info point_dn\">\n",
       "<span class=\"value\">69727.69</span>\n",
       "<span class=\"txt_krw\"><span class=\"blind\">원</span></span>\n",
       "<span class=\"change\"> 99.33</span>\n",
       "<span class=\"blind\">하락</span>\n",
       "</div>\n",
       "</a>\n",
       "<a class=\"graph_img\" href=\"/marketindex/goldDetail.nhn\" onclick=\"clickcr(this, 'fr3.kgoldc', '', '', event);\">\n",
       "<img alt=\"\" height=\"153\" src=\"https://ssl.pstatic.net/imgfinance/chart/marketindex/CMDT_GD.png\" width=\"295\"/>\n",
       "</a>\n",
       "<div class=\"graph_info\">\n",
       "<span class=\"time\">2020.07.15 14:18</span>\n",
       "<span class=\"source\">신한은행 기준</span>\n",
       "\t\t\t\t\t\t\t(<span class=\"num\">77</span>회차)\t\t\t\n",
       "\t\t\t\t\t</div>\n",
       "</li>\n",
       "</ul>\n",
       "</div>\n",
       "<!-- //data -->\n",
       "</div>\n",
       "</div>\n",
       "</div>\n",
       "<div class=\"marketindex_content\" id=\"content\">\n",
       "<div class=\"section_news\">\n",
       "<h3 class=\"h_news2\"><span>주요 뉴스</span></h3>\n",
       "<div class=\"list_area\">\n",
       "<ul>\n",
       "<li>\n",
       "<p><a href=\"/marketindex/news/newsRead.nhn?officeId=016&amp;articleId=0001699792&amp;category=\" onclick=\"clickcr(this, 'mhn.list', '016_0001699792', '0', event);\">[itM] 경기 바닥 찍었나…원자재 꿈틀</a><img alt=\"NEW\" height=\"8\" src=\"https://ssl.pstatic.net/static/nfinance/ico_new.gif\" width=\"8\"/></p>\n",
       "<span>07.15 14:06</span>\n",
       "</li>\n",
       "<li>\n",
       "<p><a href=\"/marketindex/news/newsRead.nhn?officeId=015&amp;articleId=0004380655&amp;category=\" onclick=\"clickcr(this, 'mhn.list', '015_0004380655', '1', event);\">'LS' 5% 이상 상승, 원자재 가격의 </a><img alt=\"NEW\" height=\"8\" src=\"https://ssl.pstatic.net/static/nfinance/ico_new.gif\" width=\"8\"/></p>\n",
       "<span>07.15 09:45</span>\n",
       "</li>\n",
       "<li>\n",
       "<p><a href=\"/marketindex/news/newsRead.nhn?officeId=018&amp;articleId=0004690013&amp;category=\" onclick=\"clickcr(this, 'mhn.list', '018_0004690013', '2', event);\">[외환브리핑]백신 개발 기대·위안화 강세에</a><img alt=\"NEW\" height=\"8\" src=\"https://ssl.pstatic.net/static/nfinance/ico_new.gif\" width=\"8\"/></p>\n",
       "<span>07.15 08:46</span>\n",
       "</li>\n",
       "<li>\n",
       "<p><a href=\"/marketindex/news/newsRead.nhn?officeId=014&amp;articleId=0004461312&amp;category=\" onclick=\"clickcr(this, 'mhn.list', '014_0004461312', '3', event);\">[원자재시황] 국제유가, OPEC+ 회의 </a><img alt=\"NEW\" height=\"8\" src=\"https://ssl.pstatic.net/static/nfinance/ico_new.gif\" width=\"8\"/></p>\n",
       "<span>07.15 08:32</span>\n",
       "</li>\n",
       "<li>\n",
       "<p><a href=\"/marketindex/news/newsRead.nhn?officeId=417&amp;articleId=0000568235&amp;category=\" onclick=\"clickcr(this, 'mhn.list', '417_0000568235', '4', event);\">[오늘의 환율전망] 원/달러 환율, 120</a><img alt=\"NEW\" height=\"8\" src=\"https://ssl.pstatic.net/static/nfinance/ico_new.gif\" width=\"8\"/></p>\n",
       "<span>07.15 08:20</span>\n",
       "</li>\n",
       "<li>\n",
       "<p><a href=\"/marketindex/news/newsRead.nhn?officeId=057&amp;articleId=0001477630&amp;category=\" onclick=\"clickcr(this, 'mhn.list', '057_0001477630', '5', event);\">6월 수출 물가, 국제유가 상승으로 2개월</a><img alt=\"NEW\" height=\"8\" src=\"https://ssl.pstatic.net/static/nfinance/ico_new.gif\" width=\"8\"/></p>\n",
       "<span>07.15 08:06</span>\n",
       "</li>\n",
       "<li>\n",
       "<p><a href=\"/marketindex/news/newsRead.nhn?officeId=008&amp;articleId=0004439959&amp;category=\" onclick=\"clickcr(this, 'mhn.list', '008_0004439959', '6', event);\">[유가마감] OPEC+ 감산 초과달성…WT</a><img alt=\"NEW\" height=\"8\" src=\"https://ssl.pstatic.net/static/nfinance/ico_new.gif\" width=\"8\"/></p>\n",
       "<span>07.15 06:04</span>\n",
       "</li>\n",
       "<li>\n",
       "<p><a href=\"/marketindex/news/newsRead.nhn?officeId=018&amp;articleId=0004689903&amp;category=\" onclick=\"clickcr(this, 'mhn.list', '018_0004689903', '7', event);\">국제유가 반등에 6월 수출입물가 동반상승</a><img alt=\"NEW\" height=\"8\" src=\"https://ssl.pstatic.net/static/nfinance/ico_new.gif\" width=\"8\"/></p>\n",
       "<span>07.15 06:02</span>\n",
       "</li>\n",
       "<li>\n",
       "<p><a href=\"/marketindex/news/newsRead.nhn?officeId=015&amp;articleId=0004380487&amp;category=\" onclick=\"clickcr(this, 'mhn.list', '015_0004380487', '8', event);\">6월 수출입물가, 국제유가 회복에 두 달 </a><img alt=\"NEW\" height=\"8\" src=\"https://ssl.pstatic.net/static/nfinance/ico_new.gif\" width=\"8\"/></p>\n",
       "<span>07.15 06:01</span>\n",
       "</li>\n",
       "<li>\n",
       "<p><a href=\"/marketindex/news/newsRead.nhn?officeId=008&amp;articleId=0004439954&amp;category=\" onclick=\"clickcr(this, 'mhn.list', '008_0004439954', '9', event);\">국제유가 상승…수출입물가 2개월째↑</a><img alt=\"NEW\" height=\"8\" src=\"https://ssl.pstatic.net/static/nfinance/ico_new.gif\" width=\"8\"/></p>\n",
       "<span>07.15 06:00</span>\n",
       "</li>\n",
       "</ul>\n",
       "</div>\n",
       "<a class=\"btn_more\" href=\"/marketindex/news/newsList.nhn\" onclick=\"clickcr(this, 'mhn.more', '', '', event);\"><img alt=\"더보기\" height=\"18\" src=\"https://ssl.pstatic.net/static/nfinance/btn_more.gif\" width=\"34\"/></a>\n",
       "</div>\n",
       "<div class=\"tab_default1\" id=\"tab_section\">\n",
       "<ul>\n",
       "<li class=\"on\"><a href=\"./?tabSel=exchange#tab_section\" onclick=\"clickcr(this, 'mtb.exnoti', '', '', event);\"><span class=\"tab1\">환전고시 환율</span></a></li>\n",
       "<li class=\"\"><a href=\"./?tabSel=worldExchange#tab_section\" onclick=\"clickcr(this, 'mtb.interex', '', '', event);\"><span class=\"tab2\">국제시장 환율</span></a></li>\n",
       "<li class=\"\"><a href=\"./?tabSel=gold#tab_section\" onclick=\"clickcr(this, 'mtb.oilgold', '', '', event);\"><span class=\"tab3\">유가 금시세</span></a></li>\n",
       "<li class=\"\"><a href=\"./?tabSel=materials#tab_section\" onclick=\"clickcr(this, 'mtb.material', '', '', event);\"><span class=\"tab4\">원자재</span></a></li>\n",
       "</ul>\n",
       "<h2 class=\"blind\">환전고시 환율</h2>\n",
       "</div>\n",
       "<div class=\"section_calculator\">\n",
       "<h3 class=\"h_calculator\"><span>환율계산기 (매매기준율 기준)</span></h3>\n",
       "<div class=\"calculator\">\n",
       "<div class=\"inner\">\n",
       "<div class=\"input\">\n",
       "<div class=\"selectbox-noscript\" id=\"sInput\">\n",
       "<select class=\"selectbox-source\" id=\"select_from\">\n",
       "<option label=\"1\" value=\"1\">대한민국 원 KRW</option>\n",
       "<option class=\"selectbox-default\" label=\"1\" selected=\"selected\" value=\"1200.8\"> 미국 달러 USD</option>\n",
       "<option label=\"1\" value=\"1200.8\"> 미국 달러 USD</option>\n",
       "<option label=\"1\" value=\"1368.37\"> 유럽연합 유로 EUR</option>\n",
       "<option label=\"100\" value=\"11.194700000000001\"> 일본 엔 JPY</option>\n",
       "<option label=\"1\" value=\"171.53\"> 중국 위안 CNY</option>\n",
       "<option label=\"1\" value=\"154.93\"> 홍콩 달러 HKD</option>\n",
       "<option label=\"1\" value=\"40.75\"> 대만 달러 TWD</option>\n",
       "<option label=\"1\" value=\"1509.83\"> 영국 파운드 GBP</option>\n",
       "<option label=\"1\" value=\"3118.96\"> 오만 리알 OMR</option>\n",
       "<option label=\"1\" value=\"882.75\"> 캐나다 달러 CAD</option>\n",
       "<option label=\"1\" value=\"1276.77\"> 스위스 프랑 CHF</option>\n",
       "<option label=\"1\" value=\"132.1\"> 스웨덴 크로나 SEK</option>\n",
       "<option label=\"1\" value=\"839.84\"> 호주 달러 AUD</option>\n",
       "<option label=\"1\" value=\"786.28\"> 뉴질랜드 달러 NZD</option>\n",
       "<option label=\"1\" value=\"51.34\"> 체코 코루나 CZK</option>\n",
       "<option label=\"1\" value=\"1.53\"> 칠레 페소 CLP</option>\n",
       "<option label=\"1\" value=\"174.94\"> 터키 리라 TRY</option>\n",
       "<option label=\"1\" value=\"0.42\"> 몽골 투그릭 MNT</option>\n",
       "<option label=\"1\" value=\"349.48\"> 이스라엘 세켈 ILS</option>\n",
       "<option label=\"1\" value=\"183.72\"> 덴마크 크로네 DKK</option>\n",
       "<option label=\"1\" value=\"128.13\"> 노르웨이 크로네 NOK</option>\n",
       "<option label=\"1\" value=\"320.15\"> 사우디아라비아 리얄 SAR</option>\n",
       "<option label=\"1\" value=\"3909.49\"> 쿠웨이트 디나르 KWD</option>\n",
       "<option label=\"1\" value=\"3184.47\"> 바레인 디나르 BHD</option>\n",
       "<option label=\"1\" value=\"326.91\"> 아랍에미리트 디르함 AED</option>\n",
       "<option label=\"1\" value=\"1693.65\"> 요르단 디나르 JOD</option>\n",
       "<option label=\"1\" value=\"75.24\"> 이집트 파운드 EGP</option>\n",
       "<option label=\"1\" value=\"38.07\"> 태국 바트 THB</option>\n",
       "<option label=\"1\" value=\"863.2\"> 싱가포르 달러 SGD</option>\n",
       "<option label=\"1\" value=\"281.51\"> 말레이시아 링깃 MYR</option>\n",
       "<option label=\"100\" value=\"0.083\"> 인도네시아 루피아 IDR</option>\n",
       "<option label=\"1\" value=\"329.71\"> 카타르 리얄 QAR</option>\n",
       "<option label=\"1\" value=\"2.91\"> 카자흐스탄 텡게 KZT</option>\n",
       "<option label=\"1\" value=\"861.59\"> 브루나이 달러 BND</option>\n",
       "<option label=\"1\" value=\"15.96\"> 인도 루피 INR</option>\n",
       "<option label=\"1\" value=\"7.19\"> 파키스탄 루피 PKR</option>\n",
       "<option label=\"1\" value=\"14.16\"> 방글라데시 타카 BDT</option>\n",
       "<option label=\"1\" value=\"24.28\"> 필리핀 페소 PHP</option>\n",
       "<option label=\"1\" value=\"53.56\"> 멕시코 페소 MXN</option>\n",
       "<option label=\"1\" value=\"223.68\"> 브라질 레알 BRL</option>\n",
       "<option label=\"100\" value=\"0.0518\"> 베트남 동 VND</option>\n",
       "<option label=\"1\" value=\"71.9\"> 남아프리카 공화국 랜드 ZAR</option>\n",
       "<option label=\"1\" value=\"16.93\"> 러시아 루블 RUB</option>\n",
       "<option label=\"1\" value=\"3.85\"> 헝가리 포린트 HUF</option>\n",
       "<option label=\"1\" value=\"305.97\"> 폴란드 즈워티 PLN</option>\n",
       "</select>\n",
       "<div class=\"selectbox-box\" onclick=\"clickcr(this, 'exl*c.clist1', '', '', event);\">\n",
       "<div class=\"selectbox-label\"></div>\n",
       "</div>\n",
       "<div class=\"selectbox-layer ly_calculator\">\n",
       "<div class=\"selectbox-list\"></div>\n",
       "</div>\n",
       "</div>\n",
       "<div class=\"input_area\" id=\"input_from\">\n",
       "<input id=\"input_from_money\" maxlength=\"10\" onclick=\"clickcr(this, 'exl*c.unit1', '', '', event);\" onfocus=\"changeActiveInput('from', 'to'); return false;\" onkeyup=\"calcExchange('from', 'to', 'on', event);\" type=\"text\" value=\"1\"/>\n",
       "<img alt=\"\" height=\"13\" id=\"img_from_monetary\" src=\"https://ssl.pstatic.net/static/nfinance/img_money_USD.gif\" width=\"26\"/>\n",
       "</div>\n",
       "</div>\n",
       "<div class=\"same\"><img alt=\"\" height=\"15\" src=\"https://ssl.pstatic.net/static/nfinance/ico_same.gif\" width=\"28\"/></div>\n",
       "<div class=\"view\">\n",
       "<div class=\"selectbox-noscript\" id=\"sView\">\n",
       "<select class=\"selectbox-source\" id=\"select_to\">\n",
       "<option class=\"selectbox-default\" label=\"1\" value=\"1\">대한민국 원 KRW</option>\n",
       "<option label=\"1\" value=\"1\">대한민국 원 KRW</option>\n",
       "<option label=\"1\" value=\"1200.8\">미국 달러 USD</option>\n",
       "<option label=\"1\" value=\"1368.37\">유럽연합 유로 EUR</option>\n",
       "<option label=\"100\" value=\"11.194700000000001\">일본 엔 JPY</option>\n",
       "<option label=\"1\" value=\"171.53\">중국 위안 CNY</option>\n",
       "<option label=\"1\" value=\"154.93\">홍콩 달러 HKD</option>\n",
       "<option label=\"1\" value=\"40.75\">대만 달러 TWD</option>\n",
       "<option label=\"1\" value=\"1509.83\">영국 파운드 GBP</option>\n",
       "<option label=\"1\" value=\"3118.96\">오만 리알 OMR</option>\n",
       "<option label=\"1\" value=\"882.75\">캐나다 달러 CAD</option>\n",
       "<option label=\"1\" value=\"1276.77\">스위스 프랑 CHF</option>\n",
       "<option label=\"1\" value=\"132.1\">스웨덴 크로나 SEK</option>\n",
       "<option label=\"1\" value=\"839.84\">호주 달러 AUD</option>\n",
       "<option label=\"1\" value=\"786.28\">뉴질랜드 달러 NZD</option>\n",
       "<option label=\"1\" value=\"51.34\">체코 코루나 CZK</option>\n",
       "<option label=\"1\" value=\"1.53\">칠레 페소 CLP</option>\n",
       "<option label=\"1\" value=\"174.94\">터키 리라 TRY</option>\n",
       "<option label=\"1\" value=\"0.42\">몽골 투그릭 MNT</option>\n",
       "<option label=\"1\" value=\"349.48\">이스라엘 세켈 ILS</option>\n",
       "<option label=\"1\" value=\"183.72\">덴마크 크로네 DKK</option>\n",
       "<option label=\"1\" value=\"128.13\">노르웨이 크로네 NOK</option>\n",
       "<option label=\"1\" value=\"320.15\">사우디아라비아 리얄 SAR</option>\n",
       "<option label=\"1\" value=\"3909.49\">쿠웨이트 디나르 KWD</option>\n",
       "<option label=\"1\" value=\"3184.47\">바레인 디나르 BHD</option>\n",
       "<option label=\"1\" value=\"326.91\">아랍에미리트 디르함 AED</option>\n",
       "<option label=\"1\" value=\"1693.65\">요르단 디나르 JOD</option>\n",
       "<option label=\"1\" value=\"75.24\">이집트 파운드 EGP</option>\n",
       "<option label=\"1\" value=\"38.07\">태국 바트 THB</option>\n",
       "<option label=\"1\" value=\"863.2\">싱가포르 달러 SGD</option>\n",
       "<option label=\"1\" value=\"281.51\">말레이시아 링깃 MYR</option>\n",
       "<option label=\"100\" value=\"0.083\">인도네시아 루피아 IDR</option>\n",
       "<option label=\"1\" value=\"329.71\">카타르 리얄 QAR</option>\n",
       "<option label=\"1\" value=\"2.91\">카자흐스탄 텡게 KZT</option>\n",
       "<option label=\"1\" value=\"861.59\">브루나이 달러 BND</option>\n",
       "<option label=\"1\" value=\"15.96\">인도 루피 INR</option>\n",
       "<option label=\"1\" value=\"7.19\">파키스탄 루피 PKR</option>\n",
       "<option label=\"1\" value=\"14.16\">방글라데시 타카 BDT</option>\n",
       "<option label=\"1\" value=\"24.28\">필리핀 페소 PHP</option>\n",
       "<option label=\"1\" value=\"53.56\">멕시코 페소 MXN</option>\n",
       "<option label=\"1\" value=\"223.68\">브라질 레알 BRL</option>\n",
       "<option label=\"100\" value=\"0.0518\">베트남 동 VND</option>\n",
       "<option label=\"1\" value=\"71.9\">남아프리카 공화국 랜드 ZAR</option>\n",
       "<option label=\"1\" value=\"16.93\">러시아 루블 RUB</option>\n",
       "<option label=\"1\" value=\"3.85\">헝가리 포린트 HUF</option>\n",
       "<option label=\"1\" value=\"305.97\">폴란드 즈워티 PLN</option>\n",
       "</select>\n",
       "<div class=\"selectbox-box\" onclick=\"clickcr(this, 'exl*c.clist2', '', '', event);\">\n",
       "<div class=\"selectbox-label\"></div>\n",
       "</div>\n",
       "<div class=\"selectbox-layer ly_calculator\">\n",
       "<div class=\"selectbox-list\"></div>\n",
       "</div>\n",
       "</div>\n",
       "<div class=\"input_area\" id=\"input_to\">\n",
       "<input id=\"input_to_money\" maxlength=\"10\" onclick=\"clickcr(this, 'exl*c.unit2', '', '', event);\" onfocus=\"changeActiveInput('to', 'from'); return false;\" onkeyup=\"calcExchange('to', 'from', 'on', event);\" type=\"text\"/>\n",
       "<img alt=\"\" height=\"13\" id=\"img_to_monetary\" src=\"https://ssl.pstatic.net/static/nfinance/img_money_KRW.gif\" width=\"26\"/>\n",
       "</div>\n",
       "</div>\n",
       "</div>\n",
       "</div>\n",
       "</div>\n",
       "<div class=\"section_exchange\">\n",
       "<div id=\"section_ex1\">\n",
       "<h3 class=\"blind\" id=\"exchange1\">환전 고시 환율</h3>\n",
       "<div class=\"exchange_info\">\n",
       "<span class=\"date\">2020.07.15 14:23</span>\n",
       "<span class=\"standard\">하나은행 기준</span>\n",
       "<span class=\"round\">고시회차 <em>206</em>회</span>\n",
       "</div>\n",
       "<iframe frameborder=\"0\" height=\"1378px\" id=\"frame_ex1\" marginheight=\"0\" marginwidth=\"0\" scrolling=\"no\" src=\"/marketindex/exchangeList.nhn\" title=\"환전 고시 환율\" width=\"100%\"></iframe>\n",
       "</div>\n",
       "<ul class=\"tbl_info\">\n",
       "<li>대부분의 통화명은 1달러가 다른 통화 기준으로 얼마인가를 나타내기 위해 국가명+화폐명/달러로 표기했습니다. <br/>예외로 유로, 영국파운드 등은 1유로가 달러로 얼마인가를 표기하는 경우가 많기 때문에 달러/유로로 표기했습니다.</li>\n",
       "<li>심볼은 앞에 위치한 통화에 1이 생략된 형태로 USDJPY인 경우 1USD(달러)가 JPY(일본 엔)으로 얼마인가를 의미합니다.</li>\n",
       "<li>통화명과 심볼로 네이버 금융검색을 하실 경우 해당 환율을 바로 조회하실 수 있습니다. </li>\n",
       "</ul>\n",
       "</div>\n",
       "<script language=\"javascript\" src=\"/js/jindoComponent/jindo.Component.1.0.3.js?20200615180049\" type=\"text/javascript\"></script>\n",
       "<script language=\"javascript\" src=\"/js/jindoComponent/jindo.UIComponent.1.0.1.js?20200615180049\" type=\"text/javascript\"></script>\n",
       "<script language=\"javascript\" src=\"/js/jindoComponent/jindo.HTMLComponent.1.0.1.js?20200615180049\" type=\"text/javascript\"></script>\n",
       "<script language=\"javascript\" src=\"/js/jindoComponent/jindo.Timer.1.0.3.js?20200615180049\" type=\"text/javascript\"></script>\n",
       "<script language=\"javascript\" src=\"/js/jindoComponent/jindo.LayerManager.1.0.1.js?20200615180049\" type=\"text/javascript\"></script>\n",
       "<script language=\"javascript\" src=\"/js/jindoComponent/jindo.LayerPosition.1.0.1.js?20200615180049\" type=\"text/javascript\"></script>\n",
       "<script language=\"javascript\" src=\"/js/jindoComponent/jindo.RolloverArea.1.0.1.js?20200615180049\" type=\"text/javascript\"></script>\n",
       "<script language=\"javascript\" src=\"/js/jindoComponent/jindo.RolloverClick.1.0.1.js?20200615180049\" type=\"text/javascript\"></script>\n",
       "<script language=\"javascript\" src=\"/js/jindoComponent/jindo.SelectBox.1.0.1.js?20200615180049\" type=\"text/javascript\"></script>\n",
       "<script charset=\"euckr\" language=\"javascript\" src=\"/js/jindoComponent/jindo.TextRange.1.0.1.js?20200615180049\" type=\"text/javascript\"></script>\n",
       "<script charset=\"euckr\" language=\"javascript\" src=\"/js/jindoComponent/jindo.WatchInput.1.0.1.js?20200615180049\" type=\"text/javascript\"></script>\n",
       "<script charset=\"euckr\" language=\"javascript\" src=\"/js/jindoComponent/jindo.Formatter.1.1.0.js?20200615180049\" type=\"text/javascript\"></script>\n",
       "<script charset=\"euckr\" language=\"javascript\" src=\"/js/jindoComponent/jindo.NumberFormatter.1.0.1.js?20200615180049\" type=\"text/javascript\"></script>\n",
       "<script language=\"javascript\" src=\"/js/exchange.js?20200615180049\" type=\"text/javascript\"></script>\n",
       "<script type=\"text/javascript\">\n",
       "// exchangeDetail.jsp에도 동일 스크립트 있음 - 로딩시 디자인이 0.5초간 디자인이 안뜬다는 이슈로 include하지 않고 같은 스크립트를 두벌로 관리함\n",
       "\n",
       "//환율 계산\n",
       "function calcExchange(str1, str2, cssOn, event) {\n",
       "\tvar oEvent = event || window.event;\n",
       "    var sKeyCode = (undefined === oEvent) ? undefined : jindo.$Event(oEvent).key().keyCode;\n",
       "\t\n",
       "\tif (sKeyCode != 13 && sKeyCode != 27 && sKeyCode != 37 && sKeyCode != 38 && sKeyCode != 110 && sKeyCode != 229) {\n",
       "\t\tif (str1 == '' && str2 == '') {\n",
       "\t\t\tif (jindo.$('input_to').className == 'input_area') {\n",
       "\t\t\t\tstr1 = 'from';\n",
       "\t\t\t\tstr2 = 'to';\n",
       "\t\t\t} else {\n",
       "\t\t\t\tstr1 = 'to';\n",
       "\t\t\t\tstr2 = 'from';\n",
       "\t\t\t}\n",
       "\t\t}\n",
       "\t\t\n",
       "\t\tvar regExp = new RegExp(\"[^0-9\\.\\,]\");\n",
       "\t    var sInputValue = jindo.$('input_' + str1 + '_money').value;\n",
       "\t\t\n",
       "\t    if(regExp.test(sInputValue)){\n",
       "\t\t\talert('숫자, 소수점(.)만 입력하실 수 있습니다.');\n",
       "\t\t\tjindo.$('input_' + str1 + '_money').value = revertInputText(sInputValue);\n",
       "\t\t\treturn false;\n",
       "\t\t}\n",
       "\t\t\n",
       "\t\t// 사용자가 입력한 콤마(,) 제거\n",
       "\t    if (sInputValue.substr(sInputValue.length - 1, 1) == ',') {\n",
       "\t    \tjindo.$('input_' + str1 + '_money').value = revertInputText(sInputValue);\n",
       "\t    \treturn false;\n",
       "\t    }\n",
       "\t\t\n",
       "\t\t// 맨 앞에 있는 숫자 0 없애기\n",
       "\t\tif (sInputValue == '0' || sInputValue == '.' || sInputValue == ',') {\n",
       "\t\t\tjindo.$('input_' + str1 + '_money').value = revertInputText(sInputValue);\n",
       "\t\t\treturn false;\n",
       "\t\t}\n",
       "\t\t\n",
       "\t\t// 소수점 2개가 없도록\n",
       "\t\tvar match = sInputValue.match(/\\./g);\n",
       "\t\tif (match != null && match.length >= 2) {\n",
       "\t\t\tjindo.$('input_' + str1 + '_money').value = revertInputText(sInputValue);\n",
       "\t\t\treturn false;\n",
       "\t\t}\n",
       "\t\t\n",
       "\t\t// 소수점을 입력한 경우, 일단 대기\n",
       "\t\tvar pointPosIndex = sInputValue.indexOf('.');\n",
       "\t\tif (pointPosIndex != -1 && pointPosIndex == sInputValue.length - 1) {\n",
       "\t\t\treturn false;\n",
       "\t\t}\n",
       "\t\t\n",
       "\t\t// 소수점 2자리 유지\n",
       "\t\tif (pointPosIndex != -1 && sInputValue.substring(pointPosIndex + 1, sInputValue.length).length > 2) {\n",
       "\t\t\tjindo.$('input_' + str1 + '_money').value = revertInputText(sInputValue);\n",
       "\t\t\treturn false;\n",
       "\t\t}\n",
       "\t\t\n",
       "\t\tvar e_select_from\t= jindo.$('select_'+str1);\n",
       "\t\tvar e_select_to\t= jindo.$('select_'+str2);\n",
       "\t\n",
       "\t\tvar input_from_money\t= jindo.$('input_'+str1+'_money').value ;\n",
       "\t\tvar input_from\t\t= e_select_from.options[e_select_from.selectedIndex].value ;\n",
       "\t\tvar input_to\t\t= e_select_to.options[e_select_to.selectedIndex].value ;\n",
       "\t\tvar unit_from\t= e_select_from.options[e_select_from.selectedIndex].text ;\n",
       "\t\tvar unit_to\t\t= e_select_to.options[e_select_to.selectedIndex].text ;\n",
       "\t\tinput_from_money = input_from_money.replace(/ |,|\\t/g, \"\") ;\n",
       "\t\tinput_from\t= input_from.replace(/ |,|\\t/g, \"\") ;\n",
       "\t\tinput_to\t= input_to.replace(/ |,|\\t/g, \"\") ;\n",
       "\t\tunit_from = unit_from.substr(unit_from.length-3, 3);\n",
       "\t\tunit_to = unit_to.substr(unit_to.length-3, 3);\n",
       "\t\n",
       "\t\tvar str1_result = input_from_money * 1 ;\n",
       "\t\tvar str1_str\t= str1_result.toFixed(0) ;\n",
       "\t\tvar str1_len = str1_str.length ;\n",
       "\t\tvar str1_result_str = new String(\"\") ;\n",
       "\t\n",
       "\t\tif(str1_str > str1_result)\n",
       "\t\t\tstr1_str = new String(str1_str-1) ;\n",
       "\t\n",
       "\t\tif (str1_len >= 3) {\n",
       "\t\t\tfor (i = str1_len - 3; i > 0; i-=3)\n",
       "\t\t\t\tstr1_result_str = \",\" + str1_str.substr(i, 3) + str1_result_str ;\n",
       "\t\n",
       "\t\t\tstr1_result_str = str1_str.substr(0, 3+i) + str1_result_str ;\n",
       "\t\n",
       "\t\t\tfor (var i=0; i<input_from_money.length; i++) {\n",
       "\t\t\t\tif (input_from_money.substr(i,1) != '0') {\n",
       "\t\t\t\t\tinput_from_money = input_from_money.substring(i,input_from_money.length) ;\n",
       "\t\t\t\t\tbreak;\n",
       "\t\t\t\t}\n",
       "\t\t\t}\n",
       "\t\n",
       "\t\t\tif (str1_str != input_from_money) {\n",
       "\t\t\t\tstr1_result_str += str1_result.toFixed(input_from_money.split(\".\")[1].length).substr(str1_len, input_from_money.split(\".\")[1].length + 1) ;\n",
       "\t\t\t}\n",
       "\t\t} else\n",
       "\t\t\tstr1_result_str = input_from_money ;\n",
       "\t\n",
       "\t\tvar str2_result = input_from_money * input_from / input_to ;\n",
       "\t\tvar str2_str\t= str2_result.toFixed(0) ;\n",
       "\t\tvar str2_len = str2_str.length ;\n",
       "\t\tvar str2_result_str = new String(\"\") ;\n",
       "\t\n",
       "\t\tif (str2_str > str2_result)\n",
       "\t\t\tstr2_str = new String(str2_str-1) ;\n",
       "\t\n",
       "\t\tif (str2_len >= 3) {\n",
       "\t\t\tfor (i = str2_len - 3; i > 0; i-=3)\n",
       "\t\t\t\tstr2_result_str = \",\" + str2_str.substr(i, 3) + str2_result_str ;\n",
       "\t\n",
       "\t\t\tstr2_result_str = str2_str.substr(0, 3+i) + str2_result_str ;\n",
       "\t\t\tstr2_result_str += str2_result.toFixed(2).substr(str2_len, 3) ;\n",
       "\t\t} else\n",
       "\t\t\tstr2_result_str = str2_result.toFixed(2) ;\n",
       "\t\n",
       "\t\tjindo.$('input_'+str1+'_money').value = str1_result_str;\n",
       "\t\tjindo.$('input_'+str2+'_money').value = str2_result_str;\n",
       "\t\tjindo.$('img_'+str1+'_monetary').src = \"https://ssl.pstatic.net/static/nfinance/img_money_\"+unit_from+\".gif\";\n",
       "\t\tjindo.$('img_'+str2+'_monetary').src = \"https://ssl.pstatic.net/static/nfinance/img_money_\"+unit_to+\".gif\";\n",
       "\t\tjindo.$Element(jindo.$('input_'+str1)).addClass(\"on\");\n",
       "\t\tjindo.$Element(jindo.$('input_'+str2)).removeClass(\"on\");\n",
       "\t\tif (cssOn == \"off\"){\n",
       "\t\t\tjindo.$Element(jindo.$('input_'+str1)).removeClass(\"on\");\n",
       "\t\t}\n",
       "\t}\n",
       "}\n",
       "\n",
       "function revertInputText(sOrgText) {\n",
       "\tvar sResult = sOrgText;\n",
       "\t\n",
       "\tif (sOrgText != '') {\n",
       "\t\tsResult = sOrgText.substr(0, sOrgText.length - 1);\n",
       "\t}\n",
       "\t\n",
       "\treturn sResult;\n",
       "}\n",
       "\n",
       "jindo.$Fn(function(){\n",
       "\tchartMouseOverEvent('exchangeList');\t\t\n",
       "   }).attach(document, \"domready\");\n",
       "</script>\n",
       "</div>\n",
       "<script language=\"javascript\" src=\"/js/jindo_ellipse.js?20200615180049\"></script>\n",
       "<script language=\"javascript\" src=\"/js/util.js?20200615180049\"></script>\n",
       "<script type=\"text/javascript\">\n",
       "\n",
       "\n",
       "function ellipseTopNewsTitle() {\n",
       "\tjindo.EllipseText.factory(jindo.$$(\".news_list ul li\"), {nAssistWidth: 10});\n",
       "}\n",
       "\n",
       "\n",
       "var basicDates;\n",
       "\n",
       "function initDate() {\n",
       "\tbasicDates = jindo.$H();\n",
       "\tbasicDates.add('', '');\n",
       "\tbasicDates.add('', '');\n",
       "\tbasicDates.add('', '');\n",
       "\tbasicDates.add('', '');\n",
       "\tbasicDates.add('', '');\n",
       "\tbasicDates.add('', '');\n",
       "}\n",
       "\n",
       "var basicDescriptions;\n",
       "\n",
       "function initDescription() {\n",
       "\tbasicDescriptions = jindo.$H();\n",
       "\tbasicDescriptions.add('CMDT_CDY','<em></em>  기준<span>단위:</span>');\n",
       "\tbasicDescriptions.add('CMDT_PDY','<em></em>  기준<span>단위:</span>');\n",
       "\tbasicDescriptions.add('CMDT_NG','<em></em>  기준<span>단위:</span>');\n",
       "\tbasicDescriptions.add('CMDT_S','<em></em>  기준<span>단위:</span>');\n",
       "\tbasicDescriptions.add('CMDT_C','<em></em>  기준<span>단위:</span>');\n",
       "\tbasicDescriptions.add('CMDT_SB','<em></em>  기준<span>단위:</span>');\n",
       "}\n",
       "\n",
       "function setEvent(num, imgChartUrl){\t\n",
       "\tvar parentElemnt = jindo.$$('.tbl_market')[num];\n",
       "\tvar elementList = jindo.$$('tr',parentElemnt);\n",
       "\t\n",
       "\tjindo.$Fn(function(e){\t\n",
       "\t\tvar elementListSize = elementList.length;\n",
       "\t\t\n",
       "\t\tfor(var i = 0 ; i < elementListSize ; i ++)\n",
       "\t\t{\n",
       "\t\t\tvar selectedElement = jindo.$Element(elementList[i]);\n",
       "\t\t\tvar selectedClassName = selectedElement.className();\n",
       "\t\t\tif (selectedClassName != \"\") {\n",
       "\t\t\t\tselectedElement.removeClass(selectedClassName);\n",
       "\t\t\t\tselectedElement.addClass(selectedClassName.replace(\"on\",\"\"));\n",
       "\t\t\t}\n",
       "\t\t} \n",
       "\t\t\n",
       "\t\tvar ele = jindo.$Element(jindo.$Event(e).currentElement);\n",
       "\t\tvar linkUrl = jindo.$$.getSingle('a' , ele.$value()).href;\n",
       "\t\tvar marketindexCd = linkUrl.split('=')[1];\n",
       "\t\tvar className = ele.className();\n",
       "\t\tele.removeClass(className);\n",
       "\t\tele.addClass(className+\" on\");\n",
       "\t\tvar graphElement = jindo.$Element(jindo.$$('.thum')[num]);\n",
       "\t\tgraphElement.html('<a href=\\\"'+linkUrl+'\\\"><img src=\\\"https://ssl.pstatic.net/imgfinance/chart/marketindex/' + marketindexCd + '.png\\\" width=\\\"295\\\" height=\\\"153\\\" alt=\"\"></a>');\n",
       "\t\t\n",
       "\t\tif (basicDates.hasKey(marketindexCd)) {\n",
       "\t\t\tjindo.$Element(\"basicDate\").text(basicDates.$(marketindexCd));\n",
       "\t\t}\n",
       "\t\tif (basicDescriptions.hasKey(marketindexCd)) {\n",
       "\t\t\tjindo.$Element(\"basicDescription\").html(basicDescriptions.$(marketindexCd));\n",
       "\t\t}\n",
       "\t\n",
       "\t}).attach(elementList, \"mouseover\");\t\n",
       "}\n",
       "\n",
       "jindo.$Fn(function(){\n",
       "\t\tinitDate();\n",
       "\t\tinitDescription();\n",
       "\t\tchartMouseOverEvent('exchangeList');\n",
       "\t\tchartMouseOverEvent('worldExchangeList');\n",
       "\t\tchartMouseOverEvent('oilGoldList');\n",
       "\t\t//setEvent(0);\n",
       "\t\t//setEvent(1);\n",
       "\t\tjindo.$$('title')[0].innerHTML = \"시장지표 : 네이버 금융\";\n",
       "}).attach(document, \"domready\");\n",
       "\n",
       "</script>\n",
       "<div class=\"aside\" id=\"marketindex_aside\">\n",
       "<div class=\"section_aside\">\n",
       "<h3 class=\"h_interest\"><span>국내시장금리</span></h3>\n",
       "<table class=\"tbl_exchange market\" summary=\"국제시장 환율 리스트\">\n",
       "<caption>국내시장금리</caption>\n",
       "<colgroup>\n",
       "<col width=\"94\"/>\n",
       "<col width=\"50\"/>\n",
       "<col width=\"75\"/>\n",
       "</colgroup>\n",
       "<thead>\n",
       "<tr>\n",
       "<th>구분</th>\n",
       "<th>금리</th>\n",
       "<th>등락율</th>\n",
       "</tr>\n",
       "</thead>\n",
       "<tbody>\n",
       "<tr class=\"same\">\n",
       "<th class=\"th_inter4\"><a href=\"/marketindex/interestDetail.nhn?marketindexCd=IRR_CD91\" onclick=\"clickcr(this, 'rid.local', 'IRR_CD91', '1', event);\"><span>CD금리(91일)</span></a></th>\n",
       "<td>0.79</td>\n",
       "<td><img alt=\"보합\" height=\"6\" src=\"https://ssl.pstatic.net/static/nfinance/ico_same2.gif\" width=\"7\"/> 0.00</td>\n",
       "</tr>\n",
       "<tr class=\"down\">\n",
       "<th class=\"th_inter1\"><a href=\"/marketindex/interestDetail.nhn?marketindexCd=IRR_CALL\" onclick=\"clickcr(this, 'met.8', 'IRR_CALL', '2', event);\"><span>콜 금리</span></a></th>\n",
       "<td>0.48</td>\n",
       "<td><img alt=\"하락\" height=\"6\" src=\"https://ssl.pstatic.net/static/nfinance/ico_down.gif\" width=\"7\"/> 0.02</td>\n",
       "</tr>\n",
       "<tr class=\"down\">\n",
       "<th class=\"th_inter2\"><a href=\"/marketindex/interestDetail.nhn?marketindexCd=IRR_GOVT03Y\" onclick=\"clickcr(this, 'met.8', 'IRR_GOVT03Y', '3', event);\"><span>국고채 (3년)</span></a></th>\n",
       "<td>0.85</td>\n",
       "<td><img alt=\"하락\" height=\"6\" src=\"https://ssl.pstatic.net/static/nfinance/ico_down.gif\" width=\"7\"/> 0.01</td>\n",
       "</tr>\n",
       "<tr class=\"same\">\n",
       "<th class=\"th_inter3\"><a href=\"/marketindex/interestDetail.nhn?marketindexCd=IRR_CORP03Y\" onclick=\"clickcr(this, 'met.8', 'IRR_CORP03Y', '4', event);\"><span>회사채 (3년)</span></a></th>\n",
       "<td>2.24</td>\n",
       "<td><img alt=\"보합\" height=\"6\" src=\"https://ssl.pstatic.net/static/nfinance/ico_same2.gif\" width=\"7\"/> 0.00</td>\n",
       "</tr>\n",
       "<tr class=\"down\">\n",
       "<th class=\"th_inter5\"><a href=\"/marketindex/interestDetail.nhn?marketindexCd=IRR_COFIXBAL\" onclick=\"clickcr(this, 'met.8', 'IRR_COFIXBAL', '5', event);\"><span>COFIX 잔액</span></a></th>\n",
       "<td>1.55</td>\n",
       "<td><img alt=\"하락\" height=\"6\" src=\"https://ssl.pstatic.net/static/nfinance/ico_down.gif\" width=\"7\"/> 0.06</td>\n",
       "</tr>\n",
       "<tr class=\"down\">\n",
       "<th class=\"th_inter6\"><a href=\"/marketindex/interestDetail.nhn?marketindexCd=IRR_COFIXNEW\" onclick=\"clickcr(this, 'met.8', 'IRR_COFIXNEW', '6', event);\"><span>COFIX 신규취급액</span></a></th>\n",
       "<td>1.06</td>\n",
       "<td><img alt=\"하락\" height=\"6\" src=\"https://ssl.pstatic.net/static/nfinance/ico_down.gif\" width=\"7\"/> 0.14</td>\n",
       "</tr>\n",
       "</tbody>\n",
       "</table>\n",
       "<table class=\"tbl_exchange tbl_exchange_v1 market\" style=\"margin-top:10px;\" summary=\"달러 인덱스\">\n",
       "<caption>달러 인덱스</caption>\n",
       "<colgroup>\n",
       "<col width=\"88\"/>\n",
       "<col width=\"46\"/>\n",
       "<col width=\"66\"/>\n",
       "</colgroup>\n",
       "<thead>\n",
       "<tr>\n",
       "<th>구분</th>\n",
       "<th>금리</th>\n",
       "<th>등락율</th>\n",
       "</tr>\n",
       "</thead>\n",
       "<tbody>\n",
       "<tr class=\"other_t1 down\">\n",
       "<th class=\"th_inter7\"><a href=\"/marketindex/worldExchangeDetail.nhn?marketindexCd=FX_USDX&amp;fdtc=4\" onclick=\"clickcr(this, 'rid.dollar', 'FX_USDX', '', event);\"><span>달러 인덱스</span></a></th>\n",
       "<td>96.2000</td>\n",
       "<td><img alt=\"하락\" height=\"6\" src=\"https://ssl.pstatic.net/static/nfinance/ico_down.gif\" width=\"7\"/>  0.2000</td>\n",
       "</tr>\n",
       "</tbody>\n",
       "</table>\n",
       "</div>\n",
       "<div class=\"section_aside\">\n",
       "<div class=\"tab_search search3\">\n",
       "<a href=\"#\" onclick=\"clickcr(this, 'rch.1', '', '', event); return false;\"><span>최근조회</span></a>\n",
       "<a href=\"#\" onclick=\"clickcr(this, 'rch.3', '', '', event); return false;\"><span>MY STOCK</span></a>\n",
       "</div>\n",
       "<h3 class=\"blind\">최근조회</h3>\n",
       "<table class=\"tbl_search\" summary=\"최근조회 리스트\">\n",
       "<caption>최근조회</caption>\n",
       "<colgroup>\n",
       "<col/>\n",
       "<col width=\"55\"/>\n",
       "<col width=\"87\"/>\n",
       "</colgroup>\n",
       "<thead>\n",
       "<tr>\n",
       "<th>업체명</th>\n",
       "<th>거래량</th>\n",
       "<th>전일비</th>\n",
       "</tr>\n",
       "</thead>\n",
       "<tbody>\n",
       "</tbody>\n",
       "</table>\n",
       "<div class=\"more_info\">\n",
       "<span>\n",
       "<a href=\"#\" onclick=\"clickcr(this, 'rch.5', '', '', event); return false;\"><img alt=\"이전\" height=\"15\" src=\"https://ssl.pstatic.net/static/nfinance/btn_prev2.gif\" width=\"17\"/></a>\n",
       "<a href=\"#\" onclick=\"clickcr(this, 'rch.6', '', '', event); return false;\"><img alt=\"다음\" height=\"15\" src=\"https://ssl.pstatic.net/static/nfinance/btn_next2.gif\" width=\"17\"/></a>\n",
       "</span>\n",
       "<a class=\"btn_more _mystock_more_info\" href=\"#\" onclick=\"javascript:openMyitemNew('https://finance.naver.com'); clickcr(this, 'rch.7', '', '', event);\"><img alt=\"더보기\" height=\"10\" src=\"https://ssl.pstatic.net/static/nfinance/btn_more5.gif\" width=\"33\"/></a>\n",
       "</div>\n",
       "</div>\n",
       "<div class=\"section_aside\">\n",
       "<h3 class=\"h_report\"><span>경제분석 리포트 </span></h3>\n",
       "<ul class=\"list_report\">\n",
       "<li><a href=\"/research/economy_read.nhn?nid=6822\" onclick=\"clickcr(this, 'rer.list', '', '', event);\">국내외 경제이슈</a></li>\n",
       "<li><a href=\"/research/economy_read.nhn?nid=6821\" onclick=\"clickcr(this, 'rer.list', '', '', event);\">한국판 뉴딜정책에 대한 시장의 관...</a></li>\n",
       "<li><a href=\"/research/economy_read.nhn?nid=6820\" onclick=\"clickcr(this, 'rer.list', '', '', event);\">국내외 경제이슈</a></li>\n",
       "<li><a href=\"/research/economy_read.nhn?nid=6819\" onclick=\"clickcr(this, 'rer.list', '', '', event);\">실효하한, 부동산, 금융안정</a></li>\n",
       "<li><a href=\"/research/economy_read.nhn?nid=6818\" onclick=\"clickcr(this, 'rer.list', '', '', event);\">국내외 경제이슈</a></li>\n",
       "</ul>\n",
       "<a class=\"btn_more\" href=\"/research/economy_list.nhn\" onclick=\"clickcr(this, 'rer.more', '', '', event);\"><img alt=\"경제분석 리포트 더보기\" height=\"18\" src=\"https://ssl.pstatic.net/static/nfinance/btn_more.gif\" width=\"34\"/></a>\n",
       "</div>\n",
       "</div>\n",
       "<script language=\"javascript\" src=\"/js/info/myStock.js?20200615180049\" type=\"text/javascript\"></script>\n",
       "<script language=\"javascript\" src=\"/js/util.js?20200615180049\" type=\"text/javascript\"></script>\n",
       "<script language=\"javascript\">\n",
       "\n",
       "function toggleTabSearch(e){\n",
       "\tvar currentElement = jindo.$Element(jindo.$Event(e).currentElement);\n",
       "\tvar parentElement = currentElement.parent();\n",
       "\tvar id = currentElement.className();\n",
       "\tvar order = parentElement.indexOf(currentElement) + 3;\n",
       "\tparentElement.className(\"tab_search search\"+ order);\n",
       "\n",
       "\t// 페이징을 위해서 order값에 따라 최근조회인지 mystock인지 type을 저장\n",
       "\tif (order == 3) {\n",
       "\t\tcurrentType = \"recent\";\n",
       "\t} else {\n",
       "\t\tcurrentType = \"mystock\";\n",
       "\t}\n",
       "}\n",
       "\n",
       "jindo.$Fn(function(){\n",
       "\tif ('true' == 'true') {\n",
       "\t\tgetStockRightMenuData('000000', 'recent', 1, 'https://finance.naver.com', 'https://ssl.pstatic.net/static/nfinance');\n",
       "\n",
       "\t\tvar tabSearchArea = jindo.$$.getSingle('.tab_search');\n",
       "\t\tvar moreInfoArea = jindo.$Element(jindo.$$.getSingle('.tbl_search')).next().$value();\n",
       "\n",
       "\t\tjindo.$Fn(function(e) {toggleTabSearch(e); getStockRightMenuData('000000', 'recent', 1, 'https://finance.naver.com', 'https://ssl.pstatic.net/static/nfinance'); }).attach(jindo.$$.getSingle('a' ,tabSearchArea), 'click');\n",
       "\t\tjindo.$Fn(function(e) {toggleTabSearch(e); getStockRightMenuData('000000', 'mystock', 1, 'https://finance.naver.com', 'https://ssl.pstatic.net/static/nfinance'); }).attach(jindo.$$('a' ,tabSearchArea)[1], 'click');\n",
       "\t\tjindo.$Fn(function(e) {updatePageForPaging (currentType, 'up', 'https://finance.naver.com', 'https://ssl.pstatic.net/static/nfinance'); }).attach(jindo.$$.getSingle('a', moreInfoArea), 'click');\n",
       "\t\tjindo.$Fn(function(e) {updatePageForPaging (currentType, 'down', 'https://finance.naver.com', 'https://ssl.pstatic.net/static/nfinance'); }).attach(jindo.$$('a', moreInfoArea)[1], 'click');\n",
       "\t}\n",
       "\n",
       "}).attach(document,\"domready\");\n",
       "\n",
       "function openMyitemNew(stockHost) {\n",
       "\tvar selectedElement = jindo.$Element(jindo.$$.getSingle(\".tab_search\"));\n",
       "\tif (selectedElement != null) {\n",
       "\t\tif (selectedElement.hasClass(\"search1\")) {\n",
       "\t\t\tdocument.location.href = stockHost + '/mystock/recentSearchItemList.nhn';\n",
       "\t\t} else {\n",
       "\t\t\tdocument.location.href = stockHost + '/mystock/itemList.nhn';\n",
       "\t\t}\n",
       "\t}\n",
       "}\n",
       "\n",
       "</script>\n",
       "</div>\n",
       "<div id=\"footer\">\n",
       "<ul>\n",
       "<li class=\"first\">\n",
       "<a href=\"https://www.naver.com/rules/service.html\" onclick=\"clickcr(this, 'fot.service', '', '', event);\" target=\"_blank\">이용약관</a>\n",
       "</li>\n",
       "<li>\n",
       "<a href=\"/rules.nhn\" onclick=\"clickcr(this, 'fot.policy', '', '', event);\" target=\"_blank\">금융게시판 운영원칙</a>\n",
       "</li>\n",
       "<li>\n",
       "<a href=\"https://www.naver.com/rules/privacy.html\" onclick=\"clickcr(this, 'fot.privacy', '', '', event);\" target=\"_blank\"><strong>개인정보처리방침</strong></a>\n",
       "</li>\n",
       "<li>\n",
       "<a href=\"https://www.naver.com/rules/disclaimer.html\" onclick=\"clickcr(this, 'fot.limit', '', '', event);\" target=\"_blank\">책임의 한계와 법적고지</a>\n",
       "</li>\n",
       "<li>\n",
       "<a href=\"https://help.naver.com/support/alias/contents2/finance/finance_1.naver\" onclick=\"clickcr(this, 'fot.help', '', '', event);\" target=\"_blank\">금융 고객센터</a>\n",
       "</li>\n",
       "</ul>\n",
       "<p class=\"desc\">네이버(주)에서 제공하는 금융정보는 투자 참고 사항이며, 오류가 발생할 수 있고 지연될 수 있습니다.<br/>네이버(주)는 제공된 정보에 의한 투자결과에 대한 법적인 책임을 지지 않습니다. 또한 게시된 정보를 무단으로 배포할 수 없습니다.</p>\n",
       "<address>\n",
       "<a class=\"logo\" href=\"https://www.navercorp.com/\" onclick=\"clickcr(this, 'fot.nhn', '', '', event);\" target=\"_blank\"><img alt=\"NAVER\" height=\"11\" src=\"https://ssl.pstatic.net/static/nfinance/2019/02/22/ci_naver.png\" width=\"58\"/></a>\n",
       "<em>Copyright ©</em>\n",
       "<a href=\"https://www.navercorp.com/\" onclick=\"clickcr(this, 'fot.nhn', '', '', event);\" target=\"_blank\">NAVER Corp.</a>\n",
       "<span>All Rights Reserved.</span>\n",
       "</address>\n",
       "</div>\n",
       "<script type=\"text/javascript\">\n",
       "function isVisible(obj) {\n",
       "    if (obj == document) return true\n",
       " \n",
       "    if (!obj) return false\n",
       "    if (!obj.parentNode) return false\n",
       "    if (obj.style) {\n",
       "        if (obj.style.display == 'none') return false\n",
       "        if (obj.style.visibility == 'hidden') return false\n",
       "    }\n",
       " \n",
       "    if (window.getComputedStyle) {\n",
       "        var style = window.getComputedStyle(obj, \"\")\n",
       "        if (style.display == 'none') return false\n",
       "        if (style.visibility == 'hidden') return false\n",
       "    }\n",
       " \n",
       "    var style = obj.currentStyle\n",
       "    if (style) {\n",
       "        if (style['display'] == 'none') return false\n",
       "        if (style['visibility'] == 'hidden') return false\n",
       "    }\n",
       " \n",
       "    return isVisible(obj.parentNode)\n",
       "}\n",
       "\n",
       "function isChildOf(myobj, containerObj) {\n",
       "\twhile(myobj != undefined) {\n",
       "\t\tif (myobj == document.body) {\n",
       "\t\t\tbreak;\n",
       "\t\t} \n",
       "\t\tif (myobj == containerObj) {\n",
       "\t\t\treturn true;\n",
       "\t\t}\n",
       "\t\tmyobj = myobj.parentElement;\n",
       "\t}\n",
       "\treturn false;\t\n",
       "}\n",
       "\n",
       "function gnbLayerClose(e){\n",
       "\tvar target = e.target ? e.target : e.srcElement;\n",
       "\tif (isVisible(document.getElementById('gnb_service_lyr')) || isVisible(document.getElementById('gnb_notice_lyr')) ||isVisible(document.getElementById('gnb_my_lyr')) ) {\n",
       "\t\tif (!isChildOf(target, document.getElementById('gnb'))) {\n",
       "\t\t\tgnbAllLayerClose();\n",
       "\t\t}\n",
       "\t}\t\n",
       "}\n",
       "\n",
       "var isIE = (navigator.userAgent.toLowerCase().indexOf(\"msie\")!=-1 && window.document.all) ? true:false;\n",
       "if (isIE) {\n",
       "\tdocument.attachEvent('onmousedown', gnbLayerClose);\n",
       "} else {\n",
       "\twindow.addEventListener('mousedown', gnbLayerClose);\n",
       "}\n",
       "</script>\n",
       "\n"
      ]
     },
     "execution_count": 58,
     "metadata": {},
     "output_type": "execute_result"
    }
   ],
   "source": [
    "URL = 'https://finance.naver.com/marketindex/'\n",
    "page = urlopen(URL)\n",
    "\n",
    "soup = BeautifulSoup(page, 'html.parser')\n",
    "soup"
   ]
  },
  {
   "cell_type": "markdown",
   "metadata": {},
   "source": [
    "1. 수집 대상 찾기\n",
    "2. 수집 대상 기준 태그, 클래스, id 등의 속성 정보 확인\n",
    "3. 각각을 알맞게 수집해서 list화 시키기\n",
    "4. pandas 데이터 프레임으로 만들기"
   ]
  },
  {
   "cell_type": "code",
   "execution_count": 67,
   "metadata": {},
   "outputs": [
    {
     "name": "stdout",
     "output_type": "stream",
     "text": [
      "<li class=\"on\">\n",
      "<a class=\"head usd\" href=\"/marketindex/exchangeDetail.nhn?marketindexCd=FX_USDKRW\" onclick=\"clickcr(this, 'fr1.usdt', '', '', event);\">\n",
      "<h3 class=\"h_lst\"><span class=\"blind\">미국 USD</span></h3>\n",
      "<div class=\"head_info point_dn\">\n",
      "<span class=\"value\">1,200.80</span>\n",
      "<span class=\"txt_krw\"><span class=\"blind\">원</span></span>\n",
      "<span class=\"change\"> 5.70</span>\n",
      "<span class=\"blind\">하락</span>\n",
      "</div>\n",
      "</a>\n",
      "<a class=\"graph_img\" href=\"/marketindex/exchangeDetail.nhn?marketindexCd=FX_USDKRW\" onclick=\"clickcr(this, 'fr1.usdc', '', '', event);\">\n",
      "<img alt=\"\" height=\"153\" src=\"https://ssl.pstatic.net/imgfinance/chart/marketindex/FX_USDKRW.png\" width=\"295\"/>\n",
      "</a>\n",
      "<div class=\"graph_info\">\n",
      "<span class=\"time\">2020.07.15 14:23</span>\n",
      "<span class=\"source\">하나은행 기준</span>\n",
      "<span class=\"count\">고시회차<span class=\"num\">206</span>회</span>\n",
      "</div>\n",
      "</li>\n"
     ]
    }
   ],
   "source": [
    "exchangeUL = soup.find(\"ul\", id=\"exchangeList\")\n",
    "test_exchange_li = exchangeUL.find('li') # 첫 번째 데이터만 탐색 하기 위함\n",
    "print(test_exchange_li)"
   ]
  },
  {
   "cell_type": "markdown",
   "metadata": {},
   "source": [
    "국가이름 획득하기 방법 1"
   ]
  },
  {
   "cell_type": "code",
   "execution_count": 72,
   "metadata": {},
   "outputs": [
    {
     "name": "stdout",
     "output_type": "stream",
     "text": [
      "미국 USD\n",
      "하락\n"
     ]
    }
   ],
   "source": [
    "print(test_exchange_li.find_all('span', class_='blind')[0].text)\n",
    "print(test_exchange_li.find_all('span', class_='blind')[2].text)"
   ]
  },
  {
   "cell_type": "markdown",
   "metadata": {},
   "source": [
    "국가이름 획득하기 방법2"
   ]
  },
  {
   "cell_type": "code",
   "execution_count": 74,
   "metadata": {},
   "outputs": [
    {
     "name": "stdout",
     "output_type": "stream",
     "text": [
      "미국 USD\n"
     ]
    }
   ],
   "source": [
    "country = test_exchange_li.find('h3', class_='h_lst').text\n",
    "print(country)"
   ]
  },
  {
   "cell_type": "code",
   "execution_count": 75,
   "metadata": {},
   "outputs": [
    {
     "data": {
      "text/plain": [
       "<div class=\"head_info point_dn\">\n",
       "<span class=\"value\">1,200.80</span>\n",
       "<span class=\"txt_krw\"><span class=\"blind\">원</span></span>\n",
       "<span class=\"change\"> 5.70</span>\n",
       "<span class=\"blind\">하락</span>\n",
       "</div>"
      ]
     },
     "execution_count": 75,
     "metadata": {},
     "output_type": "execute_result"
    }
   ],
   "source": [
    "test_div = test_exchange_li.find('div', class_='head_info')\n",
    "test_div"
   ]
  },
  {
   "cell_type": "code",
   "execution_count": 86,
   "metadata": {},
   "outputs": [
    {
     "data": {
      "text/plain": [
       "1200.8"
      ]
     },
     "execution_count": 86,
     "metadata": {},
     "output_type": "execute_result"
    }
   ],
   "source": [
    "float(test_div.find(class_='value').text.replace(\",\", \"\"))"
   ]
  },
  {
   "cell_type": "code",
   "execution_count": 91,
   "metadata": {},
   "outputs": [
    {
     "data": {
      "text/plain": [
       "5.7"
      ]
     },
     "execution_count": 91,
     "metadata": {},
     "output_type": "execute_result"
    }
   ],
   "source": [
    "float(test_div.find(class_='change').text.strip())"
   ]
  },
  {
   "cell_type": "code",
   "execution_count": 84,
   "metadata": {},
   "outputs": [
    {
     "data": {
      "text/plain": [
       "'하락'"
      ]
     },
     "execution_count": 84,
     "metadata": {},
     "output_type": "execute_result"
    }
   ],
   "source": [
    "test_div.find_all(class_='blind')[1].text"
   ]
  },
  {
   "cell_type": "markdown",
   "metadata": {},
   "source": [
    "테스트가 끝났으니까 데이터 프레임을 만들어 보자"
   ]
  },
  {
   "cell_type": "code",
   "execution_count": 92,
   "metadata": {},
   "outputs": [],
   "source": [
    "import pandas as pd"
   ]
  },
  {
   "cell_type": "code",
   "execution_count": 116,
   "metadata": {},
   "outputs": [],
   "source": [
    "#1. 각 항목별 데이터를 수집해서 저장할 리스트\n",
    "countryList = [] # 국가 항목을 모아낼 리스트\n",
    "exchangeRateList = [] # 환율 항목을 모아낼 리스트\n",
    "changeList = [] # 변동 항목을 모아낼 리스트\n",
    "updownList = [] # 등락 항목을 모아낼 리스트"
   ]
  },
  {
   "cell_type": "code",
   "execution_count": 117,
   "metadata": {},
   "outputs": [
    {
     "name": "stdout",
     "output_type": "stream",
     "text": [
      "하락\n",
      "하락\n",
      "하락\n",
      "하락\n"
     ]
    }
   ],
   "source": [
    "exchangeUL = soup.find(\"ul\", id=\"exchangeList\")\n",
    "exchangeLI = exchangeUL.find_all(\"li\")\n",
    "\n",
    "for exchange in exchangeLI:\n",
    "    country = exchange.find('h3', class_='h_lst').text # 국가 정보\n",
    "    info_div = exchange.find('div', class_='head_info')\n",
    "\n",
    "    exRate = float(info_div.find(class_='value').text.replace(\",\", \"\"))\n",
    "    change = float(info_div.find(class_='change').text.strip())\n",
    "    updown = info_div.find_all(class_='blind')[1].text\n",
    "    \n",
    "    countryList.append(country)\n",
    "    exchangeRateList.append(exRate)\n",
    "    changeList.append(change)\n",
    "    updownList.append(updown)"
   ]
  },
  {
   "cell_type": "code",
   "execution_count": 118,
   "metadata": {},
   "outputs": [
    {
     "data": {
      "text/plain": [
       "['미국 USD', '일본 JPY(100엔)', '유럽연합 EUR', '중국 CNY']"
      ]
     },
     "execution_count": 118,
     "metadata": {},
     "output_type": "execute_result"
    }
   ],
   "source": [
    "countryList"
   ]
  },
  {
   "cell_type": "code",
   "execution_count": 119,
   "metadata": {},
   "outputs": [
    {
     "data": {
      "text/plain": [
       "[1200.8, 1119.47, 1368.37, 171.53]"
      ]
     },
     "execution_count": 119,
     "metadata": {},
     "output_type": "execute_result"
    }
   ],
   "source": [
    "exchangeRateList"
   ]
  },
  {
   "cell_type": "code",
   "execution_count": 120,
   "metadata": {},
   "outputs": [
    {
     "data": {
      "text/plain": [
       "[5.7, 4.06, 2.58, 0.35]"
      ]
     },
     "execution_count": 120,
     "metadata": {},
     "output_type": "execute_result"
    }
   ],
   "source": [
    "changeList"
   ]
  },
  {
   "cell_type": "code",
   "execution_count": 121,
   "metadata": {},
   "outputs": [
    {
     "data": {
      "text/plain": [
       "['하락', '하락', '하락', '하락']"
      ]
     },
     "execution_count": 121,
     "metadata": {},
     "output_type": "execute_result"
    }
   ],
   "source": [
    "updownList"
   ]
  },
  {
   "cell_type": "code",
   "execution_count": 123,
   "metadata": {},
   "outputs": [
    {
     "data": {
      "text/html": [
       "<div>\n",
       "<style scoped>\n",
       "    .dataframe tbody tr th:only-of-type {\n",
       "        vertical-align: middle;\n",
       "    }\n",
       "\n",
       "    .dataframe tbody tr th {\n",
       "        vertical-align: top;\n",
       "    }\n",
       "\n",
       "    .dataframe thead th {\n",
       "        text-align: right;\n",
       "    }\n",
       "</style>\n",
       "<table border=\"1\" class=\"dataframe\">\n",
       "  <thead>\n",
       "    <tr style=\"text-align: right;\">\n",
       "      <th></th>\n",
       "      <th>국가</th>\n",
       "      <th>환율</th>\n",
       "      <th>변동</th>\n",
       "      <th>등락</th>\n",
       "    </tr>\n",
       "  </thead>\n",
       "  <tbody>\n",
       "    <tr>\n",
       "      <th>0</th>\n",
       "      <td>미국 USD</td>\n",
       "      <td>1200.80</td>\n",
       "      <td>5.70</td>\n",
       "      <td>하락</td>\n",
       "    </tr>\n",
       "    <tr>\n",
       "      <th>1</th>\n",
       "      <td>일본 JPY(100엔)</td>\n",
       "      <td>1119.47</td>\n",
       "      <td>4.06</td>\n",
       "      <td>하락</td>\n",
       "    </tr>\n",
       "    <tr>\n",
       "      <th>2</th>\n",
       "      <td>유럽연합 EUR</td>\n",
       "      <td>1368.37</td>\n",
       "      <td>2.58</td>\n",
       "      <td>하락</td>\n",
       "    </tr>\n",
       "    <tr>\n",
       "      <th>3</th>\n",
       "      <td>중국 CNY</td>\n",
       "      <td>171.53</td>\n",
       "      <td>0.35</td>\n",
       "      <td>하락</td>\n",
       "    </tr>\n",
       "  </tbody>\n",
       "</table>\n",
       "</div>"
      ],
      "text/plain": [
       "             국가       환율    변동  등락\n",
       "0        미국 USD  1200.80  5.70  하락\n",
       "1  일본 JPY(100엔)  1119.47  4.06  하락\n",
       "2      유럽연합 EUR  1368.37  2.58  하락\n",
       "3        중국 CNY   171.53  0.35  하락"
      ]
     },
     "execution_count": 123,
     "metadata": {},
     "output_type": "execute_result"
    }
   ],
   "source": [
    "df_exchange = pd.DataFrame({\n",
    "    '국가':countryList,\n",
    "    '환율':exchangeRateList,\n",
    "    '변동':changeList,\n",
    "    '등락':updownList\n",
    "})\n",
    "\n",
    "df_exchange"
   ]
  },
  {
   "cell_type": "code",
   "execution_count": 124,
   "metadata": {},
   "outputs": [],
   "source": [
    "df_exchange.to_csv('./save_exchange.csv', encoding='utf-8')"
   ]
  },
  {
   "cell_type": "code",
   "execution_count": null,
   "metadata": {},
   "outputs": [],
   "source": []
  },
  {
   "cell_type": "code",
   "execution_count": null,
   "metadata": {},
   "outputs": [],
   "source": []
  },
  {
   "cell_type": "code",
   "execution_count": null,
   "metadata": {},
   "outputs": [],
   "source": []
  },
  {
   "cell_type": "code",
   "execution_count": null,
   "metadata": {},
   "outputs": [],
   "source": []
  },
  {
   "cell_type": "code",
   "execution_count": null,
   "metadata": {},
   "outputs": [],
   "source": []
  },
  {
   "cell_type": "code",
   "execution_count": null,
   "metadata": {},
   "outputs": [],
   "source": []
  },
  {
   "cell_type": "code",
   "execution_count": null,
   "metadata": {},
   "outputs": [],
   "source": []
  },
  {
   "cell_type": "code",
   "execution_count": null,
   "metadata": {},
   "outputs": [],
   "source": []
  },
  {
   "cell_type": "code",
   "execution_count": null,
   "metadata": {},
   "outputs": [],
   "source": []
  }
 ],
 "metadata": {
  "kernelspec": {
   "display_name": "Python 3",
   "language": "python",
   "name": "python3"
  },
  "language_info": {
   "codemirror_mode": {
    "name": "ipython",
    "version": 3
   },
   "file_extension": ".py",
   "mimetype": "text/x-python",
   "name": "python",
   "nbconvert_exporter": "python",
   "pygments_lexer": "ipython3",
   "version": "3.7.6"
  }
 },
 "nbformat": 4,
 "nbformat_minor": 4
}
