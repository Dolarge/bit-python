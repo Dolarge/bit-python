{
 "cells": [
  {
   "cell_type": "code",
   "execution_count": 1,
   "metadata": {},
   "outputs": [],
   "source": [
    "import platform #os 정보를 가져 올 수 있는 모듈\n",
    "\n",
    "from matplotlib import font_manager, rc # font_manager : 폰트 관리 모듈, rc : 폰트 변경 모듈\n",
    "from matplotlib import pyplot as plt # 시각화 도구\n",
    "\n",
    "import seaborn as sns\n",
    "\n",
    "%matplotlib inline\n",
    "plt.rcParams['axes.unicode_minus'] = False # 유니코드 표현 설정하기\n",
    "\n",
    "\n",
    "if platform.system() == 'Darwin':\n",
    "    rc('font', family='AppleGothic') # OS가 APPLE(Darwin)이면 AppleGothic으로 폰트 설정\n",
    "elif platform.system() == 'Windows':\n",
    "    path=\"c:/Windows/Fonts/malgun.ttf\" #OS가 윈도우즈면 맑은 고딕으로 설정\n",
    "    font_name = font_manager.FontProperties(fname=path).get_name()\n",
    "    rc('font', family=font_name)\n",
    "else:\n",
    "    print('Unknown System... sorry~~~~')"
   ]
  },
  {
   "cell_type": "code",
   "execution_count": 2,
   "metadata": {},
   "outputs": [],
   "source": [
    "from bs4 import BeautifulSoup # HTML문자열을 DOM 구조화\n",
    "from urllib.request import urlopen # url을 이용한 http 요청을 하기위한 객체\n",
    "from urllib.parse import urljoin # url을 굉장히 다루기 쉽게 해준다.\n",
    "\n",
    "import pandas as pd"
   ]
  },
  {
   "cell_type": "markdown",
   "metadata": {},
   "source": [
    "# urljoin을 이용해서 크롤링 대상 url 만들기"
   ]
  },
  {
   "cell_type": "code",
   "execution_count": 5,
   "metadata": {},
   "outputs": [
    {
     "data": {
      "text/plain": [
       "'https://movie.naver.com/movie/sdb/rank/rmovie.nhn?sel=pnt&date=20200715'"
      ]
     },
     "execution_count": 5,
     "metadata": {},
     "output_type": "execute_result"
    }
   ],
   "source": [
    "url_base = 'https://movie.naver.com/'\n",
    "url_sub  = 'movie/sdb/rank/rmovie.nhn?sel=pnt&date=20200715'\n",
    "\n",
    "url = urljoin(url_base, url_sub)\n",
    "url"
   ]
  },
  {
   "cell_type": "markdown",
   "metadata": {},
   "source": [
    "# 영화 평점 랭킹 페이지 가져오기"
   ]
  },
  {
   "cell_type": "code",
   "execution_count": 8,
   "metadata": {
    "scrolled": false
   },
   "outputs": [],
   "source": [
    "page = urlopen(url)\n",
    "soup = BeautifulSoup(page, 'html.parser')"
   ]
  },
  {
   "cell_type": "markdown",
   "metadata": {},
   "source": [
    "## 영화 평점 페이지 확인 결과\n",
    "- 테이블 중간 중간 비어있는 항목이 있었다.\n",
    " - 따라서 tbody 안의 tr만 사용해서 스크래이핑 할 때 예외 처리가 반드시 필요할 것 같다.\n",
    " \n",
    "- 직접 랭킹, 제목, 평점을 선택해서 가지고 올 것임"
   ]
  },
  {
   "cell_type": "code",
   "execution_count": 16,
   "metadata": {},
   "outputs": [
    {
     "name": "stdout",
     "output_type": "stream",
     "text": [
      "01\n",
      "그린 북\n",
      "9.59\n"
     ]
    }
   ],
   "source": [
    "print(soup.find('td', class_='ac').find('img').get('alt').strip())\n",
    "print(soup.find('div', class_='tit5').text.strip())\n",
    "print(soup.find('td', class_='point').text.strip())"
   ]
  },
  {
   "cell_type": "markdown",
   "metadata": {},
   "source": [
    "크롤링 할 때 공백제거 이외의 특별한 로직에 의해서 수집이 되어야 하면 for 및 zip 문법을 사용하고, 그 외의 경우는 컴프리헨션을 사용"
   ]
  },
  {
   "cell_type": "code",
   "execution_count": 74,
   "metadata": {},
   "outputs": [],
   "source": [
    "# 컴프리헨션을 사용하는 경우\n",
    "ranks  = [td.find('img') for td in soup.find_all('td', class_='ac') if td.find('img') is not None ]\n",
    "ranks  = [ int(rank.get('alt').strip()) for rank in ranks if (rank.get('alt') != \"na\" and rank.get('alt') !='up' and rank.get('alt') !='down') and (rank.get('alt').isalnum())]\n",
    "movies = [ movie.text.strip() for movie in soup.find_all('div', class_='tit5') ]\n",
    "points = [ point.text.strip() for point in soup.find_all('td', class_='point') ]"
   ]
  },
  {
   "cell_type": "markdown",
   "metadata": {},
   "source": [
    "# 컴프리헨션을 이용하지 않는 경우\n",
    "rank_list = []\n",
    "movie_list = []\n",
    "point_list = []\n",
    "\n",
    "for rank, movie, point in zip(ranks, movies, points):\n",
    "    pass"
   ]
  },
  {
   "cell_type": "code",
   "execution_count": 75,
   "metadata": {},
   "outputs": [
    {
     "data": {
      "text/plain": [
       "[1, 2, 3, 4, 5]"
      ]
     },
     "execution_count": 75,
     "metadata": {},
     "output_type": "execute_result"
    }
   ],
   "source": [
    "ranks[:5]"
   ]
  },
  {
   "cell_type": "code",
   "execution_count": 76,
   "metadata": {},
   "outputs": [
    {
     "data": {
      "text/plain": [
       "['그린 북', '가버나움', '베일리 어게인', '원더', '포드 V 페라리']"
      ]
     },
     "execution_count": 76,
     "metadata": {},
     "output_type": "execute_result"
    }
   ],
   "source": [
    "movies[:5]"
   ]
  },
  {
   "cell_type": "code",
   "execution_count": 77,
   "metadata": {},
   "outputs": [
    {
     "data": {
      "text/plain": [
       "['9.59', '9.59', '9.53', '9.49', '9.49']"
      ]
     },
     "execution_count": 77,
     "metadata": {},
     "output_type": "execute_result"
    }
   ],
   "source": [
    "points[:5]"
   ]
  },
  {
   "cell_type": "code",
   "execution_count": 78,
   "metadata": {},
   "outputs": [
    {
     "data": {
      "text/plain": [
       "(50, 50, 50)"
      ]
     },
     "execution_count": 78,
     "metadata": {},
     "output_type": "execute_result"
    }
   ],
   "source": [
    "len(ranks), len(movies), len(points)"
   ]
  },
  {
   "cell_type": "code",
   "execution_count": 79,
   "metadata": {},
   "outputs": [],
   "source": [
    "df_movie_rank = pd.DataFrame({\n",
    "    '랭킹': ranks,\n",
    "    '영화': movies,\n",
    "    '평점': points\n",
    "})\n",
    "df_movie_rank.set_index('랭킹', inplace=True)"
   ]
  },
  {
   "cell_type": "code",
   "execution_count": 80,
   "metadata": {},
   "outputs": [
    {
     "data": {
      "text/html": [
       "<div>\n",
       "<style scoped>\n",
       "    .dataframe tbody tr th:only-of-type {\n",
       "        vertical-align: middle;\n",
       "    }\n",
       "\n",
       "    .dataframe tbody tr th {\n",
       "        vertical-align: top;\n",
       "    }\n",
       "\n",
       "    .dataframe thead th {\n",
       "        text-align: right;\n",
       "    }\n",
       "</style>\n",
       "<table border=\"1\" class=\"dataframe\">\n",
       "  <thead>\n",
       "    <tr style=\"text-align: right;\">\n",
       "      <th></th>\n",
       "      <th>영화</th>\n",
       "      <th>평점</th>\n",
       "    </tr>\n",
       "    <tr>\n",
       "      <th>랭킹</th>\n",
       "      <th></th>\n",
       "      <th></th>\n",
       "    </tr>\n",
       "  </thead>\n",
       "  <tbody>\n",
       "    <tr>\n",
       "      <th>1</th>\n",
       "      <td>그린 북</td>\n",
       "      <td>9.59</td>\n",
       "    </tr>\n",
       "    <tr>\n",
       "      <th>2</th>\n",
       "      <td>가버나움</td>\n",
       "      <td>9.59</td>\n",
       "    </tr>\n",
       "    <tr>\n",
       "      <th>3</th>\n",
       "      <td>베일리 어게인</td>\n",
       "      <td>9.53</td>\n",
       "    </tr>\n",
       "    <tr>\n",
       "      <th>4</th>\n",
       "      <td>원더</td>\n",
       "      <td>9.49</td>\n",
       "    </tr>\n",
       "    <tr>\n",
       "      <th>5</th>\n",
       "      <td>포드 V 페라리</td>\n",
       "      <td>9.49</td>\n",
       "    </tr>\n",
       "  </tbody>\n",
       "</table>\n",
       "</div>"
      ],
      "text/plain": [
       "          영화    평점\n",
       "랭킹                \n",
       "1       그린 북  9.59\n",
       "2       가버나움  9.59\n",
       "3    베일리 어게인  9.53\n",
       "4         원더  9.49\n",
       "5   포드 V 페라리  9.49"
      ]
     },
     "execution_count": 80,
     "metadata": {},
     "output_type": "execute_result"
    }
   ],
   "source": [
    "df_movie_rank.head()"
   ]
  },
  {
   "cell_type": "markdown",
   "metadata": {},
   "source": [
    "# 100일간 네이버 영화 평점의 변화를 확인하자\n",
    "- 100일치의 날짜 데이터를 생성\n",
    "- pandas의 date_range"
   ]
  },
  {
   "cell_type": "code",
   "execution_count": 83,
   "metadata": {},
   "outputs": [
    {
     "data": {
      "text/plain": [
       "DatetimeIndex(['2020-04-07', '2020-04-08', '2020-04-09', '2020-04-10',\n",
       "               '2020-04-11', '2020-04-12', '2020-04-13', '2020-04-14',\n",
       "               '2020-04-15', '2020-04-16', '2020-04-17', '2020-04-18',\n",
       "               '2020-04-19', '2020-04-20', '2020-04-21', '2020-04-22',\n",
       "               '2020-04-23', '2020-04-24', '2020-04-25', '2020-04-26',\n",
       "               '2020-04-27', '2020-04-28', '2020-04-29', '2020-04-30',\n",
       "               '2020-05-01', '2020-05-02', '2020-05-03', '2020-05-04',\n",
       "               '2020-05-05', '2020-05-06', '2020-05-07', '2020-05-08',\n",
       "               '2020-05-09', '2020-05-10', '2020-05-11', '2020-05-12',\n",
       "               '2020-05-13', '2020-05-14', '2020-05-15', '2020-05-16',\n",
       "               '2020-05-17', '2020-05-18', '2020-05-19', '2020-05-20',\n",
       "               '2020-05-21', '2020-05-22', '2020-05-23', '2020-05-24',\n",
       "               '2020-05-25', '2020-05-26', '2020-05-27', '2020-05-28',\n",
       "               '2020-05-29', '2020-05-30', '2020-05-31', '2020-06-01',\n",
       "               '2020-06-02', '2020-06-03', '2020-06-04', '2020-06-05',\n",
       "               '2020-06-06', '2020-06-07', '2020-06-08', '2020-06-09',\n",
       "               '2020-06-10', '2020-06-11', '2020-06-12', '2020-06-13',\n",
       "               '2020-06-14', '2020-06-15', '2020-06-16', '2020-06-17',\n",
       "               '2020-06-18', '2020-06-19', '2020-06-20', '2020-06-21',\n",
       "               '2020-06-22', '2020-06-23', '2020-06-24', '2020-06-25',\n",
       "               '2020-06-26', '2020-06-27', '2020-06-28', '2020-06-29',\n",
       "               '2020-06-30', '2020-07-01', '2020-07-02', '2020-07-03',\n",
       "               '2020-07-04', '2020-07-05', '2020-07-06', '2020-07-07',\n",
       "               '2020-07-08', '2020-07-09', '2020-07-10', '2020-07-11',\n",
       "               '2020-07-12', '2020-07-13', '2020-07-14', '2020-07-15'],\n",
       "              dtype='datetime64[ns]', freq='D')"
      ]
     },
     "execution_count": 83,
     "metadata": {},
     "output_type": "execute_result"
    }
   ],
   "source": [
    "date = pd.date_range('2020-04-07', periods=100, freq='D')\n",
    "date"
   ]
  },
  {
   "cell_type": "markdown",
   "metadata": {},
   "source": [
    "tqdm_notebook을 활용해서 진행 상황 시각화\n",
    "- pip(pip3) install tqdm"
   ]
  },
  {
   "cell_type": "code",
   "execution_count": 95,
   "metadata": {},
   "outputs": [],
   "source": [
    "import tqdm\n",
    "import urllib"
   ]
  },
  {
   "cell_type": "code",
   "execution_count": 122,
   "metadata": {},
   "outputs": [],
   "source": [
    "movie_date = [] # 평점 검색 날짜\n",
    "movie_name = [] # 영화 제목\n",
    "movie_point = [] # 해당 일자의 영화 평점 점수"
   ]
  },
  {
   "cell_type": "code",
   "execution_count": 123,
   "metadata": {},
   "outputs": [],
   "source": [
    "url_base = 'https://movie.naver.com/'\n",
    "url_sub  = 'movie/sdb/rank/rmovie.nhn?sel=pnt&date={}'"
   ]
  },
  {
   "cell_type": "code",
   "execution_count": 124,
   "metadata": {},
   "outputs": [
    {
     "data": {
      "application/vnd.jupyter.widget-view+json": {
       "model_id": "a069a65e86d140cf8704888df59ea699",
       "version_major": 2,
       "version_minor": 0
      },
      "text/plain": [
       "HBox(children=(FloatProgress(value=0.0), HTML(value='')))"
      ]
     },
     "metadata": {},
     "output_type": "display_data"
    },
    {
     "name": "stdout",
     "output_type": "stream",
     "text": [
      "\n"
     ]
    }
   ],
   "source": [
    "for today in tqdm.notebook.tqdm(date):\n",
    "    # yyyy-mm-dd 형식의 날짜 형식을 yyyymmdd 형식으로 바꿔주기\n",
    "    today = urllib.parse.quote(today.strftime('%Y%m%d'))\n",
    "    url_formated = url_sub.format(today)\n",
    "    url = urljoin(url_base, url_formated)\n",
    "    \n",
    "    page = urlopen(url)\n",
    "    soup = BeautifulSoup(page, 'html.parser')\n",
    "    \n",
    "    # 조회한 날짜마다의 영화의 제목과 평점을 한꺼번에 구하기\n",
    "    movies = [ movie.text.strip() for movie in soup.find_all('div', class_='tit5') ]\n",
    "    points = [ float(point.text.strip()) for point in soup.find_all('td', class_='point') ]\n",
    "     \n",
    "    \n",
    "    movie_date.extend([ today for n in range(0, len(movies)) ]) # 날짜 데이터 리스트 추가\n",
    "    movie_name.extend(movies)\n",
    "    movie_point.extend(points)\n",
    "    "
   ]
  },
  {
   "cell_type": "code",
   "execution_count": 125,
   "metadata": {},
   "outputs": [
    {
     "data": {
      "text/html": [
       "<div>\n",
       "<style scoped>\n",
       "    .dataframe tbody tr th:only-of-type {\n",
       "        vertical-align: middle;\n",
       "    }\n",
       "\n",
       "    .dataframe tbody tr th {\n",
       "        vertical-align: top;\n",
       "    }\n",
       "\n",
       "    .dataframe thead th {\n",
       "        text-align: right;\n",
       "    }\n",
       "</style>\n",
       "<table border=\"1\" class=\"dataframe\">\n",
       "  <thead>\n",
       "    <tr style=\"text-align: right;\">\n",
       "      <th></th>\n",
       "      <th>date</th>\n",
       "      <th>name</th>\n",
       "      <th>point</th>\n",
       "    </tr>\n",
       "  </thead>\n",
       "  <tbody>\n",
       "    <tr>\n",
       "      <th>0</th>\n",
       "      <td>20200407</td>\n",
       "      <td>그린 북</td>\n",
       "      <td>9.60</td>\n",
       "    </tr>\n",
       "    <tr>\n",
       "      <th>1</th>\n",
       "      <td>20200407</td>\n",
       "      <td>가버나움</td>\n",
       "      <td>9.58</td>\n",
       "    </tr>\n",
       "    <tr>\n",
       "      <th>2</th>\n",
       "      <td>20200407</td>\n",
       "      <td>베일리 어게인</td>\n",
       "      <td>9.52</td>\n",
       "    </tr>\n",
       "    <tr>\n",
       "      <th>3</th>\n",
       "      <td>20200407</td>\n",
       "      <td>포드 V 페라리</td>\n",
       "      <td>9.50</td>\n",
       "    </tr>\n",
       "    <tr>\n",
       "      <th>4</th>\n",
       "      <td>20200407</td>\n",
       "      <td>주전장</td>\n",
       "      <td>9.50</td>\n",
       "    </tr>\n",
       "  </tbody>\n",
       "</table>\n",
       "</div>"
      ],
      "text/plain": [
       "       date      name  point\n",
       "0  20200407      그린 북   9.60\n",
       "1  20200407      가버나움   9.58\n",
       "2  20200407   베일리 어게인   9.52\n",
       "3  20200407  포드 V 페라리   9.50\n",
       "4  20200407       주전장   9.50"
      ]
     },
     "execution_count": 125,
     "metadata": {},
     "output_type": "execute_result"
    }
   ],
   "source": [
    "movie_df = pd.DataFrame({\n",
    "    'date': movie_date,\n",
    "    'name': movie_name,\n",
    "    'point': movie_point\n",
    "})\n",
    "\n",
    "movie_df.head()"
   ]
  },
  {
   "cell_type": "markdown",
   "metadata": {},
   "source": [
    "# 100간의 평균 평점이 높은 순으로 정렬하기"
   ]
  },
  {
   "cell_type": "code",
   "execution_count": 126,
   "metadata": {},
   "outputs": [],
   "source": [
    "import numpy as np"
   ]
  },
  {
   "cell_type": "code",
   "execution_count": 127,
   "metadata": {},
   "outputs": [
    {
     "name": "stdout",
     "output_type": "stream",
     "text": [
      "<class 'pandas.core.frame.DataFrame'>\n",
      "RangeIndex: 5000 entries, 0 to 4999\n",
      "Data columns (total 3 columns):\n",
      " #   Column  Non-Null Count  Dtype  \n",
      "---  ------  --------------  -----  \n",
      " 0   date    5000 non-null   object \n",
      " 1   name    5000 non-null   object \n",
      " 2   point   5000 non-null   float64\n",
      "dtypes: float64(1), object(2)\n",
      "memory usage: 117.3+ KB\n"
     ]
    }
   ],
   "source": [
    "movie_df.info()"
   ]
  },
  {
   "cell_type": "code",
   "execution_count": 128,
   "metadata": {},
   "outputs": [
    {
     "data": {
      "text/html": [
       "<div>\n",
       "<style scoped>\n",
       "    .dataframe tbody tr th:only-of-type {\n",
       "        vertical-align: middle;\n",
       "    }\n",
       "\n",
       "    .dataframe tbody tr th {\n",
       "        vertical-align: top;\n",
       "    }\n",
       "\n",
       "    .dataframe thead th {\n",
       "        text-align: right;\n",
       "    }\n",
       "</style>\n",
       "<table border=\"1\" class=\"dataframe\">\n",
       "  <thead>\n",
       "    <tr style=\"text-align: right;\">\n",
       "      <th></th>\n",
       "      <th>point</th>\n",
       "    </tr>\n",
       "    <tr>\n",
       "      <th>name</th>\n",
       "      <th></th>\n",
       "    </tr>\n",
       "  </thead>\n",
       "  <tbody>\n",
       "    <tr>\n",
       "      <th>그린 북</th>\n",
       "      <td>9.593200</td>\n",
       "    </tr>\n",
       "    <tr>\n",
       "      <th>가버나움</th>\n",
       "      <td>9.584700</td>\n",
       "    </tr>\n",
       "    <tr>\n",
       "      <th>베일리 어게인</th>\n",
       "      <td>9.525600</td>\n",
       "    </tr>\n",
       "    <tr>\n",
       "      <th>아이즈 온 미 : 더 무비</th>\n",
       "      <td>9.521667</td>\n",
       "    </tr>\n",
       "    <tr>\n",
       "      <th>포드 V 페라리</th>\n",
       "      <td>9.495700</td>\n",
       "    </tr>\n",
       "  </tbody>\n",
       "</table>\n",
       "</div>"
      ],
      "text/plain": [
       "                   point\n",
       "name                    \n",
       "그린 북            9.593200\n",
       "가버나움            9.584700\n",
       "베일리 어게인         9.525600\n",
       "아이즈 온 미 : 더 무비  9.521667\n",
       "포드 V 페라리        9.495700"
      ]
     },
     "execution_count": 128,
     "metadata": {},
     "output_type": "execute_result"
    }
   ],
   "source": [
    "movie_agg = pd.pivot_table(movie_df, index=['name'], values='point', aggfunc=np.mean)\n",
    "movie_best = movie_agg.sort_values(by='point', ascending=False)\n",
    "movie_best.head()"
   ]
  },
  {
   "cell_type": "code",
   "execution_count": 143,
   "metadata": {},
   "outputs": [
    {
     "data": {
      "text/html": [
       "<div>\n",
       "<style scoped>\n",
       "    .dataframe tbody tr th:only-of-type {\n",
       "        vertical-align: middle;\n",
       "    }\n",
       "\n",
       "    .dataframe tbody tr th {\n",
       "        vertical-align: top;\n",
       "    }\n",
       "\n",
       "    .dataframe thead th {\n",
       "        text-align: right;\n",
       "    }\n",
       "</style>\n",
       "<table border=\"1\" class=\"dataframe\">\n",
       "  <thead>\n",
       "    <tr style=\"text-align: right;\">\n",
       "      <th></th>\n",
       "      <th>date</th>\n",
       "      <th>name</th>\n",
       "      <th>point</th>\n",
       "    </tr>\n",
       "  </thead>\n",
       "  <tbody>\n",
       "    <tr>\n",
       "      <th>28</th>\n",
       "      <td>20200407</td>\n",
       "      <td>어벤져스: 엔드게임</td>\n",
       "      <td>9.38</td>\n",
       "    </tr>\n",
       "    <tr>\n",
       "      <th>78</th>\n",
       "      <td>20200408</td>\n",
       "      <td>어벤져스: 엔드게임</td>\n",
       "      <td>9.38</td>\n",
       "    </tr>\n",
       "    <tr>\n",
       "      <th>128</th>\n",
       "      <td>20200409</td>\n",
       "      <td>어벤져스: 엔드게임</td>\n",
       "      <td>9.38</td>\n",
       "    </tr>\n",
       "    <tr>\n",
       "      <th>178</th>\n",
       "      <td>20200410</td>\n",
       "      <td>어벤져스: 엔드게임</td>\n",
       "      <td>9.38</td>\n",
       "    </tr>\n",
       "    <tr>\n",
       "      <th>228</th>\n",
       "      <td>20200411</td>\n",
       "      <td>어벤져스: 엔드게임</td>\n",
       "      <td>9.38</td>\n",
       "    </tr>\n",
       "  </tbody>\n",
       "</table>\n",
       "</div>"
      ],
      "text/plain": [
       "         date        name  point\n",
       "28   20200407  어벤져스: 엔드게임   9.38\n",
       "78   20200408  어벤져스: 엔드게임   9.38\n",
       "128  20200409  어벤져스: 엔드게임   9.38\n",
       "178  20200410  어벤져스: 엔드게임   9.38\n",
       "228  20200411  어벤져스: 엔드게임   9.38"
      ]
     },
     "execution_count": 143,
     "metadata": {},
     "output_type": "execute_result"
    }
   ],
   "source": []
  },
  {
   "cell_type": "code",
   "execution_count": 159,
   "metadata": {},
   "outputs": [
    {
     "name": "stdout",
     "output_type": "stream",
     "text": [
      "그린 북\n",
      "가버나움\n",
      "베일리 어게인\n",
      "포드 V 페라리\n",
      "주전장\n",
      "아일라\n",
      "원더\n",
      "당갈\n",
      "쇼생크 탈출\n",
      "터미네이터 2:오리지널\n",
      "보헤미안 랩소디\n",
      "덕구\n",
      "나 홀로 집에\n",
      "월-E\n",
      "살인의 추억\n",
      "빽 투 더 퓨쳐\n",
      "인생은 아름다워\n",
      "사운드 오브 뮤직\n",
      "포레스트 검프\n",
      "매트릭스\n",
      "라이언 일병 구하기\n",
      "헬프\n",
      "글래디에이터\n",
      "센과 치히로의 행방불명\n",
      "위대한 쇼맨\n",
      "클래식\n",
      "토이 스토리 3\n",
      "안녕 베일리\n",
      "어벤져스: 엔드게임\n",
      "알라딘\n",
      "헌터 킬러\n",
      "레옹\n",
      "죽은 시인의 사회\n",
      "타이타닉\n",
      "아이 캔 스피크\n",
      "집으로...\n",
      "반지의 제왕: 왕의 귀환\n",
      "동주\n",
      "캐스트 어웨이\n",
      "여인의 향기\n",
      "굿바이 마이 프랜드\n",
      "굿 윌 헌팅\n",
      "주토피아\n",
      "서유기 2 - 선리기연\n",
      "달링\n",
      "히든 피겨스\n",
      "클레멘타인\n",
      "모노노케 히메\n",
      "쉰들러 리스트\n",
      "세 얼간이\n",
      "아이즈 온 미 : 더 무비\n"
     ]
    }
   ],
   "source": [
    "for name in movie_df['name'].unique():\n",
    "    print(name)"
   ]
  },
  {
   "cell_type": "code",
   "execution_count": 160,
   "metadata": {},
   "outputs": [
    {
     "name": "stderr",
     "output_type": "stream",
     "text": [
      "No handles with labels found to put in legend.\n"
     ]
    },
    {
     "data": {
      "image/png": "[encoded data removed]",
      "text/plain": [
       "<Figure size 1440x720 with 1 Axes>"
      ]
     },
     "metadata": {
      "needs_background": "light"
     },
     "output_type": "display_data"
    }
   ],
   "source": [
    "df_search = movie_df.query('name==[\"터미네이터 2:오리지널\"]')\n",
    "\n",
    "plt.figure(figsize=(20, 10))\n",
    "plt.plot(df_search['date'], df_search['point'])\n",
    "plt.legend(loc='best')\n",
    "plt.xticks(df_search['date'], rotation='45')\n",
    "plt.grid()\n",
    "plt.show()"
   ]
  },
  {
   "cell_type": "markdown",
   "metadata": {},
   "source": [
    "# 영화별 평점 확인하기"
   ]
  },
  {
   "cell_type": "code",
   "execution_count": 161,
   "metadata": {},
   "outputs": [
    {
     "data": {
      "text/html": [
       "<div>\n",
       "<style scoped>\n",
       "    .dataframe tbody tr th:only-of-type {\n",
       "        vertical-align: middle;\n",
       "    }\n",
       "\n",
       "    .dataframe tbody tr th {\n",
       "        vertical-align: top;\n",
       "    }\n",
       "\n",
       "    .dataframe thead tr th {\n",
       "        text-align: left;\n",
       "    }\n",
       "\n",
       "    .dataframe thead tr:last-of-type th {\n",
       "        text-align: right;\n",
       "    }\n",
       "</style>\n",
       "<table border=\"1\" class=\"dataframe\">\n",
       "  <thead>\n",
       "    <tr>\n",
       "      <th></th>\n",
       "      <th colspan=\"21\" halign=\"left\">point</th>\n",
       "    </tr>\n",
       "    <tr>\n",
       "      <th>name</th>\n",
       "      <th>가버나움</th>\n",
       "      <th>굿 윌 헌팅</th>\n",
       "      <th>굿바이 마이 프랜드</th>\n",
       "      <th>그린 북</th>\n",
       "      <th>글래디에이터</th>\n",
       "      <th>나 홀로 집에</th>\n",
       "      <th>달링</th>\n",
       "      <th>당갈</th>\n",
       "      <th>덕구</th>\n",
       "      <th>동주</th>\n",
       "      <th>...</th>\n",
       "      <th>클래식</th>\n",
       "      <th>클레멘타인</th>\n",
       "      <th>타이타닉</th>\n",
       "      <th>터미네이터 2:오리지널</th>\n",
       "      <th>토이 스토리 3</th>\n",
       "      <th>포드 V 페라리</th>\n",
       "      <th>포레스트 검프</th>\n",
       "      <th>헌터 킬러</th>\n",
       "      <th>헬프</th>\n",
       "      <th>히든 피겨스</th>\n",
       "    </tr>\n",
       "    <tr>\n",
       "      <th>date</th>\n",
       "      <th></th>\n",
       "      <th></th>\n",
       "      <th></th>\n",
       "      <th></th>\n",
       "      <th></th>\n",
       "      <th></th>\n",
       "      <th></th>\n",
       "      <th></th>\n",
       "      <th></th>\n",
       "      <th></th>\n",
       "      <th></th>\n",
       "      <th></th>\n",
       "      <th></th>\n",
       "      <th></th>\n",
       "      <th></th>\n",
       "      <th></th>\n",
       "      <th></th>\n",
       "      <th></th>\n",
       "      <th></th>\n",
       "      <th></th>\n",
       "      <th></th>\n",
       "    </tr>\n",
       "  </thead>\n",
       "  <tbody>\n",
       "    <tr>\n",
       "      <th>20200407</th>\n",
       "      <td>9.58</td>\n",
       "      <td>9.35</td>\n",
       "      <td>9.35</td>\n",
       "      <td>9.6</td>\n",
       "      <td>9.39</td>\n",
       "      <td>9.41</td>\n",
       "      <td>9.35</td>\n",
       "      <td>9.47</td>\n",
       "      <td>9.42</td>\n",
       "      <td>9.36</td>\n",
       "      <td>...</td>\n",
       "      <td>9.38</td>\n",
       "      <td>9.35</td>\n",
       "      <td>9.37</td>\n",
       "      <td>9.44</td>\n",
       "      <td>9.38</td>\n",
       "      <td>9.5</td>\n",
       "      <td>9.4</td>\n",
       "      <td>9.38</td>\n",
       "      <td>9.39</td>\n",
       "      <td>9.35</td>\n",
       "    </tr>\n",
       "    <tr>\n",
       "      <th>20200408</th>\n",
       "      <td>9.58</td>\n",
       "      <td>9.35</td>\n",
       "      <td>9.35</td>\n",
       "      <td>9.6</td>\n",
       "      <td>9.39</td>\n",
       "      <td>9.41</td>\n",
       "      <td>9.35</td>\n",
       "      <td>9.47</td>\n",
       "      <td>9.42</td>\n",
       "      <td>9.36</td>\n",
       "      <td>...</td>\n",
       "      <td>9.38</td>\n",
       "      <td>9.35</td>\n",
       "      <td>9.37</td>\n",
       "      <td>9.44</td>\n",
       "      <td>9.38</td>\n",
       "      <td>9.5</td>\n",
       "      <td>9.4</td>\n",
       "      <td>9.38</td>\n",
       "      <td>9.39</td>\n",
       "      <td>9.35</td>\n",
       "    </tr>\n",
       "    <tr>\n",
       "      <th>20200409</th>\n",
       "      <td>9.58</td>\n",
       "      <td>9.35</td>\n",
       "      <td>9.35</td>\n",
       "      <td>9.6</td>\n",
       "      <td>9.39</td>\n",
       "      <td>9.41</td>\n",
       "      <td>9.35</td>\n",
       "      <td>9.47</td>\n",
       "      <td>9.42</td>\n",
       "      <td>9.36</td>\n",
       "      <td>...</td>\n",
       "      <td>9.38</td>\n",
       "      <td>9.35</td>\n",
       "      <td>9.37</td>\n",
       "      <td>9.44</td>\n",
       "      <td>9.38</td>\n",
       "      <td>9.5</td>\n",
       "      <td>9.4</td>\n",
       "      <td>9.38</td>\n",
       "      <td>9.39</td>\n",
       "      <td>9.35</td>\n",
       "    </tr>\n",
       "    <tr>\n",
       "      <th>20200410</th>\n",
       "      <td>9.58</td>\n",
       "      <td>9.35</td>\n",
       "      <td>9.35</td>\n",
       "      <td>9.6</td>\n",
       "      <td>9.39</td>\n",
       "      <td>9.41</td>\n",
       "      <td>9.35</td>\n",
       "      <td>9.47</td>\n",
       "      <td>9.41</td>\n",
       "      <td>9.37</td>\n",
       "      <td>...</td>\n",
       "      <td>9.38</td>\n",
       "      <td>9.35</td>\n",
       "      <td>9.37</td>\n",
       "      <td>9.44</td>\n",
       "      <td>9.38</td>\n",
       "      <td>9.5</td>\n",
       "      <td>9.4</td>\n",
       "      <td>9.37</td>\n",
       "      <td>9.39</td>\n",
       "      <td>9.35</td>\n",
       "    </tr>\n",
       "    <tr>\n",
       "      <th>20200411</th>\n",
       "      <td>9.58</td>\n",
       "      <td>9.35</td>\n",
       "      <td>9.35</td>\n",
       "      <td>9.6</td>\n",
       "      <td>9.39</td>\n",
       "      <td>9.41</td>\n",
       "      <td>9.35</td>\n",
       "      <td>9.47</td>\n",
       "      <td>9.41</td>\n",
       "      <td>9.37</td>\n",
       "      <td>...</td>\n",
       "      <td>9.38</td>\n",
       "      <td>9.35</td>\n",
       "      <td>9.37</td>\n",
       "      <td>9.44</td>\n",
       "      <td>9.38</td>\n",
       "      <td>9.5</td>\n",
       "      <td>9.4</td>\n",
       "      <td>9.37</td>\n",
       "      <td>9.39</td>\n",
       "      <td>9.35</td>\n",
       "    </tr>\n",
       "  </tbody>\n",
       "</table>\n",
       "<p>5 rows × 51 columns</p>\n",
       "</div>"
      ],
      "text/plain": [
       "         point                                                                \\\n",
       "name      가버나움 굿 윌 헌팅 굿바이 마이 프랜드 그린 북 글래디에이터 나 홀로 집에    달링    당갈    덕구    동주   \n",
       "date                                                                           \n",
       "20200407  9.58   9.35       9.35  9.6   9.39    9.41  9.35  9.47  9.42  9.36   \n",
       "20200408  9.58   9.35       9.35  9.6   9.39    9.41  9.35  9.47  9.42  9.36   \n",
       "20200409  9.58   9.35       9.35  9.6   9.39    9.41  9.35  9.47  9.42  9.36   \n",
       "20200410  9.58   9.35       9.35  9.6   9.39    9.41  9.35  9.47  9.41  9.37   \n",
       "20200411  9.58   9.35       9.35  9.6   9.39    9.41  9.35  9.47  9.41  9.37   \n",
       "\n",
       "          ...                                                                 \\\n",
       "name      ...   클래식 클레멘타인  타이타닉 터미네이터 2:오리지널 토이 스토리 3 포드 V 페라리 포레스트 검프 헌터 킬러   \n",
       "date      ...                                                                  \n",
       "20200407  ...  9.38  9.35  9.37         9.44     9.38      9.5     9.4  9.38   \n",
       "20200408  ...  9.38  9.35  9.37         9.44     9.38      9.5     9.4  9.38   \n",
       "20200409  ...  9.38  9.35  9.37         9.44     9.38      9.5     9.4  9.38   \n",
       "20200410  ...  9.38  9.35  9.37         9.44     9.38      9.5     9.4  9.37   \n",
       "20200411  ...  9.38  9.35  9.37         9.44     9.38      9.5     9.4  9.37   \n",
       "\n",
       "                       \n",
       "name        헬프 히든 피겨스  \n",
       "date                   \n",
       "20200407  9.39   9.35  \n",
       "20200408  9.39   9.35  \n",
       "20200409  9.39   9.35  \n",
       "20200410  9.39   9.35  \n",
       "20200411  9.39   9.35  \n",
       "\n",
       "[5 rows x 51 columns]"
      ]
     },
     "execution_count": 161,
     "metadata": {},
     "output_type": "execute_result"
    }
   ],
   "source": [
    "movie_pivot = pd.pivot_table(movie_df, index=['date'], columns=['name'], values=['point'])\n",
    "movie_pivot.head()"
   ]
  },
  {
   "cell_type": "markdown",
   "metadata": {},
   "source": [
    "pivot_table을 활용하여 컬럼의 변화가 일어 났을 때 원래 있던 컬럼 때문에 컬럼의 레벨이 올라가면 droplevel()을 활용하여 상위 컬럼 레벨을 하나씩 줄여갈 수 있다."
   ]
  },
  {
   "cell_type": "code",
   "execution_count": 163,
   "metadata": {},
   "outputs": [
    {
     "data": {
      "text/html": [
       "<div>\n",
       "<style scoped>\n",
       "    .dataframe tbody tr th:only-of-type {\n",
       "        vertical-align: middle;\n",
       "    }\n",
       "\n",
       "    .dataframe tbody tr th {\n",
       "        vertical-align: top;\n",
       "    }\n",
       "\n",
       "    .dataframe thead th {\n",
       "        text-align: right;\n",
       "    }\n",
       "</style>\n",
       "<table border=\"1\" class=\"dataframe\">\n",
       "  <thead>\n",
       "    <tr style=\"text-align: right;\">\n",
       "      <th>name</th>\n",
       "      <th>가버나움</th>\n",
       "      <th>굿 윌 헌팅</th>\n",
       "      <th>굿바이 마이 프랜드</th>\n",
       "      <th>그린 북</th>\n",
       "      <th>글래디에이터</th>\n",
       "      <th>나 홀로 집에</th>\n",
       "      <th>달링</th>\n",
       "      <th>당갈</th>\n",
       "      <th>덕구</th>\n",
       "      <th>동주</th>\n",
       "      <th>...</th>\n",
       "      <th>클래식</th>\n",
       "      <th>클레멘타인</th>\n",
       "      <th>타이타닉</th>\n",
       "      <th>터미네이터 2:오리지널</th>\n",
       "      <th>토이 스토리 3</th>\n",
       "      <th>포드 V 페라리</th>\n",
       "      <th>포레스트 검프</th>\n",
       "      <th>헌터 킬러</th>\n",
       "      <th>헬프</th>\n",
       "      <th>히든 피겨스</th>\n",
       "    </tr>\n",
       "    <tr>\n",
       "      <th>date</th>\n",
       "      <th></th>\n",
       "      <th></th>\n",
       "      <th></th>\n",
       "      <th></th>\n",
       "      <th></th>\n",
       "      <th></th>\n",
       "      <th></th>\n",
       "      <th></th>\n",
       "      <th></th>\n",
       "      <th></th>\n",
       "      <th></th>\n",
       "      <th></th>\n",
       "      <th></th>\n",
       "      <th></th>\n",
       "      <th></th>\n",
       "      <th></th>\n",
       "      <th></th>\n",
       "      <th></th>\n",
       "      <th></th>\n",
       "      <th></th>\n",
       "      <th></th>\n",
       "    </tr>\n",
       "  </thead>\n",
       "  <tbody>\n",
       "    <tr>\n",
       "      <th>20200407</th>\n",
       "      <td>9.58</td>\n",
       "      <td>9.35</td>\n",
       "      <td>9.35</td>\n",
       "      <td>9.6</td>\n",
       "      <td>9.39</td>\n",
       "      <td>9.41</td>\n",
       "      <td>9.35</td>\n",
       "      <td>9.47</td>\n",
       "      <td>9.42</td>\n",
       "      <td>9.36</td>\n",
       "      <td>...</td>\n",
       "      <td>9.38</td>\n",
       "      <td>9.35</td>\n",
       "      <td>9.37</td>\n",
       "      <td>9.44</td>\n",
       "      <td>9.38</td>\n",
       "      <td>9.5</td>\n",
       "      <td>9.4</td>\n",
       "      <td>9.38</td>\n",
       "      <td>9.39</td>\n",
       "      <td>9.35</td>\n",
       "    </tr>\n",
       "    <tr>\n",
       "      <th>20200408</th>\n",
       "      <td>9.58</td>\n",
       "      <td>9.35</td>\n",
       "      <td>9.35</td>\n",
       "      <td>9.6</td>\n",
       "      <td>9.39</td>\n",
       "      <td>9.41</td>\n",
       "      <td>9.35</td>\n",
       "      <td>9.47</td>\n",
       "      <td>9.42</td>\n",
       "      <td>9.36</td>\n",
       "      <td>...</td>\n",
       "      <td>9.38</td>\n",
       "      <td>9.35</td>\n",
       "      <td>9.37</td>\n",
       "      <td>9.44</td>\n",
       "      <td>9.38</td>\n",
       "      <td>9.5</td>\n",
       "      <td>9.4</td>\n",
       "      <td>9.38</td>\n",
       "      <td>9.39</td>\n",
       "      <td>9.35</td>\n",
       "    </tr>\n",
       "    <tr>\n",
       "      <th>20200409</th>\n",
       "      <td>9.58</td>\n",
       "      <td>9.35</td>\n",
       "      <td>9.35</td>\n",
       "      <td>9.6</td>\n",
       "      <td>9.39</td>\n",
       "      <td>9.41</td>\n",
       "      <td>9.35</td>\n",
       "      <td>9.47</td>\n",
       "      <td>9.42</td>\n",
       "      <td>9.36</td>\n",
       "      <td>...</td>\n",
       "      <td>9.38</td>\n",
       "      <td>9.35</td>\n",
       "      <td>9.37</td>\n",
       "      <td>9.44</td>\n",
       "      <td>9.38</td>\n",
       "      <td>9.5</td>\n",
       "      <td>9.4</td>\n",
       "      <td>9.38</td>\n",
       "      <td>9.39</td>\n",
       "      <td>9.35</td>\n",
       "    </tr>\n",
       "    <tr>\n",
       "      <th>20200410</th>\n",
       "      <td>9.58</td>\n",
       "      <td>9.35</td>\n",
       "      <td>9.35</td>\n",
       "      <td>9.6</td>\n",
       "      <td>9.39</td>\n",
       "      <td>9.41</td>\n",
       "      <td>9.35</td>\n",
       "      <td>9.47</td>\n",
       "      <td>9.41</td>\n",
       "      <td>9.37</td>\n",
       "      <td>...</td>\n",
       "      <td>9.38</td>\n",
       "      <td>9.35</td>\n",
       "      <td>9.37</td>\n",
       "      <td>9.44</td>\n",
       "      <td>9.38</td>\n",
       "      <td>9.5</td>\n",
       "      <td>9.4</td>\n",
       "      <td>9.37</td>\n",
       "      <td>9.39</td>\n",
       "      <td>9.35</td>\n",
       "    </tr>\n",
       "    <tr>\n",
       "      <th>20200411</th>\n",
       "      <td>9.58</td>\n",
       "      <td>9.35</td>\n",
       "      <td>9.35</td>\n",
       "      <td>9.6</td>\n",
       "      <td>9.39</td>\n",
       "      <td>9.41</td>\n",
       "      <td>9.35</td>\n",
       "      <td>9.47</td>\n",
       "      <td>9.41</td>\n",
       "      <td>9.37</td>\n",
       "      <td>...</td>\n",
       "      <td>9.38</td>\n",
       "      <td>9.35</td>\n",
       "      <td>9.37</td>\n",
       "      <td>9.44</td>\n",
       "      <td>9.38</td>\n",
       "      <td>9.5</td>\n",
       "      <td>9.4</td>\n",
       "      <td>9.37</td>\n",
       "      <td>9.39</td>\n",
       "      <td>9.35</td>\n",
       "    </tr>\n",
       "  </tbody>\n",
       "</table>\n",
       "<p>5 rows × 51 columns</p>\n",
       "</div>"
      ],
      "text/plain": [
       "name      가버나움  굿 윌 헌팅  굿바이 마이 프랜드  그린 북  글래디에이터  나 홀로 집에    달링    당갈    덕구  \\\n",
       "date                                                                          \n",
       "20200407  9.58    9.35        9.35   9.6    9.39     9.41  9.35  9.47  9.42   \n",
       "20200408  9.58    9.35        9.35   9.6    9.39     9.41  9.35  9.47  9.42   \n",
       "20200409  9.58    9.35        9.35   9.6    9.39     9.41  9.35  9.47  9.42   \n",
       "20200410  9.58    9.35        9.35   9.6    9.39     9.41  9.35  9.47  9.41   \n",
       "20200411  9.58    9.35        9.35   9.6    9.39     9.41  9.35  9.47  9.41   \n",
       "\n",
       "name        동주  ...   클래식  클레멘타인  타이타닉  터미네이터 2:오리지널  토이 스토리 3  포드 V 페라리  \\\n",
       "date            ...                                                        \n",
       "20200407  9.36  ...  9.38   9.35  9.37          9.44      9.38       9.5   \n",
       "20200408  9.36  ...  9.38   9.35  9.37          9.44      9.38       9.5   \n",
       "20200409  9.36  ...  9.38   9.35  9.37          9.44      9.38       9.5   \n",
       "20200410  9.37  ...  9.38   9.35  9.37          9.44      9.38       9.5   \n",
       "20200411  9.37  ...  9.38   9.35  9.37          9.44      9.38       9.5   \n",
       "\n",
       "name      포레스트 검프  헌터 킬러    헬프  히든 피겨스  \n",
       "date                                    \n",
       "20200407      9.4   9.38  9.39    9.35  \n",
       "20200408      9.4   9.38  9.39    9.35  \n",
       "20200409      9.4   9.38  9.39    9.35  \n",
       "20200410      9.4   9.37  9.39    9.35  \n",
       "20200411      9.4   9.37  9.39    9.35  \n",
       "\n",
       "[5 rows x 51 columns]"
      ]
     },
     "execution_count": 163,
     "metadata": {},
     "output_type": "execute_result"
    }
   ],
   "source": [
    "movie_pivot.columns = movie_pivot.columns.droplevel()\n",
    "movie_pivot.head()"
   ]
  },
  {
   "cell_type": "code",
   "execution_count": 166,
   "metadata": {},
   "outputs": [
    {
     "data": {
      "image/png": "[encoded data removed]",
      "text/plain": [
       "<Figure size 1440x576 with 1 Axes>"
      ]
     },
     "metadata": {
      "needs_background": "light"
     },
     "output_type": "display_data"
    }
   ],
   "source": [
    "movie_name=['위대한 쇼맨', '클래식','토이 스토리 3','안녕 베일리','어벤져스: 엔드게임','알라딘','헌터 킬러']\n",
    "movie_pivot.plot(y=movie_pivot.columns[:10], figsize=(20, 8))\n",
    "plt.legend(loc='best')\n",
    "plt.grid()\n",
    "plt.show()"
   ]
  },
  {
   "cell_type": "code",
   "execution_count": null,
   "metadata": {},
   "outputs": [],
   "source": []
  }
 ],
 "metadata": {
  "kernelspec": {
   "display_name": "Python 3",
   "language": "python",
   "name": "python3"
  },
  "language_info": {
   "codemirror_mode": {
    "name": "ipython",
    "version": 3
   },
   "file_extension": ".py",
   "mimetype": "text/x-python",
   "name": "python",
   "nbconvert_exporter": "python",
   "pygments_lexer": "ipython3",
   "version": "3.7.6"
  }
 },
 "nbformat": 4,
 "nbformat_minor": 4
}
